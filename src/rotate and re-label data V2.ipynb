{
 "cells": [
  {
   "cell_type": "code",
   "execution_count": null,
   "metadata": {},
   "outputs": [],
   "source": [
    "import os\n",
    "from PIL import Image\n",
    "from numpy import random"
   ]
  },
  {
   "cell_type": "code",
   "execution_count": null,
   "metadata": {},
   "outputs": [],
   "source": [
    "cwd = os.getcwd()"
   ]
  },
  {
   "cell_type": "code",
   "execution_count": null,
   "metadata": {},
   "outputs": [],
   "source": [
    "directory = cwd + '/../data/mnist_png/'"
   ]
  },
  {
   "cell_type": "code",
   "execution_count": null,
   "metadata": {},
   "outputs": [],
   "source": [
    "#the following code rotates the images, and stored them in one folder with the name in the formate\n",
    "#number_angle_index.png"
   ]
  },
  {
   "cell_type": "code",
   "execution_count": null,
   "metadata": {},
   "outputs": [],
   "source": [
    "# from sympy.combinatorics.named_groups import *\n",
    "# #G = CyclicGroup(4)\n",
    "# G = DihedralGroup(4)\n",
    "\n",
    "# G = list(G.generate_dimino())\n",
    "\n",
    "# i_f_g = {}\n",
    "# g_f_i = {}\n",
    "# for i in range(len(G)):\n",
    "#     g_f_i[i] = G[i]\n",
    "#     i_f_g[G[i]] = i"
   ]
  },
  {
   "cell_type": "code",
   "execution_count": null,
   "metadata": {},
   "outputs": [],
   "source": [
    "# operations[g_f_i[0]] = (lambda x: tf.image.rot90(x, k =0))\n",
    "# operations[g_f_i[1]] = (lambda x: tf.image.rot90(x, k =3))\n",
    "# operations[g_f_i[2]] = (lambda x: tf.image.rot90(x, k =2))\n",
    "# operations[g_f_i[3]] = (lambda x: tf.image.rot90(x, k =1))\n",
    "\n",
    "# if len(G) > 4:\n",
    "#     operations[g_f_i[4]] = (lambda x: tf.image.flip_up_down(x))\n",
    "#     operations[g_f_i[5]] = (lambda x: tf.image.flip_left_right(tf.image.rot90(x, k = 1)))\n",
    "#     operations[g_f_i[6]] = (lambda x: tf.image.flip_left_right(x))\n",
    "#     operations[g_f_i[7]] = (lambda x: tf.image.flip_up_down(tf.image.rot90(x, k = 1)))"
   ]
  },
  {
   "cell_type": "code",
   "execution_count": null,
   "metadata": {},
   "outputs": [],
   "source": [
    "def change_pics(test_vs_train):\n",
    "    target_path = directory + test_vs_train + 'x'\n",
    "    for i in range(10):\n",
    "        source_path = directory + test_vs_train + '_raw/' + str(i)\n",
    "        pic_names = os.listdir(source_path)\n",
    "        for name in pic_names:\n",
    "            if test_vs_train == 'training':\n",
    "                j = 0\n",
    "            else:\n",
    "                j = random.randint(len(G))\n",
    "            with Image.open(source_path + '/' + name) as im:\n",
    "                if j in range(4):\n",
    "                    im_r = im.rotate(90 * (4-j))\n",
    "                elif j == 4:\n",
    "                    im_r = im.transpose(Image.FLIP_TOP_BOTTOM)\n",
    "                elif j == 5:\n",
    "                    im_r = im.rotate(90).transpose(Image.FLIP_LEFT_RIGHT)\n",
    "                elif j == 6:\n",
    "                    im_r = im.transpose(Image.FLIP_LEFT_RIGHT)\n",
    "                else:\n",
    "                    im_r = im.rotate(90).transpose(Image.FLIP_TOP_BOTTOM)\n",
    "                \n",
    "                im_r.save(target_path + '/' + str(i) + '_' + str(j) + '_' + name)\n",
    "                print (name)"
   ]
  },
  {
   "cell_type": "code",
   "execution_count": null,
   "metadata": {},
   "outputs": [],
   "source": [
    "change_pics('testing')\n",
    "change_pics('training')"
   ]
  },
  {
   "cell_type": "code",
   "execution_count": null,
   "metadata": {},
   "outputs": [],
   "source": [
    "def change_pics_sample(test_vs_train, i):\n",
    "    target_path = directory + 'samplesx'\n",
    "    source_path = directory + test_vs_train + '_raw/' + str(i)\n",
    "    pic_names = os.listdir(source_path)\n",
    "    name = pic_names[33]\n",
    "    for j in range(len(G)):\n",
    "        with Image.open(source_path + '/' + name) as im:\n",
    "            if j in range(4):\n",
    "                im_r = im.rotate(90 * (4-j))\n",
    "            elif j == 4:\n",
    "                im_r = im.transpose(Image.FLIP_TOP_BOTTOM)\n",
    "            elif j == 5:\n",
    "                im_r = im.rotate(90).transpose(Image.FLIP_LEFT_RIGHT)\n",
    "            elif j == 6:\n",
    "                im_r = im.transpose(Image.FLIP_LEFT_RIGHT)\n",
    "            else:\n",
    "                im_r = im.rotate(90).transpose(Image.FLIP_TOP_BOTTOM)\n",
    "\n",
    "            im_r.save(target_path + '/' + str(i) + '_' + str(j) + '_' + name)\n",
    "            print (name)"
   ]
  },
  {
   "cell_type": "code",
   "execution_count": null,
   "metadata": {},
   "outputs": [],
   "source": [
    "change_pics_sample('training', 7)"
   ]
  },
  {
   "cell_type": "code",
   "execution_count": null,
   "metadata": {},
   "outputs": [],
   "source": []
  }
 ],
 "metadata": {
  "kernelspec": {
   "display_name": "Python 3",
   "language": "python",
   "name": "python3"
  },
  "language_info": {
   "codemirror_mode": {
    "name": "ipython",
    "version": 3
   },
   "file_extension": ".py",
   "mimetype": "text/x-python",
   "name": "python",
   "nbconvert_exporter": "python",
   "pygments_lexer": "ipython3",
   "version": "3.7.3"
  }
 },
 "nbformat": 4,
 "nbformat_minor": 2
}
