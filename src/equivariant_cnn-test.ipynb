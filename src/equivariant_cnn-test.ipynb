{
 "cells": [
  {
   "cell_type": "code",
   "execution_count": 1,
   "metadata": {},
   "outputs": [],
   "source": [
    "from __future__ import absolute_import, division, print_function\n",
    "\n",
    "import math\n",
    "import numpy as np\n",
    "import h5py\n",
    "import matplotlib.pyplot as plt\n",
    "import tensorflow as tf\n",
    "from tensorflow.python.framework import ops\n",
    "from tensorflow.examples.tutorials.mnist import input_data\n",
    "from tensorflow import keras\n",
    "#from tf_utils import load_dataset, random_mini_batches, convert_to_one_hot, predict\n",
    "\n",
    "import skimage\n",
    "from skimage import data\n",
    "from skimage.transform import resize\n",
    "# import matplotlib.pyplot as plt\n",
    "from PIL import Image\n",
    "import matplotlib.image as mpimg\n",
    "import numpy as np\n",
    "# %matplotlib inline\n",
    "import glob\n",
    "\n",
    "\n",
    "tf.logging.set_verbosity(tf.logging.INFO)"
   ]
  },
  {
   "cell_type": "code",
   "execution_count": 2,
   "metadata": {},
   "outputs": [],
   "source": [
    "#data = input_data.read_data_sets('data/fashion')"
   ]
  },
  {
   "cell_type": "code",
   "execution_count": 3,
   "metadata": {},
   "outputs": [],
   "source": [
    "directory = '/Users/russ/gitlab/equivariant-neural-network-2/files/codes/data/mnist_png/'"
   ]
  },
  {
   "cell_type": "code",
   "execution_count": 4,
   "metadata": {},
   "outputs": [],
   "source": [
    "def str_to_vect(string, length):\n",
    "    string = int(string)\n",
    "    res = []\n",
    "    for i in range(length):\n",
    "        if i != string:\n",
    "            res.append(0)\n",
    "        else:\n",
    "            res.append(1)\n",
    "    return res"
   ]
  },
  {
   "cell_type": "code",
   "execution_count": 5,
   "metadata": {},
   "outputs": [],
   "source": [
    "def str_to_vect2(label, angle):\n",
    "    label = int(label)\n",
    "    angle = int(angle)\n",
    "    position = (4 - angle)%4\n",
    "    vector = []\n",
    "    for i in range(4):\n",
    "        for j in range(10):\n",
    "            if i == position and j == label:\n",
    "                vector.append(1)\n",
    "            else:\n",
    "                vector.append(0)\n",
    "    return vector"
   ]
  },
  {
   "cell_type": "code",
   "execution_count": 6,
   "metadata": {},
   "outputs": [],
   "source": [
    "#loaddata\n",
    "def loaddata(s):\n",
    "    filelist = glob.glob(directory + s + '/*.png')\n",
    "    y_temp = []\n",
    "    x_temp = []\n",
    "    print (directory + s + '/*.png')\n",
    "    for fname in filelist:\n",
    "        short_name = fname.split('/')[-1]\n",
    "        label, angle, name = short_name.split('_')\n",
    "        img = mpimg.imread(fname)\n",
    "        x_temp.append(img)\n",
    "        vector = str_to_vect2(label, angle)\n",
    "        y_temp.append(vector)\n",
    "\n",
    "    x = np.asarray(x_temp)\n",
    "    y = np.asarray(y_temp)\n",
    "    print (s + ' import done. the shapes of x and y are:', x.shape, y.shape)\n",
    "    return x, y\n"
   ]
  },
  {
   "cell_type": "code",
   "execution_count": 7,
   "metadata": {},
   "outputs": [
    {
     "name": "stdout",
     "output_type": "stream",
     "text": [
      "/Users/russ/gitlab/equivariant-neural-network-2/files/codes/data/mnist_png/training/*.png\n",
      "training import done. the shapes of x and y are: (60000, 28, 28) (60000, 40)\n"
     ]
    }
   ],
   "source": [
    "train_x, train_y = loaddata('training')"
   ]
  },
  {
   "cell_type": "code",
   "execution_count": 8,
   "metadata": {},
   "outputs": [
    {
     "name": "stdout",
     "output_type": "stream",
     "text": [
      "/Users/russ/gitlab/equivariant-neural-network-2/files/codes/data/mnist_png/testing/*.png\n",
      "testing import done. the shapes of x and y are: (10000, 28, 28) (10000, 40)\n"
     ]
    }
   ],
   "source": [
    "test_x, test_y = loaddata('testing')"
   ]
  },
  {
   "cell_type": "code",
   "execution_count": 9,
   "metadata": {},
   "outputs": [],
   "source": [
    "# fashion_mnist = keras.datasets.fashion_mnist\n",
    "# (train_images, train_labels), (test_images, test_labels) = fashion_mnist.load_data()"
   ]
  },
  {
   "cell_type": "code",
   "execution_count": 10,
   "metadata": {},
   "outputs": [],
   "source": [
    "# class_names = ['T-shirt/top', 'Trouser', 'Pullover', 'Dress', 'Coat', \n",
    "#                'Sandal', 'Shirt', 'Sneaker', 'Bag', 'Ankle boot']"
   ]
  },
  {
   "cell_type": "code",
   "execution_count": 11,
   "metadata": {},
   "outputs": [],
   "source": [
    "# train_images.shape"
   ]
  },
  {
   "cell_type": "code",
   "execution_count": 12,
   "metadata": {},
   "outputs": [
    {
     "data": {
      "image/png": "[encoded data removed]",
      "text/plain": [
       "<Figure size 432x288 with 2 Axes>"
      ]
     },
     "metadata": {
      "needs_background": "light"
     },
     "output_type": "display_data"
    }
   ],
   "source": [
    "plt.figure()\n",
    "plt.imshow(test_x[5])\n",
    "plt.colorbar()\n",
    "plt.grid(False)\n",
    "plt.show()"
   ]
  },
  {
   "cell_type": "code",
   "execution_count": 13,
   "metadata": {},
   "outputs": [
    {
     "data": {
      "text/plain": [
       "array([0, 0, 0, 0, 0, 0, 0, 0, 0, 0, 0, 0, 1, 0, 0, 0, 0, 0, 0, 0, 0, 0,\n",
       "       0, 0, 0, 0, 0, 0, 0, 0, 0, 0, 0, 0, 0, 0, 0, 0, 0, 0])"
      ]
     },
     "execution_count": 13,
     "metadata": {},
     "output_type": "execute_result"
    }
   ],
   "source": [
    "test_y[5]"
   ]
  },
  {
   "cell_type": "code",
   "execution_count": 14,
   "metadata": {},
   "outputs": [],
   "source": [
    "# plt.figure(figsize=(10,10))\n",
    "# for i in range(25):\n",
    "#     plt.subplot(5,5,i+1)\n",
    "#     plt.xticks([])\n",
    "#     plt.yticks([])\n",
    "#     plt.grid(False)\n",
    "#     plt.imshow(train_images[i], cmap=plt.cm.binary)\n",
    "#     plt.xlabel(class_names[train_labels[i]])\n",
    "# plt.show()"
   ]
  },
  {
   "cell_type": "code",
   "execution_count": 15,
   "metadata": {},
   "outputs": [
    {
     "data": {
      "text/plain": [
       "(60000, 28, 28)"
      ]
     },
     "execution_count": 15,
     "metadata": {},
     "output_type": "execute_result"
    }
   ],
   "source": [
    "train_x.shape"
   ]
  },
  {
   "cell_type": "code",
   "execution_count": 16,
   "metadata": {},
   "outputs": [],
   "source": [
    "def compute_cost(Z, Y):\n",
    "    cost = tf.reduce_mean(tf.nn.softmax_cross_entropy_with_logits(logits = Z, labels = Y))    \n",
    "    return cost"
   ]
  },
  {
   "cell_type": "code",
   "execution_count": 42,
   "metadata": {},
   "outputs": [],
   "source": [
    "def cnn_model_fn(features, labels, mode):\n",
    "    \"\"\"Model function for CNN.\"\"\"\n",
    "    # Input Layer\n",
    "    input_layer = tf.reshape(features[\"x\"], [-1, 28, 28, 1])\n",
    "    \n",
    "    g1_input_layer = tf.image.rot90(input_layer)\n",
    "    g2_input_layer = tf.image.rot90(input_layer, k=2)\n",
    "    g3_input_layer = tf.image.rot90(input_layer, k=3)\n",
    "    # Convolutional Layer #1\n",
    "    conv1_0 = tf.layers.conv2d(\n",
    "      inputs=input_layer,\n",
    "      filters=80,\n",
    "      kernel_size=[3, 3],\n",
    "      padding=\"same\",\n",
    "      activation=tf.nn.relu,\n",
    "      reuse = None,\n",
    "      name = 'conv1')\n",
    "    \n",
    "    conv1_1 = tf.layers.conv2d(\n",
    "      inputs=g1_input_layer,\n",
    "      filters=80,\n",
    "      kernel_size=[3, 3],\n",
    "      padding=\"same\",\n",
    "      activation=tf.nn.relu,\n",
    "      reuse = True,\n",
    "      name = 'conv1')    \n",
    "\n",
    "    conv1_2 = tf.layers.conv2d(\n",
    "      inputs=g2_input_layer,\n",
    "      filters=80,\n",
    "      kernel_size=[3, 3],\n",
    "      padding=\"same\",\n",
    "      activation=tf.nn.relu,\n",
    "      reuse = True,\n",
    "      name = 'conv1')  \n",
    "\n",
    "    conv1_3 = tf.layers.conv2d(\n",
    "      inputs=g3_input_layer,\n",
    "      filters=80,\n",
    "      kernel_size=[3, 3],\n",
    "      padding=\"same\",\n",
    "      activation=tf.nn.relu,\n",
    "      reuse = True,\n",
    "      name = 'conv1') \n",
    "    \n",
    "    conv1    = tf.concat([conv1_0, conv1_1, conv1_2, conv1_3], axis = 3)\n",
    "    g1_conv1 = tf.concat([conv1_1, conv1_2, conv1_3, conv1_0], axis = 3)\n",
    "    g2_conv1 = tf.concat([conv1_2, conv1_3, conv1_0, conv1_1], axis = 3)\n",
    "    g3_conv1 = tf.concat([conv1_3, conv1_0, conv1_1, conv1_2], axis = 3)\n",
    "    \n",
    "    # Pooling Layer #1\n",
    "    #pool1 = tf.layers.max_pooling2d(inputs=conv1, pool_size=[3, 3], strides=3)\n",
    "\n",
    "    # Convolutional Layer #2 and Pooling Layer #2\n",
    "    conv2_0 = tf.layers.conv2d(\n",
    "      inputs=conv1,\n",
    "      filters=80,\n",
    "      kernel_size=[3, 3],\n",
    "      padding=\"same\",\n",
    "      reuse = None,\n",
    "      activation=tf.nn.relu,\n",
    "      name = 'conv2')\n",
    "    \n",
    "    conv2_1 = tf.layers.conv2d(\n",
    "      inputs=g1_conv1,\n",
    "      filters=80,\n",
    "      kernel_size=[3, 3],\n",
    "      padding=\"same\",\n",
    "      reuse = True,\n",
    "      activation=tf.nn.relu,\n",
    "      name = 'conv2')\n",
    "\n",
    "    conv2_2 = tf.layers.conv2d(\n",
    "      inputs=g2_conv1,\n",
    "      filters=80,\n",
    "      kernel_size=[3, 3],\n",
    "      padding=\"same\",\n",
    "      reuse = True,\n",
    "      activation=tf.nn.relu,\n",
    "      name = 'conv2')\n",
    "\n",
    "    conv2_3 = tf.layers.conv2d(\n",
    "      inputs=g3_conv1,\n",
    "      filters=80,\n",
    "      kernel_size=[3, 3],\n",
    "      padding=\"same\",\n",
    "      reuse = True,\n",
    "      activation=tf.nn.relu,\n",
    "      name = 'conv2')\n",
    "    \n",
    "    conv2    = tf.concat([conv2_0, conv2_1, conv2_2, conv2_3], axis = 3)\n",
    "    g1_conv2 = tf.concat([conv2_1, conv2_2, conv2_3, conv2_0], axis = 3)\n",
    "    g2_conv2 = tf.concat([conv2_2, conv2_3, conv2_0, conv2_1], axis = 3)\n",
    "    g3_conv2 = tf.concat([conv2_3, conv2_0, conv2_1, conv2_2], axis = 3)\n",
    "    #pool2 = tf.layers.max_pooling2d(inputs=conv2, pool_size=[3, 3], strides=3)\n",
    "\n",
    "    conv3_0 = tf.layers.conv2d(\n",
    "      inputs=conv2,\n",
    "      filters=32,\n",
    "      kernel_size=[3, 3],\n",
    "      padding=\"same\",\n",
    "      reuse = None,\n",
    "      activation=tf.nn.relu,\n",
    "      name = 'conv3')\n",
    "\n",
    "    conv3_1 = tf.layers.conv2d(\n",
    "      inputs=g1_conv2,\n",
    "      filters=32,\n",
    "      kernel_size=[3, 3],\n",
    "      padding=\"same\",\n",
    "      reuse = True,\n",
    "      activation=tf.nn.relu,\n",
    "      name = 'conv3')\n",
    "\n",
    "    conv3_2 = tf.layers.conv2d(\n",
    "      inputs=g2_conv2,\n",
    "      filters=32,\n",
    "      kernel_size=[3, 3],\n",
    "      padding=\"same\",\n",
    "      reuse = True,\n",
    "      activation=tf.nn.relu,\n",
    "      name = 'conv3')\n",
    "\n",
    "    conv3_3 = tf.layers.conv2d(\n",
    "      inputs=g3_conv2,\n",
    "      filters=32,\n",
    "      kernel_size=[3, 3],\n",
    "      padding=\"same\",\n",
    "      reuse = True,\n",
    "      activation=tf.nn.relu,\n",
    "      name = 'conv3')\n",
    "    \n",
    "    conv3    = tf.concat([conv3_0, conv3_1, conv3_2, conv3_3], axis = 3)\n",
    "    g1_conv3 = tf.concat([conv3_1, conv3_2, conv3_3, conv3_0], axis = 3)\n",
    "    g2_conv3 = tf.concat([conv3_2, conv3_3, conv3_0, conv3_1], axis = 3)\n",
    "    g3_conv3 = tf.concat([conv3_3, conv3_0, conv3_1, conv3_2], axis = 3)\n",
    "    \n",
    "    pool4_0 = tf.layers.max_pooling2d(inputs=conv3, pool_size=[4, 4], strides=4)\n",
    "    pool4_1 = tf.layers.max_pooling2d(inputs=g1_conv3, pool_size=[4, 4], strides=4)\n",
    "    pool4_2 = tf.layers.max_pooling2d(inputs=g2_conv3, pool_size=[4, 4], strides=4)\n",
    "    pool4_3 = tf.layers.max_pooling2d(inputs=g3_conv3, pool_size=[4, 4], strides=4)\n",
    "    \n",
    "    pool4_0_flat = tf.reshape(pool4_0, [-1, 7 * 7 * 128])\n",
    "    pool4_1_flat = tf.reshape(pool4_1, [-1, 7 * 7 * 128])\n",
    "    pool4_2_flat = tf.reshape(pool4_2, [-1, 7 * 7 * 128])\n",
    "    pool4_3_flat = tf.reshape(pool4_3, [-1, 7 * 7 * 128])\n",
    "    \n",
    "    #print('pool4_0_flat=', pool4_0_flat.shape)\n",
    "    \n",
    "    dense_0 = tf.layers.dense(inputs=pool4_0_flat, \n",
    "                              units=1024, \n",
    "                              activation=tf.nn.relu,\n",
    "                              reuse = None,\n",
    "                              name = 'dense')\n",
    "\n",
    "    dense_1 = tf.layers.dense(inputs=pool4_1_flat, \n",
    "                              units=1024, \n",
    "                              activation=tf.nn.relu,\n",
    "                              reuse = True,\n",
    "                              name = 'dense')\n",
    "\n",
    "    dense_2 = tf.layers.dense(inputs=pool4_2_flat, \n",
    "                              units=1024, \n",
    "                              activation=tf.nn.relu,\n",
    "                              reuse = True,\n",
    "                              name = 'dense')\n",
    "    \n",
    "    dense_3 = tf.layers.dense(inputs=pool4_3_flat, \n",
    "                              units=1024, \n",
    "                              activation=tf.nn.relu,\n",
    "                              reuse = True,\n",
    "                              name = 'dense')\n",
    "    \n",
    "    #print('dense_0=', dense_0.shape)\n",
    "    #dropout = tf.layers.dropout(\n",
    "      #inputs=dense, rate=0.4, training=mode == tf.estimator.ModeKeys.TRAIN)\n",
    "\n",
    "    # Logits Layer\n",
    "    logits_0 = tf.layers.dense(inputs=dense_0,\n",
    "                               units=10,\n",
    "                               reuse = None,\n",
    "                               name = 'logi'\n",
    "                              )\n",
    "    #print ('logits_0_reshape', logits_0_reshape.shape)\n",
    "\n",
    "    logits_1 = tf.layers.dense(inputs=dense_1, \n",
    "                               units=10,\n",
    "                               reuse = True,\n",
    "                               name = 'logi'\n",
    "                              )\n",
    "\n",
    "    \n",
    "    logits_2 = tf.layers.dense(inputs=dense_2, \n",
    "                               units=10,\n",
    "                               reuse = True,\n",
    "                               name = 'logi'\n",
    "                              )\n",
    "    \n",
    "    logits_3 = tf.layers.dense(inputs=dense_3, \n",
    "                               units=10,\n",
    "                               reuse = True,\n",
    "                               name = 'logi'\n",
    "                              )\n",
    "    \n",
    "    #print ('logits_0.shape =', logits_0.shape)\n",
    "    #print([x.name for x in tf.global_variables()])\n",
    "    final = tf.concat([logits_0, logits_1, logits_2, logits_3], axis = 1)\n",
    "    #print ('final_flat.shape =', final_flat.shape)\n",
    "    \n",
    "    predictions = {\n",
    "      # Generate predictions (for PREDICT and EVAL mode)\n",
    "      \"classes\": tf.argmax(input=final, axis= 1),\n",
    "      # Add `softmax_tensor` to the graph. It is used for PREDICT and by the\n",
    "      # `logging_hook`.\n",
    "      \"probabilities\": tf.nn.softmax(final, name=\"softmax_tensor\")\n",
    "    }\n",
    "    \n",
    "    #print ('prediction looks fine')\n",
    "    if mode == tf.estimator.ModeKeys.PREDICT:\n",
    "        return tf.estimator.EstimatorSpec(mode=mode, predictions=predictions)\n",
    "\n",
    "    # Calculate Loss (for both TRAIN and EVAL modes)\n",
    "    #print (final.shape, labels.shape)\n",
    "    loss = compute_cost(final, labels)\n",
    "    #loss = tf.losses.sparse_softmax_cross_entropy(labels=labels, logits=final_flat)\n",
    "\n",
    "    # Configure the Training Op (for TRAIN mode)\n",
    "    if mode == tf.estimator.ModeKeys.TRAIN:\n",
    "        optimizer = tf.train.AdamOptimizer(learning_rate=0.0001)\n",
    "        train_op = optimizer.minimize(\n",
    "            loss=loss,\n",
    "            global_step=tf.train.get_global_step())\n",
    "        return tf.estimator.EstimatorSpec(mode=mode, loss=loss, train_op=train_op)\n",
    "\n",
    "    # Add evaluation metrics (for EVAL mode)\n",
    "    eval_metric_ops = {\n",
    "      \"accuracy\": tf.metrics.accuracy(\n",
    "          labels=tf.argmax(input=labels, axis= -1), predictions=predictions[\"classes\"])\n",
    "    }\n",
    "    return tf.estimator.EstimatorSpec(\n",
    "        mode=mode, loss=loss, eval_metric_ops=eval_metric_ops)"
   ]
  },
  {
   "cell_type": "code",
   "execution_count": 43,
   "metadata": {},
   "outputs": [],
   "source": [
    "#Load minist training and eval data\n",
    "#instead, this loads the mnist\n",
    "# ((train_data, train_labels),\n",
    "# (eval_data, eval_labels)) = tf.keras.datasets.mnist.load_data()\n",
    "# train_data = train_data / 255.0\n",
    "# eval_data = eval_data / 255.0\n",
    "# train_labels = train_labels.astype(np.int32)\n",
    "# eval_labels = eval_labels.astype(np.int32)"
   ]
  },
  {
   "cell_type": "code",
   "execution_count": 44,
   "metadata": {},
   "outputs": [],
   "source": [
    "# #either use this cell, or the cell above\n",
    "# train_data = train_x / 255.0\n",
    "# eval_data = test_x / 255.0\n",
    "\n",
    "# train_labels = np.argmax(train_y, axis = -1).astype(np.int32)  # not required\n",
    "# eval_labels = np.argmax(test_y, axis = -1).astype(np.int32)  # not required"
   ]
  },
  {
   "cell_type": "code",
   "execution_count": 45,
   "metadata": {},
   "outputs": [],
   "source": [
    "train_data = train_x / 255.0\n",
    "eval_data = test_x / 255.0\n",
    "\n",
    "train_labels = train_y.astype(np.int32)  # not required\n",
    "eval_labels = test_y.astype(np.int32)  # not required"
   ]
  },
  {
   "cell_type": "code",
   "execution_count": 46,
   "metadata": {},
   "outputs": [
    {
     "data": {
      "text/plain": [
       "((60000, 28, 28), (60000, 40))"
      ]
     },
     "execution_count": 46,
     "metadata": {},
     "output_type": "execute_result"
    }
   ],
   "source": [
    "train_data.shape, train_labels.shape"
   ]
  },
  {
   "cell_type": "code",
   "execution_count": 47,
   "metadata": {},
   "outputs": [
    {
     "data": {
      "text/plain": [
       "((10000, 28, 28), (10000, 40))"
      ]
     },
     "execution_count": 47,
     "metadata": {},
     "output_type": "execute_result"
    }
   ],
   "source": [
    "eval_data.shape, eval_labels.shape"
   ]
  },
  {
   "cell_type": "code",
   "execution_count": 48,
   "metadata": {},
   "outputs": [
    {
     "name": "stdout",
     "output_type": "stream",
     "text": [
      "INFO:tensorflow:Using default config.\n",
      "WARNING:tensorflow:Using temporary folder as model directory: /var/folders/s0/_bjfgcs11910zcp53lw2y3pc0000gn/T/tmpwgbhb4nm\n",
      "INFO:tensorflow:Using config: {'_model_dir': '/var/folders/s0/_bjfgcs11910zcp53lw2y3pc0000gn/T/tmpwgbhb4nm', '_tf_random_seed': None, '_save_summary_steps': 100, '_save_checkpoints_steps': None, '_save_checkpoints_secs': 600, '_session_config': allow_soft_placement: true\n",
      "graph_options {\n",
      "  rewrite_options {\n",
      "    meta_optimizer_iterations: ONE\n",
      "  }\n",
      "}\n",
      ", '_keep_checkpoint_max': 5, '_keep_checkpoint_every_n_hours': 10000, '_log_step_count_steps': 100, '_train_distribute': None, '_device_fn': None, '_protocol': None, '_eval_distribute': None, '_experimental_distribute': None, '_service': None, '_cluster_spec': <tensorflow.python.training.server_lib.ClusterSpec object at 0x13144ce10>, '_task_type': 'worker', '_task_id': 0, '_global_id_in_cluster': 0, '_master': '', '_evaluation_master': '', '_is_chief': True, '_num_ps_replicas': 0, '_num_worker_replicas': 1}\n"
     ]
    }
   ],
   "source": [
    "mnist_classifier = tf.estimator.Estimator(\n",
    "    model_fn=cnn_model_fn)"
   ]
  },
  {
   "cell_type": "code",
   "execution_count": 49,
   "metadata": {},
   "outputs": [],
   "source": [
    "tensors_to_log = {\"probabilities\": \"softmax_tensor\"}\n",
    "\n",
    "logging_hook = tf.train.LoggingTensorHook(\n",
    "    tensors=tensors_to_log, every_n_iter=50)"
   ]
  },
  {
   "cell_type": "code",
   "execution_count": 50,
   "metadata": {},
   "outputs": [
    {
     "name": "stdout",
     "output_type": "stream",
     "text": [
      "INFO:tensorflow:Calling model_fn.\n",
      "INFO:tensorflow:Done calling model_fn.\n",
      "INFO:tensorflow:Create CheckpointSaverHook.\n",
      "INFO:tensorflow:Graph was finalized.\n",
      "INFO:tensorflow:Running local_init_op.\n",
      "INFO:tensorflow:Done running local_init_op.\n",
      "INFO:tensorflow:Saving checkpoints for 0 into /var/folders/s0/_bjfgcs11910zcp53lw2y3pc0000gn/T/tmpwgbhb4nm/model.ckpt.\n",
      "INFO:tensorflow:probabilities = [[0.02501056 0.02500975 0.02499076 ... 0.02501195 0.02499745 0.0249816 ]\n",
      " [0.02500858 0.02500818 0.02499193 ... 0.02500384 0.02499986 0.02498108]\n",
      " [0.02501018 0.02500887 0.02499267 ... 0.02500757 0.02499852 0.02498125]\n",
      " ...\n",
      " [0.02500793 0.02500525 0.02499345 ... 0.0250061  0.02500187 0.02498598]\n",
      " [0.02501057 0.0250127  0.02498638 ... 0.02500574 0.02499798 0.02497704]\n",
      " [0.02500679 0.02500747 0.02499319 ... 0.0250047  0.02499846 0.02498267]]\n",
      "INFO:tensorflow:loss = 3.6889029, step = 1\n",
      "INFO:tensorflow:Saving checkpoints for 1 into /var/folders/s0/_bjfgcs11910zcp53lw2y3pc0000gn/T/tmpwgbhb4nm/model.ckpt.\n",
      "INFO:tensorflow:Loss for final step: 3.6889029.\n"
     ]
    },
    {
     "data": {
      "text/plain": [
       "<tensorflow_estimator.python.estimator.estimator.Estimator at 0x13144cb70>"
      ]
     },
     "execution_count": 50,
     "metadata": {},
     "output_type": "execute_result"
    }
   ],
   "source": [
    "# Train the model\n",
    "train_input_fn = tf.estimator.inputs.numpy_input_fn(\n",
    "    x={\"x\": train_data},\n",
    "    y=train_labels,\n",
    "    batch_size=200,\n",
    "    num_epochs=None,\n",
    "    shuffle=True)\n",
    "\n",
    "# train one step and display the probabilties\n",
    "mnist_classifier.train(\n",
    "    input_fn=train_input_fn,\n",
    "    steps=1,\n",
    "    hooks=[logging_hook])"
   ]
  },
  {
   "cell_type": "code",
   "execution_count": 59,
   "metadata": {},
   "outputs": [
    {
     "name": "stdout",
     "output_type": "stream",
     "text": [
      "INFO:tensorflow:Calling model_fn.\n",
      "INFO:tensorflow:Done calling model_fn.\n",
      "INFO:tensorflow:Create CheckpointSaverHook.\n",
      "INFO:tensorflow:Graph was finalized.\n",
      "INFO:tensorflow:Restoring parameters from /var/folders/s0/_bjfgcs11910zcp53lw2y3pc0000gn/T/tmpwgbhb4nm/model.ckpt-201\n",
      "INFO:tensorflow:Running local_init_op.\n",
      "INFO:tensorflow:Done running local_init_op.\n",
      "INFO:tensorflow:Saving checkpoints for 201 into /var/folders/s0/_bjfgcs11910zcp53lw2y3pc0000gn/T/tmpwgbhb4nm/model.ckpt.\n",
      "INFO:tensorflow:loss = 1.0294033, step = 202\n",
      "INFO:tensorflow:Saving checkpoints for 231 into /var/folders/s0/_bjfgcs11910zcp53lw2y3pc0000gn/T/tmpwgbhb4nm/model.ckpt.\n",
      "INFO:tensorflow:Saving checkpoints for 262 into /var/folders/s0/_bjfgcs11910zcp53lw2y3pc0000gn/T/tmpwgbhb4nm/model.ckpt.\n",
      "INFO:tensorflow:Saving checkpoints for 294 into /var/folders/s0/_bjfgcs11910zcp53lw2y3pc0000gn/T/tmpwgbhb4nm/model.ckpt.\n",
      "INFO:tensorflow:global_step/sec: 0.0507565\n",
      "INFO:tensorflow:loss = 0.58555543, step = 302 (1970.201 sec)\n",
      "INFO:tensorflow:Saving checkpoints for 326 into /var/folders/s0/_bjfgcs11910zcp53lw2y3pc0000gn/T/tmpwgbhb4nm/model.ckpt.\n",
      "INFO:tensorflow:Saving checkpoints for 358 into /var/folders/s0/_bjfgcs11910zcp53lw2y3pc0000gn/T/tmpwgbhb4nm/model.ckpt.\n",
      "INFO:tensorflow:Saving checkpoints for 390 into /var/folders/s0/_bjfgcs11910zcp53lw2y3pc0000gn/T/tmpwgbhb4nm/model.ckpt.\n",
      "INFO:tensorflow:global_step/sec: 0.0523151\n",
      "INFO:tensorflow:loss = 0.486737, step = 402 (1911.497 sec)\n",
      "INFO:tensorflow:Saving checkpoints for 422 into /var/folders/s0/_bjfgcs11910zcp53lw2y3pc0000gn/T/tmpwgbhb4nm/model.ckpt.\n",
      "INFO:tensorflow:Saving checkpoints for 454 into /var/folders/s0/_bjfgcs11910zcp53lw2y3pc0000gn/T/tmpwgbhb4nm/model.ckpt.\n",
      "INFO:tensorflow:Saving checkpoints for 486 into /var/folders/s0/_bjfgcs11910zcp53lw2y3pc0000gn/T/tmpwgbhb4nm/model.ckpt.\n",
      "INFO:tensorflow:global_step/sec: 0.0526493\n",
      "INFO:tensorflow:loss = 0.37610766, step = 502 (1899.358 sec)\n",
      "INFO:tensorflow:Saving checkpoints for 518 into /var/folders/s0/_bjfgcs11910zcp53lw2y3pc0000gn/T/tmpwgbhb4nm/model.ckpt.\n",
      "INFO:tensorflow:Saving checkpoints for 550 into /var/folders/s0/_bjfgcs11910zcp53lw2y3pc0000gn/T/tmpwgbhb4nm/model.ckpt.\n",
      "INFO:tensorflow:Saving checkpoints for 582 into /var/folders/s0/_bjfgcs11910zcp53lw2y3pc0000gn/T/tmpwgbhb4nm/model.ckpt.\n",
      "INFO:tensorflow:global_step/sec: 0.052722\n",
      "INFO:tensorflow:loss = 0.3584961, step = 602 (1896.743 sec)\n",
      "INFO:tensorflow:Saving checkpoints for 614 into /var/folders/s0/_bjfgcs11910zcp53lw2y3pc0000gn/T/tmpwgbhb4nm/model.ckpt.\n",
      "INFO:tensorflow:Saving checkpoints for 646 into /var/folders/s0/_bjfgcs11910zcp53lw2y3pc0000gn/T/tmpwgbhb4nm/model.ckpt.\n",
      "INFO:tensorflow:Saving checkpoints for 678 into /var/folders/s0/_bjfgcs11910zcp53lw2y3pc0000gn/T/tmpwgbhb4nm/model.ckpt.\n",
      "INFO:tensorflow:global_step/sec: 0.0530377\n",
      "INFO:tensorflow:loss = 0.35393542, step = 702 (1885.450 sec)\n",
      "INFO:tensorflow:Saving checkpoints for 710 into /var/folders/s0/_bjfgcs11910zcp53lw2y3pc0000gn/T/tmpwgbhb4nm/model.ckpt.\n",
      "INFO:tensorflow:Saving checkpoints for 742 into /var/folders/s0/_bjfgcs11910zcp53lw2y3pc0000gn/T/tmpwgbhb4nm/model.ckpt.\n",
      "INFO:tensorflow:Saving checkpoints for 774 into /var/folders/s0/_bjfgcs11910zcp53lw2y3pc0000gn/T/tmpwgbhb4nm/model.ckpt.\n",
      "INFO:tensorflow:global_step/sec: 0.0529297\n",
      "INFO:tensorflow:loss = 0.31410125, step = 802 (1889.292 sec)\n",
      "INFO:tensorflow:Saving checkpoints for 806 into /var/folders/s0/_bjfgcs11910zcp53lw2y3pc0000gn/T/tmpwgbhb4nm/model.ckpt.\n",
      "INFO:tensorflow:Saving checkpoints for 838 into /var/folders/s0/_bjfgcs11910zcp53lw2y3pc0000gn/T/tmpwgbhb4nm/model.ckpt.\n",
      "INFO:tensorflow:Saving checkpoints for 870 into /var/folders/s0/_bjfgcs11910zcp53lw2y3pc0000gn/T/tmpwgbhb4nm/model.ckpt.\n",
      "INFO:tensorflow:Saving checkpoints for 902 into /var/folders/s0/_bjfgcs11910zcp53lw2y3pc0000gn/T/tmpwgbhb4nm/model.ckpt.\n",
      "INFO:tensorflow:global_step/sec: 0.0530556\n",
      "INFO:tensorflow:loss = 0.3430312, step = 902 (1884.812 sec)\n",
      "INFO:tensorflow:Saving checkpoints for 934 into /var/folders/s0/_bjfgcs11910zcp53lw2y3pc0000gn/T/tmpwgbhb4nm/model.ckpt.\n",
      "INFO:tensorflow:Saving checkpoints for 966 into /var/folders/s0/_bjfgcs11910zcp53lw2y3pc0000gn/T/tmpwgbhb4nm/model.ckpt.\n",
      "INFO:tensorflow:Saving checkpoints for 998 into /var/folders/s0/_bjfgcs11910zcp53lw2y3pc0000gn/T/tmpwgbhb4nm/model.ckpt.\n",
      "INFO:tensorflow:global_step/sec: 0.053015\n",
      "INFO:tensorflow:loss = 0.2779513, step = 1002 (1886.261 sec)\n",
      "INFO:tensorflow:Saving checkpoints for 1030 into /var/folders/s0/_bjfgcs11910zcp53lw2y3pc0000gn/T/tmpwgbhb4nm/model.ckpt.\n",
      "INFO:tensorflow:Saving checkpoints for 1062 into /var/folders/s0/_bjfgcs11910zcp53lw2y3pc0000gn/T/tmpwgbhb4nm/model.ckpt.\n",
      "INFO:tensorflow:Saving checkpoints for 1094 into /var/folders/s0/_bjfgcs11910zcp53lw2y3pc0000gn/T/tmpwgbhb4nm/model.ckpt.\n",
      "INFO:tensorflow:global_step/sec: 0.0530423\n",
      "INFO:tensorflow:loss = 0.24134724, step = 1102 (1885.292 sec)\n",
      "INFO:tensorflow:Saving checkpoints for 1126 into /var/folders/s0/_bjfgcs11910zcp53lw2y3pc0000gn/T/tmpwgbhb4nm/model.ckpt.\n",
      "INFO:tensorflow:Saving checkpoints for 1158 into /var/folders/s0/_bjfgcs11910zcp53lw2y3pc0000gn/T/tmpwgbhb4nm/model.ckpt.\n",
      "INFO:tensorflow:Saving checkpoints for 1191 into /var/folders/s0/_bjfgcs11910zcp53lw2y3pc0000gn/T/tmpwgbhb4nm/model.ckpt.\n",
      "INFO:tensorflow:global_step/sec: 0.0532102\n",
      "INFO:tensorflow:loss = 0.28370148, step = 1202 (1879.336 sec)\n",
      "INFO:tensorflow:Saving checkpoints for 1224 into /var/folders/s0/_bjfgcs11910zcp53lw2y3pc0000gn/T/tmpwgbhb4nm/model.ckpt.\n",
      "INFO:tensorflow:Saving checkpoints for 1256 into /var/folders/s0/_bjfgcs11910zcp53lw2y3pc0000gn/T/tmpwgbhb4nm/model.ckpt.\n",
      "INFO:tensorflow:Saving checkpoints for 1288 into /var/folders/s0/_bjfgcs11910zcp53lw2y3pc0000gn/T/tmpwgbhb4nm/model.ckpt.\n",
      "INFO:tensorflow:global_step/sec: 0.0530331\n",
      "INFO:tensorflow:loss = 0.19721673, step = 1302 (1885.623 sec)\n",
      "INFO:tensorflow:Saving checkpoints for 1320 into /var/folders/s0/_bjfgcs11910zcp53lw2y3pc0000gn/T/tmpwgbhb4nm/model.ckpt.\n",
      "INFO:tensorflow:Saving checkpoints for 1352 into /var/folders/s0/_bjfgcs11910zcp53lw2y3pc0000gn/T/tmpwgbhb4nm/model.ckpt.\n",
      "INFO:tensorflow:Saving checkpoints for 1384 into /var/folders/s0/_bjfgcs11910zcp53lw2y3pc0000gn/T/tmpwgbhb4nm/model.ckpt.\n",
      "INFO:tensorflow:global_step/sec: 0.0527353\n",
      "INFO:tensorflow:loss = 0.27051935, step = 1402 (1896.259 sec)\n",
      "INFO:tensorflow:Saving checkpoints for 1415 into /var/folders/s0/_bjfgcs11910zcp53lw2y3pc0000gn/T/tmpwgbhb4nm/model.ckpt.\n",
      "INFO:tensorflow:Saving checkpoints for 1447 into /var/folders/s0/_bjfgcs11910zcp53lw2y3pc0000gn/T/tmpwgbhb4nm/model.ckpt.\n",
      "INFO:tensorflow:Saving checkpoints for 1479 into /var/folders/s0/_bjfgcs11910zcp53lw2y3pc0000gn/T/tmpwgbhb4nm/model.ckpt.\n",
      "INFO:tensorflow:global_step/sec: 0.0526251\n",
      "INFO:tensorflow:loss = 0.18937215, step = 1502 (1900.233 sec)\n",
      "INFO:tensorflow:Saving checkpoints for 1511 into /var/folders/s0/_bjfgcs11910zcp53lw2y3pc0000gn/T/tmpwgbhb4nm/model.ckpt.\n",
      "INFO:tensorflow:Saving checkpoints for 1542 into /var/folders/s0/_bjfgcs11910zcp53lw2y3pc0000gn/T/tmpwgbhb4nm/model.ckpt.\n",
      "INFO:tensorflow:Saving checkpoints for 1574 into /var/folders/s0/_bjfgcs11910zcp53lw2y3pc0000gn/T/tmpwgbhb4nm/model.ckpt.\n",
      "INFO:tensorflow:global_step/sec: 0.051878\n",
      "INFO:tensorflow:loss = 0.11221603, step = 1602 (1927.598 sec)\n",
      "INFO:tensorflow:Saving checkpoints for 1606 into /var/folders/s0/_bjfgcs11910zcp53lw2y3pc0000gn/T/tmpwgbhb4nm/model.ckpt.\n",
      "INFO:tensorflow:Saving checkpoints for 1638 into /var/folders/s0/_bjfgcs11910zcp53lw2y3pc0000gn/T/tmpwgbhb4nm/model.ckpt.\n",
      "INFO:tensorflow:Saving checkpoints for 1670 into /var/folders/s0/_bjfgcs11910zcp53lw2y3pc0000gn/T/tmpwgbhb4nm/model.ckpt.\n",
      "INFO:tensorflow:Saving checkpoints for 1702 into /var/folders/s0/_bjfgcs11910zcp53lw2y3pc0000gn/T/tmpwgbhb4nm/model.ckpt.\n",
      "INFO:tensorflow:global_step/sec: 0.0528078\n",
      "INFO:tensorflow:loss = 0.17354757, step = 1702 (1893.655 sec)\n",
      "INFO:tensorflow:Saving checkpoints for 1734 into /var/folders/s0/_bjfgcs11910zcp53lw2y3pc0000gn/T/tmpwgbhb4nm/model.ckpt.\n",
      "INFO:tensorflow:Saving checkpoints for 1766 into /var/folders/s0/_bjfgcs11910zcp53lw2y3pc0000gn/T/tmpwgbhb4nm/model.ckpt.\n",
      "INFO:tensorflow:Saving checkpoints for 1798 into /var/folders/s0/_bjfgcs11910zcp53lw2y3pc0000gn/T/tmpwgbhb4nm/model.ckpt.\n",
      "INFO:tensorflow:global_step/sec: 0.0529836\n"
     ]
    },
    {
     "name": "stdout",
     "output_type": "stream",
     "text": [
      "INFO:tensorflow:loss = 0.12332801, step = 1802 (1887.376 sec)\n",
      "INFO:tensorflow:Saving checkpoints for 1830 into /var/folders/s0/_bjfgcs11910zcp53lw2y3pc0000gn/T/tmpwgbhb4nm/model.ckpt.\n",
      "INFO:tensorflow:Saving checkpoints for 1862 into /var/folders/s0/_bjfgcs11910zcp53lw2y3pc0000gn/T/tmpwgbhb4nm/model.ckpt.\n",
      "INFO:tensorflow:Saving checkpoints for 1894 into /var/folders/s0/_bjfgcs11910zcp53lw2y3pc0000gn/T/tmpwgbhb4nm/model.ckpt.\n",
      "INFO:tensorflow:global_step/sec: 0.0527354\n",
      "INFO:tensorflow:loss = 0.11119108, step = 1902 (1896.274 sec)\n",
      "INFO:tensorflow:Saving checkpoints for 1926 into /var/folders/s0/_bjfgcs11910zcp53lw2y3pc0000gn/T/tmpwgbhb4nm/model.ckpt.\n",
      "INFO:tensorflow:Saving checkpoints for 1958 into /var/folders/s0/_bjfgcs11910zcp53lw2y3pc0000gn/T/tmpwgbhb4nm/model.ckpt.\n",
      "INFO:tensorflow:Saving checkpoints for 1990 into /var/folders/s0/_bjfgcs11910zcp53lw2y3pc0000gn/T/tmpwgbhb4nm/model.ckpt.\n",
      "INFO:tensorflow:global_step/sec: 0.0527407\n",
      "INFO:tensorflow:loss = 0.16992563, step = 2002 (1896.065 sec)\n",
      "INFO:tensorflow:Saving checkpoints for 2022 into /var/folders/s0/_bjfgcs11910zcp53lw2y3pc0000gn/T/tmpwgbhb4nm/model.ckpt.\n",
      "INFO:tensorflow:Saving checkpoints for 2054 into /var/folders/s0/_bjfgcs11910zcp53lw2y3pc0000gn/T/tmpwgbhb4nm/model.ckpt.\n",
      "INFO:tensorflow:Saving checkpoints for 2086 into /var/folders/s0/_bjfgcs11910zcp53lw2y3pc0000gn/T/tmpwgbhb4nm/model.ckpt.\n",
      "INFO:tensorflow:global_step/sec: 0.0524991\n",
      "INFO:tensorflow:loss = 0.15477927, step = 2102 (1904.791 sec)\n",
      "INFO:tensorflow:Saving checkpoints for 2118 into /var/folders/s0/_bjfgcs11910zcp53lw2y3pc0000gn/T/tmpwgbhb4nm/model.ckpt.\n",
      "INFO:tensorflow:Saving checkpoints for 2150 into /var/folders/s0/_bjfgcs11910zcp53lw2y3pc0000gn/T/tmpwgbhb4nm/model.ckpt.\n",
      "INFO:tensorflow:Saving checkpoints for 2182 into /var/folders/s0/_bjfgcs11910zcp53lw2y3pc0000gn/T/tmpwgbhb4nm/model.ckpt.\n",
      "INFO:tensorflow:Saving checkpoints for 2201 into /var/folders/s0/_bjfgcs11910zcp53lw2y3pc0000gn/T/tmpwgbhb4nm/model.ckpt.\n",
      "INFO:tensorflow:Loss for final step: 0.15475771.\n"
     ]
    },
    {
     "data": {
      "text/plain": [
       "<tensorflow_estimator.python.estimator.estimator.Estimator at 0x13144cb70>"
      ]
     },
     "execution_count": 59,
     "metadata": {},
     "output_type": "execute_result"
    }
   ],
   "source": [
    "mnist_classifier.train(input_fn=train_input_fn, steps=2000)"
   ]
  },
  {
   "cell_type": "code",
   "execution_count": 60,
   "metadata": {},
   "outputs": [
    {
     "name": "stdout",
     "output_type": "stream",
     "text": [
      "INFO:tensorflow:Calling model_fn.\n",
      "INFO:tensorflow:Done calling model_fn.\n",
      "INFO:tensorflow:Starting evaluation at 2019-06-04T03:02:02Z\n",
      "INFO:tensorflow:Graph was finalized.\n",
      "INFO:tensorflow:Restoring parameters from /var/folders/s0/_bjfgcs11910zcp53lw2y3pc0000gn/T/tmpwgbhb4nm/model.ckpt-2201\n",
      "INFO:tensorflow:Running local_init_op.\n",
      "INFO:tensorflow:Done running local_init_op.\n",
      "INFO:tensorflow:Finished evaluation at 2019-06-04-03:09:26\n",
      "INFO:tensorflow:Saving dict for global step 2201: accuracy = 0.9577, global_step = 2201, loss = 0.14063439\n",
      "INFO:tensorflow:Saving 'checkpoint_path' summary for global step 2201: /var/folders/s0/_bjfgcs11910zcp53lw2y3pc0000gn/T/tmpwgbhb4nm/model.ckpt-2201\n",
      "{'accuracy': 0.9577, 'loss': 0.14063439, 'global_step': 2201}\n"
     ]
    }
   ],
   "source": [
    "eval_input_fn = tf.estimator.inputs.numpy_input_fn(\n",
    "    x={\"x\": eval_data},\n",
    "    y=eval_labels,\n",
    "    num_epochs=1,\n",
    "    shuffle=False)\n",
    "\n",
    "eval_results = mnist_classifier.evaluate(input_fn=eval_input_fn)\n",
    "print(eval_results)"
   ]
  },
  {
   "cell_type": "code",
   "execution_count": 95,
   "metadata": {},
   "outputs": [
    {
     "name": "stdout",
     "output_type": "stream",
     "text": [
      "/Users/russ/gitlab/equivariant-neural-network-2/files/codes/data/mnist_png/samples/*.png\n",
      "samples import done. the shapes of x and y are: (4, 28, 28) (4, 40)\n"
     ]
    }
   ],
   "source": [
    "samples_x, samples_y = loaddata('samples')\n",
    "samples_x = samples_x/np.float32(255)"
   ]
  },
  {
   "cell_type": "code",
   "execution_count": 96,
   "metadata": {},
   "outputs": [
    {
     "data": {
      "text/plain": [
       "(4, 28, 28)"
      ]
     },
     "execution_count": 96,
     "metadata": {},
     "output_type": "execute_result"
    }
   ],
   "source": [
    "samples_x.shape"
   ]
  },
  {
   "cell_type": "code",
   "execution_count": 97,
   "metadata": {},
   "outputs": [
    {
     "data": {
      "image/png": "[encoded data removed]",
      "text/plain": [
       "<Figure size 432x288 with 2 Axes>"
      ]
     },
     "metadata": {
      "needs_background": "light"
     },
     "output_type": "display_data"
    },
    {
     "data": {
      "image/png": "[encoded data removed]",
      "text/plain": [
       "<Figure size 432x288 with 2 Axes>"
      ]
     },
     "metadata": {
      "needs_background": "light"
     },
     "output_type": "display_data"
    },
    {
     "data": {
      "image/png": "[encoded data removed]",
      "text/plain": [
       "<Figure size 432x288 with 2 Axes>"
      ]
     },
     "metadata": {
      "needs_background": "light"
     },
     "output_type": "display_data"
    },
    {
     "data": {
      "image/png": "[encoded data removed]",
      "text/plain": [
       "<Figure size 432x288 with 2 Axes>"
      ]
     },
     "metadata": {
      "needs_background": "light"
     },
     "output_type": "display_data"
    }
   ],
   "source": [
    "plt.figure()\n",
    "plt.imshow(samples_x[0])\n",
    "plt.colorbar()\n",
    "plt.grid(False)\n",
    "\n",
    "plt.figure()\n",
    "plt.imshow(samples_x[1])\n",
    "plt.colorbar()\n",
    "plt.grid(False)\n",
    "\n",
    "plt.figure()\n",
    "plt.imshow(samples_x[2])\n",
    "plt.colorbar()\n",
    "plt.grid(False)\n",
    "\n",
    "plt.figure()\n",
    "plt.imshow(samples_x[3])\n",
    "plt.colorbar()\n",
    "plt.grid(False)\n",
    "\n",
    "#plt.gca().yaxis.set_minor_formatter(NullFormatter())\n",
    "# Adjust the subplot layout, because the logit one may take more space\n",
    "# than usual, due to y-tick labels like \"1 - 10^{-3}\"\n",
    "# plt.subplots_adjust(top=0.92, bottom=0.08, left=0.10, right=0.95, hspace=0.25,\n",
    "#                     wspace=0.35)\n",
    "plt.show()"
   ]
  },
  {
   "cell_type": "code",
   "execution_count": 98,
   "metadata": {},
   "outputs": [],
   "source": [
    "pred_input_fn = tf.estimator.inputs.numpy_input_fn(\n",
    "    x={\"x\": samples_x},\n",
    "    shuffle=False)"
   ]
  },
  {
   "cell_type": "code",
   "execution_count": 110,
   "metadata": {},
   "outputs": [],
   "source": [
    "predictions = mnist_classifier.predict(input_fn = pred_input_fn)"
   ]
  },
  {
   "cell_type": "code",
   "execution_count": 111,
   "metadata": {},
   "outputs": [],
   "source": [
    "def decode(c):\n",
    "    return c%10, (4 -(c-c%10)/10)%4 * 90"
   ]
  },
  {
   "cell_type": "code",
   "execution_count": 112,
   "metadata": {},
   "outputs": [
    {
     "name": "stdout",
     "output_type": "stream",
     "text": [
      "INFO:tensorflow:Calling model_fn.\n",
      "INFO:tensorflow:Done calling model_fn.\n",
      "INFO:tensorflow:Graph was finalized.\n",
      "INFO:tensorflow:Restoring parameters from /var/folders/s0/_bjfgcs11910zcp53lw2y3pc0000gn/T/tmpwgbhb4nm/model.ckpt-2201\n",
      "INFO:tensorflow:Running local_init_op.\n",
      "INFO:tensorflow:Done running local_init_op.\n",
      "(7, 270.0) \n",
      " [2.05644876e-11 6.89517124e-11 5.01109980e-07 6.22865715e-09\n",
      " 5.35240304e-07 8.97988194e-12 8.34397795e-09 1.27654602e-07\n",
      " 1.18565313e-09 3.18130478e-09 3.08501069e-04 1.61850835e-08\n",
      " 4.97675671e-07 2.57115262e-05 1.05485029e-03 3.34337237e-04\n",
      " 4.84817519e-08 8.35981488e-01 1.82691263e-04 1.62110627e-01\n",
      " 4.72504891e-12 7.35331907e-16 1.25806601e-10 3.94726135e-13\n",
      " 1.83841592e-12 1.07023745e-13 1.10608278e-12 3.46214758e-11\n",
      " 1.79656135e-13 1.57663108e-12 5.79642349e-15 1.74851886e-17\n",
      " 1.78956502e-12 4.06364692e-16 8.03018893e-13 1.37484061e-14\n",
      " 4.26493346e-12 4.94882846e-18 3.94265207e-15 1.48675974e-16]\n",
      "(7, 180.0) \n",
      " [5.79642349e-15 1.74851886e-17 1.78956502e-12 4.06364692e-16\n",
      " 8.03018893e-13 1.37484061e-14 4.26493346e-12 4.94882846e-18\n",
      " 3.94265207e-15 1.48675974e-16 2.05644876e-11 6.89517124e-11\n",
      " 5.01109980e-07 6.22865715e-09 5.35240304e-07 8.97988194e-12\n",
      " 8.34397795e-09 1.27654602e-07 1.18565313e-09 3.18130478e-09\n",
      " 3.08501069e-04 1.61850835e-08 4.97675671e-07 2.57115262e-05\n",
      " 1.05485029e-03 3.34337237e-04 4.84817519e-08 8.35981488e-01\n",
      " 1.82691263e-04 1.62110627e-01 4.72504891e-12 7.35331907e-16\n",
      " 1.25806601e-10 3.94726135e-13 1.83841592e-12 1.07023745e-13\n",
      " 1.10608278e-12 3.46214758e-11 1.79656135e-13 1.57663108e-12]\n",
      "(7, 0.0) \n",
      " [3.08501069e-04 1.61850835e-08 4.97675671e-07 2.57115262e-05\n",
      " 1.05485029e-03 3.34337237e-04 4.84817519e-08 8.35981488e-01\n",
      " 1.82691263e-04 1.62110627e-01 4.72504891e-12 7.35331907e-16\n",
      " 1.25806601e-10 3.94726135e-13 1.83841592e-12 1.07023745e-13\n",
      " 1.10608278e-12 3.46214758e-11 1.79656135e-13 1.57663108e-12\n",
      " 5.79642349e-15 1.74851886e-17 1.78956502e-12 4.06364692e-16\n",
      " 8.03018893e-13 1.37484061e-14 4.26493346e-12 4.94882846e-18\n",
      " 3.94265207e-15 1.48675974e-16 2.05644876e-11 6.89517124e-11\n",
      " 5.01109980e-07 6.22865715e-09 5.35240304e-07 8.97988194e-12\n",
      " 8.34397795e-09 1.27654602e-07 1.18565313e-09 3.18130478e-09]\n",
      "(7, 90.0) \n",
      " [4.72504891e-12 7.35331907e-16 1.25806601e-10 3.94726135e-13\n",
      " 1.83841592e-12 1.07023745e-13 1.10608278e-12 3.46214758e-11\n",
      " 1.79656135e-13 1.57663108e-12 5.79642349e-15 1.74851886e-17\n",
      " 1.78956502e-12 4.06364692e-16 8.03018893e-13 1.37484061e-14\n",
      " 4.26493346e-12 4.94882846e-18 3.94265207e-15 1.48675974e-16\n",
      " 2.05644876e-11 6.89517124e-11 5.01109980e-07 6.22865715e-09\n",
      " 5.35240304e-07 8.97988194e-12 8.34397795e-09 1.27654602e-07\n",
      " 1.18565313e-09 3.18130478e-09 3.08501069e-04 1.61850835e-08\n",
      " 4.97675671e-07 2.57115262e-05 1.05485029e-03 3.34337237e-04\n",
      " 4.84817519e-08 8.35981488e-01 1.82691263e-04 1.62110627e-01]\n"
     ]
    }
   ],
   "source": [
    "for prediction in predictions:\n",
    "    print (decode(prediction['classes']), '\\n', prediction['probabilities'])"
   ]
  },
  {
   "cell_type": "code",
   "execution_count": 89,
   "metadata": {},
   "outputs": [
    {
     "name": "stdout",
     "output_type": "stream",
     "text": [
      "17 7 270.0 degree\n"
     ]
    }
   ],
   "source": [
    "c = 17\n",
    "print (c, c%10, (4 -(c-c%10)/10)%4 * 90, 'degree')"
   ]
  },
  {
   "cell_type": "code",
   "execution_count": null,
   "metadata": {},
   "outputs": [],
   "source": [
    "8.35981488"
   ]
  }
 ],
 "metadata": {
  "kernelspec": {
   "display_name": "Python 3",
   "language": "python",
   "name": "python3"
  },
  "language_info": {
   "codemirror_mode": {
    "name": "ipython",
    "version": 3
   },
   "file_extension": ".py",
   "mimetype": "text/x-python",
   "name": "python",
   "nbconvert_exporter": "python",
   "pygments_lexer": "ipython3",
   "version": "3.7.3"
  }
 },
 "nbformat": 4,
 "nbformat_minor": 2
}
