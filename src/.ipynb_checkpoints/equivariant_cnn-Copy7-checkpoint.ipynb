{
 "cells": [
  {
   "cell_type": "code",
   "execution_count": 1,
   "metadata": {},
   "outputs": [],
   "source": [
    "from __future__ import absolute_import, division, print_function\n",
    "import math\n",
    "import numpy as np\n",
    "import h5py\n",
    "import matplotlib.pyplot as plt\n",
    "import tensorflow as tf\n",
    "from tensorflow.python.framework import ops\n",
    "from tensorflow.examples.tutorials.mnist import input_data\n",
    "from tensorflow import keras\n",
    "import skimage\n",
    "from skimage import data\n",
    "from skimage.transform import resize\n",
    "from PIL import Image\n",
    "import matplotlib.image as mpimg\n",
    "import numpy as np\n",
    "import glob\n",
    "from sympy.combinatorics.named_groups import *\n",
    "\n",
    "tf.logging.set_verbosity(tf.logging.INFO)"
   ]
  },
  {
   "cell_type": "code",
   "execution_count": 2,
   "metadata": {},
   "outputs": [],
   "source": [
    "directory = '../data/mnist_png/'"
   ]
  },
  {
   "cell_type": "code",
   "execution_count": 3,
   "metadata": {},
   "outputs": [],
   "source": [
    "G = DihedralGroup(4)\n",
    "\n",
    "G = list(G.generate_dimino())\n",
    "\n",
    "i_f_g = {}\n",
    "g_f_i = {}\n",
    "for i in range(len(G)):\n",
    "    g_f_i[i] = G[i]\n",
    "    i_f_g[G[i]] = i"
   ]
  },
  {
   "cell_type": "code",
   "execution_count": 4,
   "metadata": {},
   "outputs": [],
   "source": [
    "# let ei be the obvious element in R^10\n",
    "# let F_hat be the perfect network after trainning.\n",
    "# let xi in X be an image that represents the handwritting of number i.\n",
    "# then we want (define) [F_hat(xi)](gj) = ei if j = 0; 0 else. Here, g0 is the identity element (not required tho)\n",
    "# note F(xi) = p[F_hat(xi)] = [F_hat(xi)](g0) = ei\n",
    "# now we calculate [F_hat(g xi)]\n",
    "# [F_hat(g xi)](gj) = [g F_hat(xi)](gj) = [F_hat(xi)](g^(-1) gj)\n",
    "# by the definition, and let g = gk, then\n",
    "# [F_hat(gk xi)](gj) = ei if gk = gj, i.e. k =j; 0 else. \n",
    "# Note that we identify Z^{x G} with G x G x ... x G via\n",
    "# s \\mapsto s(g0), s(g1), ..., s(gn), where n = |G|\n",
    "# hence, F_hat(gk xi) is mapped to (0,...,ei,...,0), where ei is at the location k\n"
   ]
  },
  {
   "cell_type": "code",
   "execution_count": 5,
   "metadata": {},
   "outputs": [],
   "source": [
    "def str_to_vect(label, angle):\n",
    "    i = int(label)\n",
    "    k = int(angle)\n",
    "    ei = []\n",
    "    for j in range(10):\n",
    "        if j == i:\n",
    "            ei.append(1)\n",
    "        else:\n",
    "            ei.append(0)\n",
    "    zero = [0]*10\n",
    "    vec = []\n",
    "    for j in range(len(G)):\n",
    "        if j == k:\n",
    "            vec.append(ei)\n",
    "        else:\n",
    "            vec.append(zero)\n",
    "    res = []\n",
    "    for a in vec:\n",
    "        for b in a:\n",
    "            res.append(b)\n",
    "    return res"
   ]
  },
  {
   "cell_type": "code",
   "execution_count": 6,
   "metadata": {},
   "outputs": [
    {
     "name": "stdout",
     "output_type": "stream",
     "text": [
      "[0, 0, 0, 0, 0, 0, 0, 0, 0, 0, 0, 0, 0, 0, 0, 0, 0, 0, 0, 0, 0, 0, 0, 0, 0, 0, 0, 0, 0, 0, 0, 0, 0, 0, 0, 0, 0, 0, 0, 0, 0, 0, 0, 0, 0, 0, 0, 0, 0, 0, 1, 0, 0, 0, 0, 0, 0, 0, 0, 0, 0, 0, 0, 0, 0, 0, 0, 0, 0, 0, 0, 0, 0, 0, 0, 0, 0, 0, 0, 0]\n"
     ]
    }
   ],
   "source": [
    "print (str_to_vect(0,5))"
   ]
  },
  {
   "cell_type": "code",
   "execution_count": 7,
   "metadata": {},
   "outputs": [],
   "source": [
    "# def str_to_vect(label, angle):\n",
    "#     label = int(label)\n",
    "#     angle = int(angle)\n",
    "#     position = (4 - angle)%4\n",
    "#     vector = []\n",
    "#     for i in range(4):\n",
    "#         for j in range(10):\n",
    "#             if i == position and j == label:\n",
    "#                 vector.append(1)\n",
    "#             else:\n",
    "#                 vector.append(0)\n",
    "#     return vector"
   ]
  },
  {
   "cell_type": "code",
   "execution_count": 8,
   "metadata": {},
   "outputs": [],
   "source": [
    "#loaddata\n",
    "def loaddata(s):\n",
    "    filelist = glob.glob(directory + s + '/*.png')\n",
    "    y_temp = []\n",
    "    x_temp = []\n",
    "    print (directory + s + '/*.png')\n",
    "    for fname in filelist:\n",
    "        short_name = fname.split('/')[-1]\n",
    "        label, angle, name = short_name.split('_')\n",
    "        img = mpimg.imread(fname)\n",
    "        x_temp.append(img)\n",
    "        vector = str_to_vect(label, angle)\n",
    "        y_temp.append(vector)\n",
    "\n",
    "    x = np.asarray(x_temp)\n",
    "    y = np.asarray(y_temp)\n",
    "    print (s + ' import done. the shapes of x and y are:', x.shape, y.shape)\n",
    "    return x, y\n"
   ]
  },
  {
   "cell_type": "code",
   "execution_count": 9,
   "metadata": {},
   "outputs": [
    {
     "name": "stdout",
     "output_type": "stream",
     "text": [
      "../data/mnist_png/trainingx/*.png\n",
      "trainingx import done. the shapes of x and y are: (60000, 28, 28) (60000, 80)\n"
     ]
    }
   ],
   "source": [
    "train_x, train_y = loaddata('trainingx')"
   ]
  },
  {
   "cell_type": "code",
   "execution_count": 10,
   "metadata": {},
   "outputs": [
    {
     "name": "stdout",
     "output_type": "stream",
     "text": [
      "../data/mnist_png/testingx/*.png\n",
      "testingx import done. the shapes of x and y are: (10000, 28, 28) (10000, 80)\n"
     ]
    }
   ],
   "source": [
    "test_x, test_y = loaddata('testingx')"
   ]
  },
  {
   "cell_type": "code",
   "execution_count": 11,
   "metadata": {},
   "outputs": [
    {
     "data": {
      "image/png": "[encoded data removed]",
      "text/plain": [
       "<Figure size 432x288 with 2 Axes>"
      ]
     },
     "metadata": {
      "needs_background": "light"
     },
     "output_type": "display_data"
    }
   ],
   "source": [
    "plt.figure()\n",
    "plt.imshow(test_x[5])\n",
    "plt.colorbar()\n",
    "plt.grid(False)\n",
    "plt.show()"
   ]
  },
  {
   "cell_type": "code",
   "execution_count": 12,
   "metadata": {},
   "outputs": [
    {
     "data": {
      "text/plain": [
       "array([0, 0, 0, 0, 0, 0, 0, 0, 0, 0, 0, 0, 0, 0, 0, 0, 0, 0, 0, 0, 0, 0,\n",
       "       0, 0, 0, 0, 0, 0, 0, 0, 0, 0, 0, 0, 0, 0, 0, 0, 0, 0, 0, 0, 0, 0,\n",
       "       0, 0, 0, 0, 0, 0, 0, 0, 0, 0, 0, 0, 0, 0, 0, 0, 0, 1, 0, 0, 0, 0,\n",
       "       0, 0, 0, 0, 0, 0, 0, 0, 0, 0, 0, 0, 0, 0])"
      ]
     },
     "execution_count": 12,
     "metadata": {},
     "output_type": "execute_result"
    }
   ],
   "source": [
    "test_y[5]"
   ]
  },
  {
   "cell_type": "code",
   "execution_count": 13,
   "metadata": {},
   "outputs": [
    {
     "data": {
      "text/plain": [
       "(60000, 28, 28)"
      ]
     },
     "execution_count": 13,
     "metadata": {},
     "output_type": "execute_result"
    }
   ],
   "source": [
    "train_x.shape"
   ]
  },
  {
   "cell_type": "code",
   "execution_count": 14,
   "metadata": {},
   "outputs": [],
   "source": [
    "def compute_cost(Z, Y):\n",
    "    cost = tf.reduce_mean(tf.nn.softmax_cross_entropy_with_logits(logits = Z, labels = Y))    \n",
    "    return cost"
   ]
  },
  {
   "cell_type": "code",
   "execution_count": 15,
   "metadata": {},
   "outputs": [],
   "source": [
    "operations = {}\n",
    "for i in range(4):\n",
    "    operations[g_f_i[i]] = (lambda x: tf.image.rot90(x, k = i))\n",
    "operations[g_f_i[4]] = (lambda x: tf.image.flip_left_right(x))\n",
    "operations[g_f_i[5]] = (lambda x: tf.image.flip_up_down(tf.image.rot90(x, k = 1)))\n",
    "operations[g_f_i[6]] = (lambda x: tf.image.flip_up_down(x))\n",
    "operations[g_f_i[7]] = (lambda x: tf.image.flip_left_right(tf.image.rot90(x, k = 1)))"
   ]
  },
  {
   "cell_type": "code",
   "execution_count": 16,
   "metadata": {},
   "outputs": [],
   "source": [
    "def operation(x, g):\n",
    "    return operations[g](x)"
   ]
  },
  {
   "cell_type": "code",
   "execution_count": 17,
   "metadata": {},
   "outputs": [
    {
     "data": {
      "text/plain": [
       "{Permutation(3): 0,\n",
       " Permutation(0, 1, 2, 3): 1,\n",
       " Permutation(0, 2)(1, 3): 2,\n",
       " Permutation(0, 3, 2, 1): 3,\n",
       " Permutation(0, 3)(1, 2): 4,\n",
       " Permutation(1, 3): 5,\n",
       " Permutation(0, 1)(2, 3): 6,\n",
       " Permutation(3)(0, 2): 7}"
      ]
     },
     "execution_count": 17,
     "metadata": {},
     "output_type": "execute_result"
    }
   ],
   "source": [
    "i_f_g"
   ]
  },
  {
   "cell_type": "code",
   "execution_count": 18,
   "metadata": {},
   "outputs": [
    {
     "data": {
      "text/plain": [
       "{0: Permutation(3),\n",
       " 1: Permutation(0, 1, 2, 3),\n",
       " 2: Permutation(0, 2)(1, 3),\n",
       " 3: Permutation(0, 3, 2, 1),\n",
       " 4: Permutation(0, 3)(1, 2),\n",
       " 5: Permutation(1, 3),\n",
       " 6: Permutation(0, 1)(2, 3),\n",
       " 7: Permutation(3)(0, 2)}"
      ]
     },
     "execution_count": 18,
     "metadata": {},
     "output_type": "execute_result"
    }
   ],
   "source": [
    "g_f_i"
   ]
  },
  {
   "cell_type": "code",
   "execution_count": 19,
   "metadata": {},
   "outputs": [
    {
     "data": {
      "text/plain": [
       "True"
      ]
     },
     "execution_count": 19,
     "metadata": {},
     "output_type": "execute_result"
    }
   ],
   "source": [
    "g_f_i[1] * g_f_i[4] == g_f_i[7]"
   ]
  },
  {
   "cell_type": "markdown",
   "metadata": {},
   "source": [
    "we make a choice of an order of G, i.e., (g0,g1,g2,...), where we choose g0 = e (not necessary)\n",
    "in this case, we chose G = (e, g, g^2, g^3)\n",
    "we make an identification Z^{xG} = {s: G \\to X} with Z x Z ... x Z via\n",
    "s \\mapsto (s(g0), s(g1), s(g2),...)\n",
    "Note that h acts on Z^{xG} by hs(g) = s(h^{-1}g)\n",
    "we wants to see how h acts on Z x Z ... x Z.\n",
    "hs is identified with (..., hs(gi), ...) = (..., s((h^{-1}*gi), ...)\n",
    "\n",
    "Z^{xG} --> G x G x ... x G\n",
    "|                |\n",
    "|h               |h\n",
    "V                V\n",
    "Z^{xG}--> G x G x ... x G\n",
    "\n",
    "\n",
    "s -------> (..., s(gi),...), this is the i-th location\n",
    "|                |\n",
    "|h               |h\n",
    "V                V\n",
    "hs-------> (..., s((h^{-1}*gi), ...), this is the i_f_g(h^{-1}*gi) -th location\n",
    "\n",
    "hence, h maps location i to location i_f_g(h^{-1}*gi) = j\n",
    "g_f_i i_f_g(h^{-1} * gi) = g_f_i(j)\n",
    "h^{-1} * gi = g_f_i(j)\n",
    "gi = h * g_f_i(j) \n",
    "i = i_f_g(gi) = i_f_g (h * g_f_i(j))"
   ]
  },
  {
   "cell_type": "code",
   "execution_count": 20,
   "metadata": {},
   "outputs": [],
   "source": [
    "def permu(x, h):\n",
    "    return [x[i_f_g[h * g_f_i[j]]] for j in range(len(G))]"
   ]
  },
  {
   "cell_type": "code",
   "execution_count": 21,
   "metadata": {},
   "outputs": [
    {
     "name": "stdout",
     "output_type": "stream",
     "text": [
      "[0, 1, 2, 3, 4, 5, 6, 7]\n",
      "[1, 2, 3, 0, 7, 4, 5, 6]\n",
      "[2, 3, 0, 1, 6, 7, 4, 5]\n",
      "[3, 0, 1, 2, 5, 6, 7, 4]\n",
      "[4, 5, 6, 7, 0, 1, 2, 3]\n",
      "[5, 6, 7, 4, 3, 0, 1, 2]\n",
      "[6, 7, 4, 5, 2, 3, 0, 1]\n",
      "[7, 4, 5, 6, 1, 2, 3, 0]\n"
     ]
    }
   ],
   "source": [
    "for i in range(8):\n",
    "    print (permu([0,1,2,3,4,5,6,7], g_f_i[i]))"
   ]
  },
  {
   "cell_type": "code",
   "execution_count": 22,
   "metadata": {},
   "outputs": [],
   "source": [
    "# rotations = {}\n",
    "# for i in range(len(G)):\n",
    "#     rotations[g_f_i[i]] = (lambda x: tf.image.rot90(x, k = i))"
   ]
  },
  {
   "cell_type": "code",
   "execution_count": 23,
   "metadata": {},
   "outputs": [],
   "source": [
    "# def rotationx(x, g):\n",
    "#     return rotations[g](x)"
   ]
  },
  {
   "cell_type": "code",
   "execution_count": 24,
   "metadata": {},
   "outputs": [],
   "source": [
    "def equivarification(X, graphs, graph_name, layer_names, layer_parameters, rep):\n",
    "    if rep == 'permutation':\n",
    "        action = permu\n",
    "    elif rep == 'rotation':\n",
    "        action = rotationx\n",
    "    elif rep == 'operation':\n",
    "        action = operation\n",
    "    graph = graphs[graph_name]\n",
    "    Z_hat = []\n",
    "    for i in range(len(G)):\n",
    "        Z_hat.append(graph(action(X, (g_f_i[i])**(-1)), i, layer_names, layer_parameters))\n",
    "    return Z_hat"
   ]
  },
  {
   "cell_type": "code",
   "execution_count": 25,
   "metadata": {},
   "outputs": [],
   "source": [
    "def convolution(x, i, Names, filter_nums):\n",
    "    Name = Names[0]\n",
    "    filter_num = filter_nums[Name]\n",
    "    \n",
    "    stage = (i != 0)\n",
    "    y = tf.layers.conv2d(\n",
    "      inputs=x,\n",
    "      filters=filter_num,\n",
    "      kernel_size=[3, 3],\n",
    "      padding=\"same\",\n",
    "      activation=tf.nn.relu,\n",
    "      reuse = stage,\n",
    "      name = Name)\n",
    "    return y  "
   ]
  },
  {
   "cell_type": "code",
   "execution_count": 26,
   "metadata": {},
   "outputs": [],
   "source": [
    "def conv_concat(x, i, Names, filter_nums):   \n",
    "    y = tf.concat(x, axis = 3)    \n",
    "    return convolution(y, i, Names, filter_nums)"
   ]
  },
  {
   "cell_type": "code",
   "execution_count": 27,
   "metadata": {},
   "outputs": [],
   "source": [
    "def basic_graph(x, i, layer_names, layer_parameters):\n",
    "    \n",
    "    stage = (i != 0)\n",
    "    \n",
    "    concat_x = tf.concat(x, axis = 3)\n",
    "    \n",
    "    X3 = convolution(concat_x, i, [layer_names[0]], layer_parameters)\n",
    "    \n",
    "    X4 = tf.layers.max_pooling2d(inputs=X3, pool_size=[4, 4], strides=4)\n",
    "        \n",
    "    X4 = tf.reshape(X4, [-1, 7 * 7 * 32])\n",
    "        \n",
    "    X5 = tf.layers.dense(inputs=X4, \n",
    "                              units=1024, \n",
    "                              activation=tf.nn.relu,\n",
    "                              reuse = stage,\n",
    "                              name = layer_names[1])\n",
    "\n",
    "    # Logits Layer\n",
    "    X6 = tf.layers.dense(inputs=X5,\n",
    "                         units=10,\n",
    "                         reuse = stage,\n",
    "                         name = layer_names[2])\n",
    "\n",
    "    return X6"
   ]
  },
  {
   "cell_type": "code",
   "execution_count": 28,
   "metadata": {},
   "outputs": [],
   "source": [
    "def cnn_model_fn(features, labels, mode):\n",
    "    \"\"\"Model function for CNN.\"\"\"    \n",
    "    \n",
    "    graphs = {'conv_concat': conv_concat, \n",
    "              'convolution': convolution,\n",
    "              'basic_graph': basic_graph}\n",
    "    \n",
    "    layer_paremeters = {'conv1': 80, 'conv2': 80, 'conv3':32}\n",
    "    \n",
    "    X0 = tf.reshape(features[\"x\"], [-1, 28, 28, 1])\n",
    "\n",
    "    X1_hat = equivarification(X0, graphs, 'convolution', ['conv1'], layer_paremeters, 'operation')\n",
    "    \n",
    "    X2_hat = equivarification(X1_hat, graphs, 'conv_concat', ['conv2'], layer_paremeters, 'permutation')\n",
    "\n",
    "    X6_hat = equivarification(X2_hat, graphs, 'basic_graph', \n",
    "                              ['conv3', 'dense', 'logi'], \n",
    "                              layer_paremeters, \n",
    "                              'permutation')\n",
    "    \n",
    "    final = tf.concat(X6_hat, axis = 1)\n",
    "    \n",
    "    predictions = {\n",
    "      # Generate predictions (for PREDICT and EVAL mode)\n",
    "      \"classes\": tf.argmax(input=final, axis= 1),\n",
    "      # Add `softmax_tensor` to the graph. It is used for PREDICT and by the\n",
    "      # `logging_hook`.\n",
    "      \"probabilities\": tf.nn.softmax(final, name=\"softmax_tensor\")\n",
    "    }\n",
    "    \n",
    "    if mode == tf.estimator.ModeKeys.PREDICT:\n",
    "        return tf.estimator.EstimatorSpec(mode=mode, predictions=predictions)\n",
    "\n",
    "    # Calculate Loss (for both TRAIN and EVAL modes)\n",
    "    loss = compute_cost(final, labels)\n",
    "\n",
    "    # Configure the Training Op (for TRAIN mode)\n",
    "    if mode == tf.estimator.ModeKeys.TRAIN:\n",
    "        optimizer = tf.train.AdamOptimizer(learning_rate=0.0001)\n",
    "        train_op = optimizer.minimize(\n",
    "            loss=loss,\n",
    "            global_step=tf.train.get_global_step())\n",
    "        return tf.estimator.EstimatorSpec(mode=mode, loss=loss, train_op=train_op)\n",
    "\n",
    "    # Add evaluation metrics (for EVAL mode)\n",
    "    eval_metric_ops = {\n",
    "      \"accuracy\": tf.metrics.accuracy(\n",
    "          labels=tf.argmax(input=labels, axis= -1), predictions=predictions[\"classes\"])\n",
    "    }\n",
    "    return tf.estimator.EstimatorSpec(\n",
    "        mode=mode, loss=loss, eval_metric_ops=eval_metric_ops)"
   ]
  },
  {
   "cell_type": "code",
   "execution_count": 29,
   "metadata": {},
   "outputs": [],
   "source": [
    "train_data = train_x / 255.0\n",
    "eval_data = test_x / 255.0\n",
    "\n",
    "train_labels = train_y.astype(np.int32)  # not required\n",
    "eval_labels = test_y.astype(np.int32)  # not required"
   ]
  },
  {
   "cell_type": "code",
   "execution_count": 30,
   "metadata": {},
   "outputs": [
    {
     "data": {
      "text/plain": [
       "((60000, 28, 28), (60000, 80))"
      ]
     },
     "execution_count": 30,
     "metadata": {},
     "output_type": "execute_result"
    }
   ],
   "source": [
    "train_data.shape, train_labels.shape"
   ]
  },
  {
   "cell_type": "code",
   "execution_count": 31,
   "metadata": {},
   "outputs": [
    {
     "data": {
      "text/plain": [
       "((10000, 28, 28), (10000, 80))"
      ]
     },
     "execution_count": 31,
     "metadata": {},
     "output_type": "execute_result"
    }
   ],
   "source": [
    "eval_data.shape, eval_labels.shape"
   ]
  },
  {
   "cell_type": "code",
   "execution_count": 32,
   "metadata": {},
   "outputs": [
    {
     "name": "stdout",
     "output_type": "stream",
     "text": [
      "INFO:tensorflow:Using default config.\n",
      "WARNING:tensorflow:Using temporary folder as model directory: /var/folders/s0/_bjfgcs11910zcp53lw2y3pc0000gn/T/tmpuiyws7u1\n",
      "INFO:tensorflow:Using config: {'_model_dir': '/var/folders/s0/_bjfgcs11910zcp53lw2y3pc0000gn/T/tmpuiyws7u1', '_tf_random_seed': None, '_save_summary_steps': 100, '_save_checkpoints_steps': None, '_save_checkpoints_secs': 600, '_session_config': allow_soft_placement: true\n",
      "graph_options {\n",
      "  rewrite_options {\n",
      "    meta_optimizer_iterations: ONE\n",
      "  }\n",
      "}\n",
      ", '_keep_checkpoint_max': 5, '_keep_checkpoint_every_n_hours': 10000, '_log_step_count_steps': 100, '_train_distribute': None, '_device_fn': None, '_protocol': None, '_eval_distribute': None, '_experimental_distribute': None, '_service': None, '_cluster_spec': <tensorflow.python.training.server_lib.ClusterSpec object at 0x12e1c2128>, '_task_type': 'worker', '_task_id': 0, '_global_id_in_cluster': 0, '_master': '', '_evaluation_master': '', '_is_chief': True, '_num_ps_replicas': 0, '_num_worker_replicas': 1}\n"
     ]
    }
   ],
   "source": [
    "mnist_classifier = tf.estimator.Estimator(\n",
    "    model_fn=cnn_model_fn)"
   ]
  },
  {
   "cell_type": "code",
   "execution_count": 33,
   "metadata": {},
   "outputs": [],
   "source": [
    "tensors_to_log = {\"probabilities\": \"softmax_tensor\"}\n",
    "\n",
    "logging_hook = tf.train.LoggingTensorHook(\n",
    "    tensors=tensors_to_log, every_n_iter=50)"
   ]
  },
  {
   "cell_type": "code",
   "execution_count": 34,
   "metadata": {},
   "outputs": [
    {
     "name": "stdout",
     "output_type": "stream",
     "text": [
      "WARNING:tensorflow:From /Users/russ/anaconda2/envs/tensorflow/lib/python3.7/site-packages/tensorflow/python/framework/op_def_library.py:263: colocate_with (from tensorflow.python.framework.ops) is deprecated and will be removed in a future version.\n",
      "Instructions for updating:\n",
      "Colocations handled automatically by placer.\n",
      "WARNING:tensorflow:From /Users/russ/anaconda2/envs/tensorflow/lib/python3.7/site-packages/tensorflow_estimator/python/estimator/inputs/queues/feeding_queue_runner.py:62: QueueRunner.__init__ (from tensorflow.python.training.queue_runner_impl) is deprecated and will be removed in a future version.\n",
      "Instructions for updating:\n",
      "To construct input pipelines, use the `tf.data` module.\n",
      "WARNING:tensorflow:From /Users/russ/anaconda2/envs/tensorflow/lib/python3.7/site-packages/tensorflow_estimator/python/estimator/inputs/queues/feeding_functions.py:500: add_queue_runner (from tensorflow.python.training.queue_runner_impl) is deprecated and will be removed in a future version.\n",
      "Instructions for updating:\n",
      "To construct input pipelines, use the `tf.data` module.\n",
      "INFO:tensorflow:Calling model_fn.\n",
      "WARNING:tensorflow:From <ipython-input-25-074c2754f973>:13: conv2d (from tensorflow.python.layers.convolutional) is deprecated and will be removed in a future version.\n",
      "Instructions for updating:\n",
      "Use keras.layers.conv2d instead.\n",
      "WARNING:tensorflow:From <ipython-input-27-f8fdb5395920>:9: max_pooling2d (from tensorflow.python.layers.pooling) is deprecated and will be removed in a future version.\n",
      "Instructions for updating:\n",
      "Use keras.layers.max_pooling2d instead.\n",
      "WARNING:tensorflow:From <ipython-input-27-f8fdb5395920>:17: dense (from tensorflow.python.layers.core) is deprecated and will be removed in a future version.\n",
      "Instructions for updating:\n",
      "Use keras.layers.dense instead.\n",
      "WARNING:tensorflow:From <ipython-input-14-91398fd016ab>:2: softmax_cross_entropy_with_logits (from tensorflow.python.ops.nn_ops) is deprecated and will be removed in a future version.\n",
      "Instructions for updating:\n",
      "\n",
      "Future major versions of TensorFlow will allow gradients to flow\n",
      "into the labels input on backprop by default.\n",
      "\n",
      "See `tf.nn.softmax_cross_entropy_with_logits_v2`.\n",
      "\n",
      "INFO:tensorflow:Done calling model_fn.\n",
      "INFO:tensorflow:Create CheckpointSaverHook.\n",
      "INFO:tensorflow:Graph was finalized.\n",
      "INFO:tensorflow:Running local_init_op.\n",
      "INFO:tensorflow:Done running local_init_op.\n",
      "WARNING:tensorflow:From /Users/russ/anaconda2/envs/tensorflow/lib/python3.7/site-packages/tensorflow/python/training/monitored_session.py:809: start_queue_runners (from tensorflow.python.training.queue_runner_impl) is deprecated and will be removed in a future version.\n",
      "Instructions for updating:\n",
      "To construct input pipelines, use the `tf.data` module.\n",
      "INFO:tensorflow:Saving checkpoints for 0 into /var/folders/s0/_bjfgcs11910zcp53lw2y3pc0000gn/T/tmpuiyws7u1/model.ckpt.\n",
      "INFO:tensorflow:probabilities = [[0.01249833 0.01249998 0.01249891 ... 0.01249951 0.01250041 0.01249918]\n",
      " [0.01249947 0.01250083 0.0124976  ... 0.01250105 0.01250034 0.01249805]\n",
      " [0.01249976 0.01250227 0.01249653 ... 0.01249899 0.01249926 0.01250002]\n",
      " ...\n",
      " [0.01249826 0.0125     0.01250002 ... 0.01250028 0.01249896 0.01249941]\n",
      " [0.0124988  0.01250103 0.01249844 ... 0.01249827 0.01249934 0.01250045]\n",
      " [0.01249754 0.01250102 0.01249789 ... 0.01250052 0.01249997 0.0124955 ]]\n",
      "INFO:tensorflow:loss = 4.3820252, step = 1\n",
      "INFO:tensorflow:Saving checkpoints for 1 into /var/folders/s0/_bjfgcs11910zcp53lw2y3pc0000gn/T/tmpuiyws7u1/model.ckpt.\n",
      "INFO:tensorflow:Loss for final step: 4.3820252.\n"
     ]
    },
    {
     "data": {
      "text/plain": [
       "<tensorflow_estimator.python.estimator.estimator.Estimator at 0x12d9c4ba8>"
      ]
     },
     "execution_count": 34,
     "metadata": {},
     "output_type": "execute_result"
    }
   ],
   "source": [
    "# Train the model\n",
    "train_input_fn = tf.estimator.inputs.numpy_input_fn(\n",
    "    x={\"x\": train_data},\n",
    "    y=train_labels,\n",
    "    batch_size=200,\n",
    "    num_epochs=None,\n",
    "    shuffle=True)\n",
    "\n",
    "# train one step and display the probabilties\n",
    "mnist_classifier.train(\n",
    "    input_fn=train_input_fn,\n",
    "    steps=1,\n",
    "    hooks=[logging_hook])"
   ]
  },
  {
   "cell_type": "code",
   "execution_count": 35,
   "metadata": {},
   "outputs": [
    {
     "name": "stdout",
     "output_type": "stream",
     "text": [
      "INFO:tensorflow:Calling model_fn.\n",
      "INFO:tensorflow:Done calling model_fn.\n",
      "INFO:tensorflow:Create CheckpointSaverHook.\n",
      "INFO:tensorflow:Graph was finalized.\n",
      "WARNING:tensorflow:From /Users/russ/anaconda2/envs/tensorflow/lib/python3.7/site-packages/tensorflow/python/training/saver.py:1266: checkpoint_exists (from tensorflow.python.training.checkpoint_management) is deprecated and will be removed in a future version.\n",
      "Instructions for updating:\n",
      "Use standard file APIs to check for files with this prefix.\n",
      "INFO:tensorflow:Restoring parameters from /var/folders/s0/_bjfgcs11910zcp53lw2y3pc0000gn/T/tmpuiyws7u1/model.ckpt-1\n",
      "WARNING:tensorflow:From /Users/russ/anaconda2/envs/tensorflow/lib/python3.7/site-packages/tensorflow/python/training/saver.py:1070: get_checkpoint_mtimes (from tensorflow.python.training.checkpoint_management) is deprecated and will be removed in a future version.\n",
      "Instructions for updating:\n",
      "Use standard file utilities to get mtimes.\n",
      "INFO:tensorflow:Running local_init_op.\n",
      "INFO:tensorflow:Done running local_init_op.\n",
      "INFO:tensorflow:Saving checkpoints for 1 into /var/folders/s0/_bjfgcs11910zcp53lw2y3pc0000gn/T/tmpuiyws7u1/model.ckpt.\n",
      "INFO:tensorflow:loss = 4.3819804, step = 2\n",
      "INFO:tensorflow:Saving checkpoints for 5 into /var/folders/s0/_bjfgcs11910zcp53lw2y3pc0000gn/T/tmpuiyws7u1/model.ckpt.\n",
      "INFO:tensorflow:Loss for final step: 4.3814745.\n"
     ]
    },
    {
     "data": {
      "text/plain": [
       "<tensorflow_estimator.python.estimator.estimator.Estimator at 0x12d9c4ba8>"
      ]
     },
     "execution_count": 35,
     "metadata": {},
     "output_type": "execute_result"
    }
   ],
   "source": [
    "mnist_classifier.train(input_fn=train_input_fn, steps=4)"
   ]
  },
  {
   "cell_type": "code",
   "execution_count": null,
   "metadata": {},
   "outputs": [],
   "source": [
    "eval_input_fn = tf.estimator.inputs.numpy_input_fn(\n",
    "    x={\"x\": eval_data},\n",
    "    y=eval_labels,\n",
    "    num_epochs=1,\n",
    "    shuffle=False)\n",
    "\n",
    "eval_results = mnist_classifier.evaluate(input_fn=eval_input_fn)\n",
    "print(eval_results)"
   ]
  },
  {
   "cell_type": "markdown",
   "metadata": {},
   "source": [
    "# Now we test equivariancy on some examples"
   ]
  },
  {
   "cell_type": "code",
   "execution_count": 36,
   "metadata": {},
   "outputs": [
    {
     "name": "stdout",
     "output_type": "stream",
     "text": [
      "../data/mnist_png/samplesx/*.png\n",
      "samplesx import done. the shapes of x and y are: (8, 28, 28) (8, 80)\n"
     ]
    }
   ],
   "source": [
    "samples_x, samples_y = loaddata('samplesx')\n",
    "samples_x = samples_x/np.float32(255)"
   ]
  },
  {
   "cell_type": "code",
   "execution_count": 37,
   "metadata": {},
   "outputs": [
    {
     "data": {
      "text/plain": [
       "(8, 28, 28)"
      ]
     },
     "execution_count": 37,
     "metadata": {},
     "output_type": "execute_result"
    }
   ],
   "source": [
    "samples_x.shape"
   ]
  },
  {
   "cell_type": "code",
   "execution_count": 38,
   "metadata": {},
   "outputs": [
    {
     "data": {
      "image/png": "[encoded data removed]",
      "text/plain": [
       "<Figure size 432x288 with 2 Axes>"
      ]
     },
     "metadata": {
      "needs_background": "light"
     },
     "output_type": "display_data"
    },
    {
     "data": {
      "image/png": "[encoded data removed]",
      "text/plain": [
       "<Figure size 432x288 with 2 Axes>"
      ]
     },
     "metadata": {
      "needs_background": "light"
     },
     "output_type": "display_data"
    },
    {
     "data": {
      "image/png": "[encoded data removed]",
      "text/plain": [
       "<Figure size 432x288 with 2 Axes>"
      ]
     },
     "metadata": {
      "needs_background": "light"
     },
     "output_type": "display_data"
    },
    {
     "data": {
      "image/png": "[encoded data removed]",
      "text/plain": [
       "<Figure size 432x288 with 2 Axes>"
      ]
     },
     "metadata": {
      "needs_background": "light"
     },
     "output_type": "display_data"
    },
    {
     "data": {
      "image/png": "[encoded data removed]",
      "text/plain": [
       "<Figure size 432x288 with 2 Axes>"
      ]
     },
     "metadata": {
      "needs_background": "light"
     },
     "output_type": "display_data"
    }
   ],
   "source": [
    "plt.figure()\n",
    "plt.imshow(samples_x[0])\n",
    "plt.colorbar()\n",
    "plt.grid(False)\n",
    "\n",
    "plt.figure()\n",
    "plt.imshow(samples_x[1])\n",
    "plt.colorbar()\n",
    "plt.grid(False)\n",
    "\n",
    "plt.figure()\n",
    "plt.imshow(samples_x[2])\n",
    "plt.colorbar()\n",
    "plt.grid(False)\n",
    "\n",
    "plt.figure()\n",
    "plt.imshow(samples_x[3])\n",
    "plt.colorbar()\n",
    "plt.grid(False)\n",
    "\n",
    "plt.figure()\n",
    "plt.imshow(samples_x[4])\n",
    "plt.colorbar()\n",
    "plt.grid(False)\n",
    "\n",
    "plt.show()"
   ]
  },
  {
   "cell_type": "code",
   "execution_count": 39,
   "metadata": {},
   "outputs": [],
   "source": [
    "pred_input_fn = tf.estimator.inputs.numpy_input_fn(\n",
    "    x={\"x\": samples_x},\n",
    "    shuffle=False)"
   ]
  },
  {
   "cell_type": "code",
   "execution_count": 40,
   "metadata": {},
   "outputs": [],
   "source": [
    "predictions = mnist_classifier.predict(input_fn = pred_input_fn)"
   ]
  },
  {
   "cell_type": "code",
   "execution_count": 41,
   "metadata": {},
   "outputs": [],
   "source": [
    "def decode(c):\n",
    "    # too lazy to implement it properly\n",
    "    vector =[]\n",
    "    for i in range(80):\n",
    "        if i == c:\n",
    "            vector.append(1)\n",
    "        else:\n",
    "            vector.append(0)\n",
    "    for label in range(10):\n",
    "        for angle in range(8):\n",
    "            if str_to_vect(label, angle) == vector:\n",
    "                if angle in range(4):\n",
    "                    out = str(90 * angle) + ' degrees'\n",
    "                elif angle == 4:\n",
    "                    out = 'FLIP_LEFT_RIGHT'\n",
    "                elif angle == 5:\n",
    "                    out = '90 degree then FLIP_TOP_BOTTOM'\n",
    "                elif angle == 6:\n",
    "                    out = 'FLIP_TOP_BOTTOM'\n",
    "                elif angle == 7:\n",
    "                    out = '90 degree then FLIP_LEFT_RIGHT'\n",
    "                else:\n",
    "                    out = 'errorrr'\n",
    "                return label, out"
   ]
  },
  {
   "cell_type": "code",
   "execution_count": 42,
   "metadata": {},
   "outputs": [
    {
     "data": {
      "text/plain": [
       "73"
      ]
     },
     "execution_count": 42,
     "metadata": {},
     "output_type": "execute_result"
    }
   ],
   "source": [
    "str_to_vect(3, 7).index(1)"
   ]
  },
  {
   "cell_type": "code",
   "execution_count": 43,
   "metadata": {},
   "outputs": [
    {
     "data": {
      "text/plain": [
       "(3, '90 degree then FLIP_LEFT_RIGHT')"
      ]
     },
     "execution_count": 43,
     "metadata": {},
     "output_type": "execute_result"
    }
   ],
   "source": [
    "decode(73)"
   ]
  },
  {
   "cell_type": "code",
   "execution_count": 44,
   "metadata": {},
   "outputs": [],
   "source": [
    "# def decode(c):\n",
    "#     return c%10, (4 -(c-c%10)/10)%4 * 90"
   ]
  },
  {
   "cell_type": "code",
   "execution_count": 45,
   "metadata": {},
   "outputs": [
    {
     "name": "stdout",
     "output_type": "stream",
     "text": [
      "INFO:tensorflow:Calling model_fn.\n",
      "INFO:tensorflow:Done calling model_fn.\n",
      "INFO:tensorflow:Graph was finalized.\n",
      "INFO:tensorflow:Restoring parameters from /var/folders/s0/_bjfgcs11910zcp53lw2y3pc0000gn/T/tmpuiyws7u1/model.ckpt-5\n",
      "INFO:tensorflow:Running local_init_op.\n",
      "INFO:tensorflow:Done running local_init_op.\n",
      "(7, '180 degrees') \n",
      " [0.0125175  0.01252118 0.01250661 0.01249022 0.01251617 0.01245463\n",
      " 0.01248368 0.01254168 0.01248214 0.0125006  0.01251234 0.01251654\n",
      " 0.01250277 0.01249098 0.012515   0.01245396 0.01248158 0.01253842\n",
      " 0.01247829 0.01250014 0.01251664 0.01252441 0.01250379 0.01249373\n",
      " 0.01251538 0.01245433 0.01247961 0.01254302 0.01248413 0.01250657\n",
      " 0.01251542 0.01251749 0.01250335 0.01249307 0.01251808 0.01245213\n",
      " 0.01248017 0.0125411  0.01248117 0.01250224 0.01251356 0.01251734\n",
      " 0.01250081 0.0124911  0.01251494 0.01245492 0.01247862 0.01253922\n",
      " 0.01247887 0.01250382 0.0125129  0.01251809 0.01250243 0.0124913\n",
      " 0.01251378 0.01245487 0.01247756 0.01254016 0.01247923 0.01250312\n",
      " 0.01251217 0.01251947 0.01250045 0.01248984 0.01251473 0.01245466\n",
      " 0.01247584 0.01254232 0.01247851 0.01250359 0.01251105 0.01251794\n",
      " 0.01249974 0.01249215 0.01251412 0.01245548 0.01247795 0.01254032\n",
      " 0.01247781 0.01250499]\n",
      "(7, '90 degrees') \n",
      " [0.01251698 0.01252135 0.01249741 0.01249322 0.01251394 0.01245782\n",
      " 0.01247533 0.0125419  0.01248565 0.01250873 0.01251584 0.01251476\n",
      " 0.01249742 0.01249386 0.01251713 0.01245617 0.01247492 0.01254337\n",
      " 0.0124814  0.01250703 0.01251596 0.01251801 0.01249809 0.01249371\n",
      " 0.01251562 0.01245871 0.01247895 0.01254104 0.01248203 0.01250806\n",
      " 0.01251472 0.01251349 0.01249728 0.01249345 0.01251631 0.0124574\n",
      " 0.01247795 0.01253914 0.0124841  0.01250614 0.012514   0.01251668\n",
      " 0.01249974 0.01248751 0.0125178  0.01245696 0.01247529 0.01253946\n",
      " 0.01248224 0.01250472 0.01251122 0.01251527 0.01250029 0.01249278\n",
      " 0.01251728 0.01245561 0.01247611 0.01253748 0.01247978 0.01250724\n",
      " 0.01251478 0.01251737 0.01249834 0.0124924  0.01251814 0.01245475\n",
      " 0.01247604 0.01253823 0.01248191 0.01250577 0.0125139  0.01251621\n",
      " 0.01249955 0.01249078 0.01251474 0.01245744 0.01247596 0.01253779\n",
      " 0.01248123 0.01250279]\n",
      "(7, '270 degrees') \n",
      " [0.01250979 0.01251423 0.01249847 0.01249223 0.01252116 0.01245676\n",
      " 0.01247211 0.01254215 0.01247711 0.01250319 0.01251372 0.01251863\n",
      " 0.01249844 0.01249069 0.01251725 0.01245705 0.01247525 0.0125431\n",
      " 0.01248081 0.01250527 0.01251096 0.01251269 0.01249891 0.01249145\n",
      " 0.01252042 0.01245552 0.01247398 0.01254053 0.0124787  0.01250148\n",
      " 0.01251243 0.01251675 0.01250011 0.01249163 0.01251885 0.01245846\n",
      " 0.01247318 0.01254652 0.01247955 0.01250456 0.01251495 0.0125201\n",
      " 0.01249836 0.01249595 0.0125161  0.01245308 0.0124765  0.01254538\n",
      " 0.01247984 0.01250807 0.01251536 0.01252237 0.01249848 0.01249211\n",
      " 0.01251653 0.01245545 0.01247435 0.01254412 0.01247893 0.01250593\n",
      " 0.01251619 0.01252101 0.01250274 0.01249    0.01251674 0.01245749\n",
      " 0.01247509 0.01254198 0.01248041 0.01250477 0.0125164  0.01252132\n",
      " 0.01250081 0.01249137 0.01251849 0.01245501 0.01247592 0.01254156\n",
      " 0.01248049 0.0125061 ]\n",
      "(7, '90 degree then FLIP_LEFT_RIGHT') \n",
      " [0.01251452 0.01251514 0.01250184 0.01248784 0.01252078 0.01245728\n",
      " 0.01248134 0.01254033 0.01247529 0.01250278 0.01251252 0.01251959\n",
      " 0.01249942 0.01248946 0.0125164  0.01245734 0.01248174 0.01253858\n",
      " 0.01247781 0.01250413 0.01251267 0.01251489 0.01249902 0.01248804\n",
      " 0.01251956 0.01245658 0.01247988 0.01254235 0.01247585 0.01250444\n",
      " 0.01251597 0.01251848 0.01250086 0.01248811 0.01251824 0.01245828\n",
      " 0.01248129 0.01254115 0.01247708 0.01250464 0.01251404 0.01251545\n",
      " 0.01250193 0.01249161 0.01251732 0.0124601  0.01247667 0.01253975\n",
      " 0.01247966 0.01250187 0.01251778 0.01251694 0.01250002 0.01249183\n",
      " 0.01251719 0.01245866 0.01247698 0.01254235 0.01248158 0.01250464\n",
      " 0.01251391 0.01251503 0.01249977 0.01249274 0.0125164  0.01245672\n",
      " 0.01247805 0.01254208 0.01248018 0.01250571 0.012515   0.01251726\n",
      " 0.01249922 0.01249094 0.01251738 0.01245733 0.01247694 0.01254256\n",
      " 0.01248162 0.01250332]\n",
      "(7, '0 degrees') \n",
      " [0.01251627 0.01252358 0.01249844 0.01249388 0.01251476 0.01245935\n",
      " 0.01247375 0.01254848 0.01248457 0.01251171 0.01251547 0.01251639\n",
      " 0.01249841 0.01249322 0.01251603 0.01245572 0.0124749  0.01254544\n",
      " 0.01247988 0.01250612 0.0125166  0.01251961 0.0124999  0.01249175\n",
      " 0.01251361 0.01246046 0.01247821 0.01254397 0.01248121 0.01250654\n",
      " 0.01251265 0.01251618 0.01249698 0.0124911  0.01251301 0.01245689\n",
      " 0.01247677 0.01254332 0.01247987 0.0125045  0.01251251 0.01251659\n",
      " 0.01250059 0.01249119 0.01251625 0.0124565  0.01247426 0.01254206\n",
      " 0.01247896 0.01250399 0.01251206 0.01251664 0.01249804 0.01249315\n",
      " 0.01251656 0.01245547 0.01247611 0.01254057 0.01247954 0.01250558\n",
      " 0.01251379 0.01251628 0.01249959 0.01249241 0.0125167  0.01245538\n",
      " 0.01247645 0.012539   0.01247998 0.01250444 0.01251178 0.012516\n",
      " 0.01250022 0.01249198 0.01251597 0.01245625 0.0124757  0.01253859\n",
      " 0.01248063 0.0125028 ]\n",
      "(7, 'FLIP_TOP_BOTTOM') \n",
      " [0.01251264 0.01252451 0.01250219 0.01249425 0.01251612 0.01245341\n",
      " 0.01248025 0.01254066 0.01248235 0.01250108 0.01251342 0.01251856\n",
      " 0.01250359 0.01249584 0.01251658 0.01245314 0.01247972 0.01254\n",
      " 0.01247964 0.01249995 0.01251376 0.01252614 0.0125038  0.01249473\n",
      " 0.01251584 0.01245474 0.01247843 0.01254164 0.01248236 0.01250437\n",
      " 0.01251391 0.01251894 0.01250276 0.01249318 0.0125184  0.01245168\n",
      " 0.01247682 0.01254376 0.0124782  0.01250072 0.01251719 0.01251847\n",
      " 0.01249991 0.01249131 0.01251505 0.01245155 0.01247616 0.01254275\n",
      " 0.0124788  0.01250467 0.012515   0.01251753 0.01250182 0.01248997\n",
      " 0.01251351 0.01245448 0.01247704 0.01254174 0.01248005 0.0125032\n",
      " 0.01251495 0.01251931 0.01250019 0.01248662 0.01251585 0.01245386\n",
      " 0.01247491 0.01254439 0.0124803  0.01250469 0.01251275 0.01251753\n",
      " 0.01250227 0.01249037 0.01251501 0.01245215 0.01247645 0.01254087\n",
      " 0.01247861 0.01250668]\n",
      "(7, '90 degrees') \n",
      " [0.01251327 0.01251171 0.0124982  0.01249093 0.01252075 0.0124557\n",
      " 0.01247744 0.01253784 0.0124781  0.01250323 0.01251397 0.01251486\n",
      " 0.01250019 0.01249184 0.01252113 0.01245773 0.01247779 0.01254354\n",
      " 0.01248056 0.01250531 0.01251266 0.0125126  0.01249749 0.01249127\n",
      " 0.01252334 0.012457   0.01247741 0.01253942 0.01247505 0.01250515\n",
      " 0.01251484 0.01251607 0.0124978  0.01249018 0.01251869 0.0124574\n",
      " 0.01247818 0.01254171 0.01247928 0.01250718 0.0125163  0.01251634\n",
      " 0.01250066 0.01249103 0.01251673 0.012459   0.01247754 0.01253734\n",
      " 0.01248268 0.0125031  0.01251625 0.01251656 0.01249851 0.01249093\n",
      " 0.01251753 0.012458   0.01247646 0.01253945 0.01248236 0.01250429\n",
      " 0.01251601 0.01251662 0.01249721 0.01249547 0.01251615 0.01245724\n",
      " 0.01247856 0.012542   0.01248477 0.01250762 0.01251571 0.01251803\n",
      " 0.01249703 0.01249166 0.0125168  0.01245924 0.0124776  0.01254009\n",
      " 0.01248158 0.01250273]\n",
      "(7, '0 degrees') \n",
      " [0.01251063 0.01251441 0.01249715 0.01249358 0.01251874 0.01246047\n",
      " 0.01247059 0.01254589 0.01247806 0.01250594 0.01251423 0.01251816\n",
      " 0.01249824 0.01249281 0.01251838 0.01245769 0.01247295 0.01254499\n",
      " 0.01247915 0.01250553 0.01251158 0.01251452 0.01249964 0.01249233\n",
      " 0.01252022 0.01245825 0.01247222 0.01254343 0.01247804 0.01250286\n",
      " 0.01251117 0.01252012 0.01249708 0.01249296 0.01251735 0.01245972\n",
      " 0.01247275 0.01254303 0.01247876 0.01250482 0.01251289 0.01251725\n",
      " 0.01250034 0.01249359 0.01251772 0.01245457 0.01247559 0.01254344\n",
      " 0.01247902 0.01250687 0.01251444 0.0125191  0.01249928 0.01249076\n",
      " 0.01251942 0.01245431 0.01247578 0.01254433 0.01247916 0.01250562\n",
      " 0.01251539 0.01251776 0.01250447 0.01249199 0.01251751 0.01245683\n",
      " 0.01247601 0.01254171 0.01247762 0.0125051  0.0125155  0.01251749\n",
      " 0.01250023 0.01249223 0.01251781 0.01245585 0.01247445 0.01254464\n",
      " 0.01247915 0.01250638]\n"
     ]
    }
   ],
   "source": [
    "for prediction in predictions:\n",
    "    print (decode(prediction['classes']), '\\n', prediction['probabilities'])"
   ]
  },
  {
   "cell_type": "code",
   "execution_count": null,
   "metadata": {},
   "outputs": [],
   "source": []
  },
  {
   "cell_type": "code",
   "execution_count": null,
   "metadata": {},
   "outputs": [],
   "source": []
  }
 ],
 "metadata": {
  "kernelspec": {
   "display_name": "Python 3",
   "language": "python",
   "name": "python3"
  },
  "language_info": {
   "codemirror_mode": {
    "name": "ipython",
    "version": 3
   },
   "file_extension": ".py",
   "mimetype": "text/x-python",
   "name": "python",
   "nbconvert_exporter": "python",
   "pygments_lexer": "ipython3",
   "version": "3.7.3"
  }
 },
 "nbformat": 4,
 "nbformat_minor": 2
}
