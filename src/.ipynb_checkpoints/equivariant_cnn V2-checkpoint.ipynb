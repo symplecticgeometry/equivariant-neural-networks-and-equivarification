{
 "cells": [
  {
   "cell_type": "code",
   "execution_count": 84,
   "metadata": {},
   "outputs": [],
   "source": [
    "from __future__ import absolute_import, division, print_function\n",
    "import math\n",
    "import numpy as np\n",
    "import h5py\n",
    "import matplotlib.pyplot as plt\n",
    "import tensorflow as tf\n",
    "from tensorflow.python.framework import ops\n",
    "from tensorflow.examples.tutorials.mnist import input_data\n",
    "from tensorflow import keras\n",
    "import skimage\n",
    "from skimage import data\n",
    "from skimage.transform import resize\n",
    "from PIL import Image\n",
    "import matplotlib.image as mpimg\n",
    "import numpy as np\n",
    "import glob\n",
    "from sympy.combinatorics.named_groups import *\n",
    "\n",
    "tf.logging.set_verbosity(tf.logging.INFO)"
   ]
  },
  {
   "cell_type": "code",
   "execution_count": 85,
   "metadata": {},
   "outputs": [],
   "source": [
    "directory = '../data/mnist_png/'"
   ]
  },
  {
   "cell_type": "code",
   "execution_count": 86,
   "metadata": {},
   "outputs": [],
   "source": [
    "G = DihedralGroup(4)\n",
    "#G = CyclicGroup(4)\n",
    "\n",
    "G = list(G.generate_dimino())\n",
    "\n",
    "i_f_g = {}\n",
    "g_f_i = {}\n",
    "for i in range(len(G)):\n",
    "    g_f_i[i] = G[i]\n",
    "    i_f_g[G[i]] = i"
   ]
  },
  {
   "cell_type": "code",
   "execution_count": 87,
   "metadata": {},
   "outputs": [
    {
     "data": {
      "text/plain": [
       "{Permutation(3): 0,\n",
       " Permutation(0, 1, 2, 3): 1,\n",
       " Permutation(0, 2)(1, 3): 2,\n",
       " Permutation(0, 3, 2, 1): 3,\n",
       " Permutation(0, 3)(1, 2): 4,\n",
       " Permutation(1, 3): 5,\n",
       " Permutation(0, 1)(2, 3): 6,\n",
       " Permutation(3)(0, 2): 7}"
      ]
     },
     "execution_count": 87,
     "metadata": {},
     "output_type": "execute_result"
    }
   ],
   "source": [
    "i_f_g"
   ]
  },
  {
   "cell_type": "code",
   "execution_count": 88,
   "metadata": {},
   "outputs": [
    {
     "data": {
      "text/plain": [
       "{0: Permutation(3),\n",
       " 1: Permutation(0, 1, 2, 3),\n",
       " 2: Permutation(0, 2)(1, 3),\n",
       " 3: Permutation(0, 3, 2, 1),\n",
       " 4: Permutation(0, 3)(1, 2),\n",
       " 5: Permutation(1, 3),\n",
       " 6: Permutation(0, 1)(2, 3),\n",
       " 7: Permutation(3)(0, 2)}"
      ]
     },
     "execution_count": 88,
     "metadata": {},
     "output_type": "execute_result"
    }
   ],
   "source": [
    "g_f_i"
   ]
  },
  {
   "cell_type": "code",
   "execution_count": 89,
   "metadata": {},
   "outputs": [],
   "source": [
    "# let ei be the obvious element in R^10\n",
    "# let F_hat be the perfect network after trainning.\n",
    "# let xi in X be an image that represents the handwritting of number i.\n",
    "# then we want (define) [F_hat(xi)](gj) = ei if j = 0; 0 else. Here, g0 is the identity element (not required tho)\n",
    "# note F(xi) = p[F_hat(xi)] = [F_hat(xi)](g0) = ei\n",
    "# now we calculate [F_hat(g xi)]\n",
    "# [F_hat(g xi)](gj) = [g F_hat(xi)](gj) = [F_hat(xi)](g^(-1) gj)\n",
    "# by the definition, and let g = gk, then\n",
    "# [F_hat(gk xi)](gj) = ei if gk = gj, i.e. k =j; 0 else. \n",
    "# Note that we identify Z^{x G} with G x G x ... x G via\n",
    "# s \\mapsto s(g0), s(g1), ..., s(g(n-1)), where n = |G|\n",
    "# hence, F_hat(gk xi) is mapped to (0,...,ei,...,0), where ei is at the location k"
   ]
  },
  {
   "cell_type": "code",
   "execution_count": 90,
   "metadata": {},
   "outputs": [],
   "source": [
    "def str_to_vect(label, angle):\n",
    "    #label denotes the number 0-9\n",
    "    #angle is in this case, clockwise. In general, the these two are related to how we encode the operations\n",
    "    i = int(label)\n",
    "    k = int(angle)\n",
    "    ei = []\n",
    "    for j in range(10):\n",
    "        if j == i:\n",
    "            ei.append(1)\n",
    "        else:\n",
    "            ei.append(0)\n",
    "    zero = [0]*10\n",
    "    vec = []\n",
    "    for j in range(len(G)):\n",
    "        if j == k:\n",
    "            vec.append(ei)\n",
    "        else:\n",
    "            vec.append(zero)\n",
    "    res = []\n",
    "    for a in vec:\n",
    "        for b in a:\n",
    "            res.append(b)\n",
    "    return res"
   ]
  },
  {
   "cell_type": "code",
   "execution_count": 91,
   "metadata": {},
   "outputs": [
    {
     "name": "stdout",
     "output_type": "stream",
     "text": [
      "[0, 0, 0, 0, 0, 0, 0, 0, 0, 0, 0, 0, 0, 0, 0, 0, 0, 0, 0, 0, 0, 0, 0, 0, 0, 0, 0, 0, 0, 0, 0, 0, 0, 0, 0, 0, 0, 0, 0, 0, 0, 0, 0, 0, 0, 0, 0, 0, 0, 0, 1, 0, 0, 0, 0, 0, 0, 0, 0, 0, 0, 0, 0, 0, 0, 0, 0, 0, 0, 0, 0, 0, 0, 0, 0, 0, 0, 0, 0, 0]\n"
     ]
    }
   ],
   "source": [
    "print (str_to_vect(0,5))"
   ]
  },
  {
   "cell_type": "code",
   "execution_count": 92,
   "metadata": {},
   "outputs": [],
   "source": [
    "#loaddata\n",
    "def loaddata(s):\n",
    "    filelist = glob.glob(directory + s + '/*.png')\n",
    "    y_temp = []\n",
    "    x_temp = []\n",
    "    print (directory + s + '/*.png')\n",
    "    for fname in filelist:\n",
    "        short_name = fname.split('/')[-1]\n",
    "        label, angle, name = short_name.split('_')\n",
    "        img = mpimg.imread(fname)\n",
    "        x_temp.append(img)\n",
    "        vector = str_to_vect(label, angle)\n",
    "        y_temp.append(vector)\n",
    "\n",
    "    x = np.asarray(x_temp)\n",
    "    y = np.asarray(y_temp)\n",
    "    print (s + ' import done. the shapes of x and y are:', x.shape, y.shape)\n",
    "    return x, y\n"
   ]
  },
  {
   "cell_type": "code",
   "execution_count": 93,
   "metadata": {},
   "outputs": [
    {
     "name": "stdout",
     "output_type": "stream",
     "text": [
      "../data/mnist_png/trainingx/*.png\n",
      "trainingx import done. the shapes of x and y are: (60000, 28, 28) (60000, 80)\n"
     ]
    }
   ],
   "source": [
    "train_x, train_y = loaddata('trainingx')"
   ]
  },
  {
   "cell_type": "code",
   "execution_count": 94,
   "metadata": {},
   "outputs": [
    {
     "name": "stdout",
     "output_type": "stream",
     "text": [
      "../data/mnist_png/testingx/*.png\n",
      "testingx import done. the shapes of x and y are: (10000, 28, 28) (10000, 80)\n"
     ]
    }
   ],
   "source": [
    "test_x, test_y = loaddata('testingx')"
   ]
  },
  {
   "cell_type": "code",
   "execution_count": 95,
   "metadata": {},
   "outputs": [
    {
     "name": "stdout",
     "output_type": "stream",
     "text": [
      "../data/mnist_png/samplesx/*.png\n",
      "samplesx import done. the shapes of x and y are: (8, 28, 28) (8, 80)\n"
     ]
    }
   ],
   "source": [
    "samples_x, samples_y = loaddata('samplesx')\n",
    "samples_x = samples_x/np.float32(255)"
   ]
  },
  {
   "cell_type": "code",
   "execution_count": 96,
   "metadata": {},
   "outputs": [
    {
     "data": {
      "image/png": "[encoded data removed]",
      "text/plain": [
       "<Figure size 432x288 with 2 Axes>"
      ]
     },
     "metadata": {
      "needs_background": "light"
     },
     "output_type": "display_data"
    }
   ],
   "source": [
    "plt.figure()\n",
    "plt.imshow(samples_x[4])\n",
    "plt.colorbar()\n",
    "plt.grid(False)\n",
    "plt.show()"
   ]
  },
  {
   "cell_type": "code",
   "execution_count": 97,
   "metadata": {},
   "outputs": [],
   "source": [
    "# representation of group G. \n",
    "# for each group element, we associate it with a transformation.\n",
    "# the following is only for the rotation by 90 or reflection along x, y\n",
    "operations = {}\n",
    "\n",
    "operations[g_f_i[0]] = (lambda x: tf.image.rot90(x, k =0))\n",
    "operations[g_f_i[1]] = (lambda x: tf.image.rot90(x, k =3))\n",
    "operations[g_f_i[2]] = (lambda x: tf.image.rot90(x, k =2))\n",
    "operations[g_f_i[3]] = (lambda x: tf.image.rot90(x, k =1))\n",
    "\n",
    "if len(G) > 4:\n",
    "    operations[g_f_i[4]] = (lambda x: tf.image.flip_up_down(x))\n",
    "    operations[g_f_i[5]] = (lambda x: tf.image.flip_left_right(tf.image.rot90(x, k = 1)))\n",
    "    operations[g_f_i[6]] = (lambda x: tf.image.flip_left_right(x))\n",
    "    operations[g_f_i[7]] = (lambda x: tf.image.flip_up_down(tf.image.rot90(x, k = 1)))"
   ]
  },
  {
   "cell_type": "code",
   "execution_count": 98,
   "metadata": {},
   "outputs": [],
   "source": [
    "def compute_cost(Z, Y):\n",
    "    cost = tf.reduce_mean(tf.nn.softmax_cross_entropy_with_logits(logits = Z, labels = Y))    \n",
    "    return cost"
   ]
  },
  {
   "cell_type": "code",
   "execution_count": 99,
   "metadata": {},
   "outputs": [],
   "source": [
    "def operation(x, g):\n",
    "    return operations[g](x)"
   ]
  },
  {
   "cell_type": "markdown",
   "metadata": {},
   "source": [
    "we make a choice of an order of G, i.e., (g0,g1,g2,...), where we choose g0 = e (not necessary)\n",
    "in this case, we chose G = (e, g, g^2, g^3)\n",
    "we make an identification Z^{xG} = {s: G \\to X} with Z x Z ... x Z via\n",
    "s \\mapsto (s(g0), s(g1), s(g2),...)\n",
    "Note that h acts on Z^{xG} by hs(g) = s(h^{-1}g)\n",
    "we wants to see how h acts on Z x Z ... x Z.\n",
    "hs is identified with (..., hs(gi), ...) = (..., s((h^{-1}*gi), ...)\n",
    "\n",
    "Z^{xG} --> G x G x ... x G\n",
    "|                |\n",
    "|h               |h\n",
    "V                V\n",
    "Z^{xG}--> G x G x ... x G\n",
    "\n",
    "\n",
    "s -------> (..., s(gi),...), this is the i-th location\n",
    "|                |\n",
    "|h               |h\n",
    "V                V\n",
    "hs-------> (..., s((h^{-1}*gi), ...),\n",
    "\n",
    "Now we know h maps the i-th element s(gi) to the j-th element s((h^{-1}*gj) as long as \n",
    "gi = h^{-1} * gj\n",
    "given j, we solve for i.\n",
    "i = i_f_g(gi) = i_f_g(h^{-1} * gj) "
   ]
  },
  {
   "cell_type": "code",
   "execution_count": 100,
   "metadata": {},
   "outputs": [],
   "source": [
    "def permu(x, h):\n",
    "    return [x[i_f_g[(h**(-1)) * g_f_i[j]]] for j in range(len(G))]"
   ]
  },
  {
   "cell_type": "code",
   "execution_count": 101,
   "metadata": {},
   "outputs": [
    {
     "name": "stdout",
     "output_type": "stream",
     "text": [
      "[0, 1, 2, 3, 4, 5, 6, 7]\n",
      "[3, 0, 1, 2, 5, 6, 7, 4]\n",
      "[2, 3, 0, 1, 6, 7, 4, 5]\n",
      "[1, 2, 3, 0, 7, 4, 5, 6]\n",
      "[4, 5, 6, 7, 0, 1, 2, 3]\n",
      "[5, 6, 7, 4, 3, 0, 1, 2]\n",
      "[6, 7, 4, 5, 2, 3, 0, 1]\n",
      "[7, 4, 5, 6, 1, 2, 3, 0]\n"
     ]
    }
   ],
   "source": [
    "for i in range(len(G)):\n",
    "    print (permu([0,1,2,3,4,5,6,7], g_f_i[i]))"
   ]
  },
  {
   "cell_type": "code",
   "execution_count": 102,
   "metadata": {},
   "outputs": [],
   "source": [
    "def equivarification(X, graphs, graph_name, layer_names, layer_parameters, rep):\n",
    "    if rep == 'permutation':\n",
    "        action = permu\n",
    "    # rotation will be deleted, since it is integrated in operation\n",
    "    elif rep == 'rotation':\n",
    "        action = rotationx\n",
    "    elif rep == 'operation':\n",
    "        action = operation\n",
    "    graph = graphs[graph_name]\n",
    "    Z_hat = []\n",
    "    for i in range(len(G)):\n",
    "        Z_hat.append(graph(action(X, (g_f_i[i])**(-1)), i, layer_names, layer_parameters))\n",
    "    return Z_hat"
   ]
  },
  {
   "cell_type": "code",
   "execution_count": 103,
   "metadata": {},
   "outputs": [],
   "source": [
    "def convolution(x, i, Names, filter_nums):\n",
    "    Name = Names[0]\n",
    "    filter_num = filter_nums[Name]\n",
    "    \n",
    "    stage = (i != 0)\n",
    "    y = tf.layers.conv2d(\n",
    "      inputs=x,\n",
    "      filters=filter_num,\n",
    "      kernel_size=[3, 3],\n",
    "      padding=\"same\",\n",
    "      activation=tf.nn.relu,\n",
    "      reuse = stage,\n",
    "      name = Name)\n",
    "    return y  "
   ]
  },
  {
   "cell_type": "code",
   "execution_count": 104,
   "metadata": {},
   "outputs": [],
   "source": [
    "def conv_concat(x, i, Names, filter_nums):   \n",
    "    y = tf.concat(x, axis = 3)    \n",
    "    return convolution(y, i, Names, filter_nums)"
   ]
  },
  {
   "cell_type": "code",
   "execution_count": 105,
   "metadata": {},
   "outputs": [],
   "source": [
    "def basic_graph(x, i, layer_names, layer_parameters):\n",
    "    \n",
    "    stage = (i != 0)\n",
    "    \n",
    "    concat_x = tf.concat(x, axis = 3)\n",
    "    \n",
    "    X3 = convolution(concat_x, i, [layer_names[0]], layer_parameters)\n",
    "    \n",
    "    X4 = tf.layers.max_pooling2d(inputs=X3, pool_size=[4, 4], strides=4)\n",
    "        \n",
    "    X4 = tf.reshape(X4, [-1, 7 * 7 * 32])\n",
    "        \n",
    "    X5 = tf.layers.dense(inputs=X4, \n",
    "                              units=1024, \n",
    "                              activation=tf.nn.relu,\n",
    "                              reuse = stage,\n",
    "                              name = layer_names[1])\n",
    "\n",
    "    # Logits Layer\n",
    "    X6 = tf.layers.dense(inputs=X5,\n",
    "                         units=10,\n",
    "                         reuse = stage,\n",
    "                         name = layer_names[2])\n",
    "\n",
    "    return X6"
   ]
  },
  {
   "cell_type": "code",
   "execution_count": 106,
   "metadata": {},
   "outputs": [],
   "source": [
    "def cnn_model_fn(features, labels, mode):\n",
    "    \"\"\"Model function for CNN.\"\"\"    \n",
    "    \n",
    "    graphs = {'conv_concat': conv_concat, \n",
    "              'convolution': convolution,\n",
    "              'basic_graph': basic_graph}\n",
    "    \n",
    "    layer_paremeters = {'conv1': 80, 'conv2': 80, 'conv3':32}\n",
    "    \n",
    "    X0 = tf.reshape(features[\"x\"], [-1, 28, 28, 1])\n",
    "\n",
    "    X1_hat = equivarification(X0, graphs, 'convolution', ['conv1'], layer_paremeters, 'operation')\n",
    "    \n",
    "    X2_hat = equivarification(X1_hat, graphs, 'conv_concat', ['conv2'], layer_paremeters, 'permutation')\n",
    "\n",
    "    X6_hat = equivarification(X2_hat, graphs, 'basic_graph', \n",
    "                              ['conv3', 'dense', 'logi'], \n",
    "                              layer_paremeters, \n",
    "                              'permutation')\n",
    "    \n",
    "    final = tf.concat(X6_hat, axis = 1)\n",
    "    \n",
    "    predictions = {\n",
    "      # Generate predictions (for PREDICT and EVAL mode)\n",
    "      \"classes\": tf.argmax(input=final, axis= 1),\n",
    "      # Add `softmax_tensor` to the graph. It is used for PREDICT and by the\n",
    "      # `logging_hook`.\n",
    "      \"probabilities\": tf.nn.softmax(final, name=\"softmax_tensor\")\n",
    "    }\n",
    "    \n",
    "    if mode == tf.estimator.ModeKeys.PREDICT:\n",
    "        return tf.estimator.EstimatorSpec(mode=mode, predictions=predictions)\n",
    "\n",
    "    # Calculate Loss (for both TRAIN and EVAL modes)\n",
    "    loss = compute_cost(final, labels)\n",
    "\n",
    "    # Configure the Training Op (for TRAIN mode)\n",
    "    if mode == tf.estimator.ModeKeys.TRAIN:\n",
    "        optimizer = tf.train.AdamOptimizer(learning_rate=0.0001)\n",
    "        train_op = optimizer.minimize(\n",
    "            loss=loss,\n",
    "            global_step=tf.train.get_global_step())\n",
    "        return tf.estimator.EstimatorSpec(mode=mode, loss=loss, train_op=train_op)\n",
    "\n",
    "    # Add evaluation metrics (for EVAL mode)\n",
    "    eval_metric_ops = {\n",
    "      \"accuracy\": tf.metrics.accuracy(\n",
    "          labels=tf.argmax(input=labels, axis= -1), predictions=predictions[\"classes\"])\n",
    "    }\n",
    "    return tf.estimator.EstimatorSpec(\n",
    "        mode=mode, loss=loss, eval_metric_ops=eval_metric_ops)"
   ]
  },
  {
   "cell_type": "code",
   "execution_count": 107,
   "metadata": {},
   "outputs": [],
   "source": [
    "train_data = train_x / 255.0\n",
    "eval_data = test_x / 255.0\n",
    "\n",
    "train_labels = train_y.astype(np.int32)  # not required\n",
    "eval_labels = test_y.astype(np.int32)  # not required"
   ]
  },
  {
   "cell_type": "code",
   "execution_count": 108,
   "metadata": {},
   "outputs": [
    {
     "data": {
      "text/plain": [
       "((60000, 28, 28), (60000, 80))"
      ]
     },
     "execution_count": 108,
     "metadata": {},
     "output_type": "execute_result"
    }
   ],
   "source": [
    "train_data.shape, train_labels.shape"
   ]
  },
  {
   "cell_type": "code",
   "execution_count": 109,
   "metadata": {},
   "outputs": [
    {
     "data": {
      "text/plain": [
       "((10000, 28, 28), (10000, 80))"
      ]
     },
     "execution_count": 109,
     "metadata": {},
     "output_type": "execute_result"
    }
   ],
   "source": [
    "eval_data.shape, eval_labels.shape"
   ]
  },
  {
   "cell_type": "code",
   "execution_count": 110,
   "metadata": {},
   "outputs": [
    {
     "name": "stdout",
     "output_type": "stream",
     "text": [
      "INFO:tensorflow:Using default config.\n",
      "WARNING:tensorflow:Using temporary folder as model directory: /var/folders/s0/_bjfgcs11910zcp53lw2y3pc0000gn/T/tmpe2m1jxv7\n",
      "INFO:tensorflow:Using config: {'_model_dir': '/var/folders/s0/_bjfgcs11910zcp53lw2y3pc0000gn/T/tmpe2m1jxv7', '_tf_random_seed': None, '_save_summary_steps': 100, '_save_checkpoints_steps': None, '_save_checkpoints_secs': 600, '_session_config': allow_soft_placement: true\n",
      "graph_options {\n",
      "  rewrite_options {\n",
      "    meta_optimizer_iterations: ONE\n",
      "  }\n",
      "}\n",
      ", '_keep_checkpoint_max': 5, '_keep_checkpoint_every_n_hours': 10000, '_log_step_count_steps': 100, '_train_distribute': None, '_device_fn': None, '_protocol': None, '_eval_distribute': None, '_experimental_distribute': None, '_service': None, '_cluster_spec': <tensorflow.python.training.server_lib.ClusterSpec object at 0x1363b61d0>, '_task_type': 'worker', '_task_id': 0, '_global_id_in_cluster': 0, '_master': '', '_evaluation_master': '', '_is_chief': True, '_num_ps_replicas': 0, '_num_worker_replicas': 1}\n"
     ]
    }
   ],
   "source": [
    "mnist_classifier = tf.estimator.Estimator(\n",
    "    model_fn=cnn_model_fn)"
   ]
  },
  {
   "cell_type": "code",
   "execution_count": 111,
   "metadata": {},
   "outputs": [],
   "source": [
    "tensors_to_log = {\"probabilities\": \"softmax_tensor\"}\n",
    "\n",
    "logging_hook = tf.train.LoggingTensorHook(\n",
    "    tensors=tensors_to_log, every_n_iter=50)"
   ]
  },
  {
   "cell_type": "code",
   "execution_count": 112,
   "metadata": {},
   "outputs": [
    {
     "name": "stdout",
     "output_type": "stream",
     "text": [
      "INFO:tensorflow:Calling model_fn.\n",
      "INFO:tensorflow:Done calling model_fn.\n",
      "INFO:tensorflow:Create CheckpointSaverHook.\n",
      "INFO:tensorflow:Graph was finalized.\n",
      "INFO:tensorflow:Running local_init_op.\n",
      "INFO:tensorflow:Done running local_init_op.\n",
      "INFO:tensorflow:Saving checkpoints for 0 into /var/folders/s0/_bjfgcs11910zcp53lw2y3pc0000gn/T/tmpe2m1jxv7/model.ckpt.\n",
      "INFO:tensorflow:probabilities = [[0.01250011 0.01250247 0.01250039 ... 0.01249789 0.01249791 0.01249987]\n",
      " [0.01249588 0.01250108 0.0125016  ... 0.01249499 0.01249666 0.01249892]\n",
      " [0.01249805 0.01250193 0.01250136 ... 0.01249703 0.01249855 0.01249764]\n",
      " ...\n",
      " [0.01249591 0.01250056 0.0125008  ... 0.01249526 0.01249804 0.01249959]\n",
      " [0.01249594 0.01250105 0.01249869 ... 0.01249593 0.01249949 0.01249807]\n",
      " [0.01249858 0.01250207 0.01250275 ... 0.01249578 0.01249722 0.01249838]]\n",
      "INFO:tensorflow:loss = 4.3820343, step = 1\n",
      "INFO:tensorflow:Saving checkpoints for 1 into /var/folders/s0/_bjfgcs11910zcp53lw2y3pc0000gn/T/tmpe2m1jxv7/model.ckpt.\n",
      "INFO:tensorflow:Loss for final step: 4.3820343.\n"
     ]
    },
    {
     "data": {
      "text/plain": [
       "<tensorflow_estimator.python.estimator.estimator.Estimator at 0x15fad6e10>"
      ]
     },
     "execution_count": 112,
     "metadata": {},
     "output_type": "execute_result"
    }
   ],
   "source": [
    "# Train the model\n",
    "train_input_fn = tf.estimator.inputs.numpy_input_fn(\n",
    "    x={\"x\": train_data},\n",
    "    y=train_labels,\n",
    "    batch_size=200,\n",
    "    num_epochs=None,\n",
    "    shuffle=True)\n",
    "\n",
    "# train one step and display the probabilties\n",
    "mnist_classifier.train(\n",
    "    input_fn=train_input_fn,\n",
    "    steps=1,\n",
    "    hooks=[logging_hook])"
   ]
  },
  {
   "cell_type": "code",
   "execution_count": 145,
   "metadata": {},
   "outputs": [
    {
     "name": "stdout",
     "output_type": "stream",
     "text": [
      "INFO:tensorflow:Calling model_fn.\n",
      "INFO:tensorflow:Done calling model_fn.\n",
      "INFO:tensorflow:Create CheckpointSaverHook.\n",
      "INFO:tensorflow:Graph was finalized.\n",
      "INFO:tensorflow:Restoring parameters from /var/folders/s0/_bjfgcs11910zcp53lw2y3pc0000gn/T/tmpe2m1jxv7/model.ckpt-555\n",
      "INFO:tensorflow:Running local_init_op.\n",
      "INFO:tensorflow:Done running local_init_op.\n",
      "INFO:tensorflow:Saving checkpoints for 555 into /var/folders/s0/_bjfgcs11910zcp53lw2y3pc0000gn/T/tmpe2m1jxv7/model.ckpt.\n",
      "INFO:tensorflow:loss = 0.6118001, step = 556\n",
      "INFO:tensorflow:Saving checkpoints for 561 into /var/folders/s0/_bjfgcs11910zcp53lw2y3pc0000gn/T/tmpe2m1jxv7/model.ckpt.\n",
      "INFO:tensorflow:Saving checkpoints for 565 into /var/folders/s0/_bjfgcs11910zcp53lw2y3pc0000gn/T/tmpe2m1jxv7/model.ckpt.\n",
      "INFO:tensorflow:Loss for final step: 0.5794125.\n"
     ]
    },
    {
     "data": {
      "text/plain": [
       "<tensorflow_estimator.python.estimator.estimator.Estimator at 0x15fad6e10>"
      ]
     },
     "execution_count": 145,
     "metadata": {},
     "output_type": "execute_result"
    }
   ],
   "source": [
    "mnist_classifier.train(input_fn=train_input_fn, steps=10)"
   ]
  },
  {
   "cell_type": "code",
   "execution_count": 144,
   "metadata": {},
   "outputs": [
    {
     "name": "stdout",
     "output_type": "stream",
     "text": [
      "INFO:tensorflow:Calling model_fn.\n",
      "INFO:tensorflow:Done calling model_fn.\n",
      "INFO:tensorflow:Starting evaluation at 2019-09-13T03:07:44Z\n",
      "INFO:tensorflow:Graph was finalized.\n",
      "INFO:tensorflow:Restoring parameters from /var/folders/s0/_bjfgcs11910zcp53lw2y3pc0000gn/T/tmpe2m1jxv7/model.ckpt-555\n",
      "INFO:tensorflow:Running local_init_op.\n",
      "INFO:tensorflow:Done running local_init_op.\n",
      "INFO:tensorflow:Finished evaluation at 2019-09-13-03:41:06\n",
      "INFO:tensorflow:Saving dict for global step 555: accuracy = 0.8251, global_step = 555, loss = 0.6424269\n",
      "INFO:tensorflow:Saving 'checkpoint_path' summary for global step 555: /var/folders/s0/_bjfgcs11910zcp53lw2y3pc0000gn/T/tmpe2m1jxv7/model.ckpt-555\n",
      "{'accuracy': 0.8251, 'loss': 0.6424269, 'global_step': 555}\n"
     ]
    }
   ],
   "source": [
    "eval_input_fn = tf.estimator.inputs.numpy_input_fn(\n",
    "    x={\"x\": eval_data},\n",
    "    y=eval_labels,\n",
    "    num_epochs=1,\n",
    "    shuffle=False)\n",
    "\n",
    "eval_results = mnist_classifier.evaluate(input_fn=eval_input_fn)\n",
    "print(eval_results)"
   ]
  },
  {
   "cell_type": "markdown",
   "metadata": {},
   "source": [
    "# Now we test equivariancy on some examples"
   ]
  },
  {
   "cell_type": "code",
   "execution_count": 134,
   "metadata": {},
   "outputs": [
    {
     "name": "stdout",
     "output_type": "stream",
     "text": [
      "../data/mnist_png/samplesx/*.png\n",
      "samplesx import done. the shapes of x and y are: (8, 28, 28) (8, 80)\n"
     ]
    }
   ],
   "source": [
    "samples_x, samples_y = loaddata('samplesx')\n",
    "samples_x = samples_x/np.float32(255)"
   ]
  },
  {
   "cell_type": "code",
   "execution_count": 135,
   "metadata": {},
   "outputs": [
    {
     "data": {
      "text/plain": [
       "(8, 28, 28)"
      ]
     },
     "execution_count": 135,
     "metadata": {},
     "output_type": "execute_result"
    }
   ],
   "source": [
    "samples_x.shape"
   ]
  },
  {
   "cell_type": "code",
   "execution_count": 136,
   "metadata": {},
   "outputs": [
    {
     "data": {
      "image/png": "[encoded data removed]",
      "text/plain": [
       "<Figure size 432x288 with 2 Axes>"
      ]
     },
     "metadata": {
      "needs_background": "light"
     },
     "output_type": "display_data"
    },
    {
     "data": {
      "image/png": "[encoded data removed]",
      "text/plain": [
       "<Figure size 432x288 with 2 Axes>"
      ]
     },
     "metadata": {
      "needs_background": "light"
     },
     "output_type": "display_data"
    },
    {
     "data": {
      "image/png": "[encoded data removed]",
      "text/plain": [
       "<Figure size 432x288 with 2 Axes>"
      ]
     },
     "metadata": {
      "needs_background": "light"
     },
     "output_type": "display_data"
    },
    {
     "data": {
      "image/png": "[encoded data removed]",
      "text/plain": [
       "<Figure size 432x288 with 2 Axes>"
      ]
     },
     "metadata": {
      "needs_background": "light"
     },
     "output_type": "display_data"
    }
   ],
   "source": [
    "plt.figure()\n",
    "plt.imshow(samples_x[0])\n",
    "plt.colorbar()\n",
    "plt.grid(False)\n",
    "\n",
    "plt.figure()\n",
    "plt.imshow(samples_x[1])\n",
    "plt.colorbar()\n",
    "plt.grid(False)\n",
    "\n",
    "plt.figure()\n",
    "plt.imshow(samples_x[2])\n",
    "plt.colorbar()\n",
    "plt.grid(False)\n",
    "\n",
    "plt.figure()\n",
    "plt.imshow(samples_x[3])\n",
    "plt.colorbar()\n",
    "plt.grid(False)\n",
    "\n",
    "\n",
    "plt.show()"
   ]
  },
  {
   "cell_type": "code",
   "execution_count": 137,
   "metadata": {},
   "outputs": [],
   "source": [
    "pred_input_fn = tf.estimator.inputs.numpy_input_fn(\n",
    "    x={\"x\": samples_x},\n",
    "    shuffle=False)"
   ]
  },
  {
   "cell_type": "code",
   "execution_count": 138,
   "metadata": {},
   "outputs": [],
   "source": [
    "predictions = mnist_classifier.predict(input_fn = pred_input_fn)"
   ]
  },
  {
   "cell_type": "code",
   "execution_count": 139,
   "metadata": {},
   "outputs": [],
   "source": [
    "def decode(c):\n",
    "    # too lazy to implement it properly\n",
    "    vector =[]\n",
    "    for i in range(80):\n",
    "        if i == c:\n",
    "            vector.append(1)\n",
    "        else:\n",
    "            vector.append(0)\n",
    "    for label in range(10):\n",
    "        for angle in range(8):\n",
    "            if str_to_vect(label, angle) == vector:\n",
    "                if angle in range(4):\n",
    "                    out = str(90 * (4-angle)) + ' degrees'\n",
    "                elif angle == 4:\n",
    "                    out = 'FLIP_TOP_BOTTOM'\n",
    "                elif angle == 5:\n",
    "                    out = '90 degree then FLIP_LEFT_RIGHT'\n",
    "                elif angle == 6:\n",
    "                    out = 'FLIP_LEFT_RIGHT'\n",
    "                elif angle == 7:\n",
    "                    out = '90 degree then FLIP_TOP_BOTTOM'\n",
    "                else:\n",
    "                    out = 'errorrr'\n",
    "                return label, out\n",
    "\n",
    "# operations[g_f_i[0]] = (lambda x: tf.image.rot90(x, k =0))\n",
    "# operations[g_f_i[1]] = (lambda x: tf.image.rot90(x, k =3))\n",
    "# operations[g_f_i[2]] = (lambda x: tf.image.rot90(x, k =2))\n",
    "# operations[g_f_i[3]] = (lambda x: tf.image.rot90(x, k =1))\n",
    "\n",
    "# if len(G) > 4:\n",
    "#     operations[g_f_i[4]] = (lambda x: tf.image.flip_up_down(x))\n",
    "#     operations[g_f_i[5]] = (lambda x: tf.image.flip_left_right(tf.image.rot90(x, k = 1)))\n",
    "#     operations[g_f_i[6]] = (lambda x: tf.image.flip_left_right(x))\n",
    "#     operations[g_f_i[7]] = (lambda x: tf.image.flip_up_down(tf.image.rot90(x, k = 1)))"
   ]
  },
  {
   "cell_type": "code",
   "execution_count": 140,
   "metadata": {},
   "outputs": [
    {
     "name": "stdout",
     "output_type": "stream",
     "text": [
      "(3, '90 degree then FLIP_TOP_BOTTOM')\n"
     ]
    }
   ],
   "source": [
    "print(decode(73))"
   ]
  },
  {
   "cell_type": "code",
   "execution_count": 141,
   "metadata": {},
   "outputs": [
    {
     "name": "stdout",
     "output_type": "stream",
     "text": [
      "INFO:tensorflow:Calling model_fn.\n",
      "INFO:tensorflow:Done calling model_fn.\n",
      "INFO:tensorflow:Graph was finalized.\n",
      "INFO:tensorflow:Restoring parameters from /var/folders/s0/_bjfgcs11910zcp53lw2y3pc0000gn/T/tmpe2m1jxv7/model.ckpt-255\n",
      "INFO:tensorflow:Running local_init_op.\n",
      "INFO:tensorflow:Done running local_init_op.\n",
      "(7, '180 degrees') \n",
      " [3.5840116e-04 4.5932717e-05 1.4755561e-03 7.0483616e-04 2.7231371e-03\n",
      " 3.4159373e-03 1.2117551e-02 1.2180382e-01 6.6421814e-03 1.9164879e-02\n",
      " 8.8286151e-06 2.5232220e-08 1.0914830e-06 3.3321890e-09 1.6296306e-03\n",
      " 8.9439226e-07 1.9905556e-04 1.4868908e-04 1.6945032e-07 1.7112009e-04\n",
      " 4.2877436e-04 7.2647876e-05 1.0275522e-03 1.0814457e-03 3.3896049e-03\n",
      " 5.0358973e-03 7.4678790e-03 3.1097186e-01 1.0520889e-02 3.4047462e-02\n",
      " 9.1135753e-06 1.8917497e-08 8.0178160e-07 2.5942799e-09 1.5279741e-03\n",
      " 8.0063927e-07 1.6287807e-04 1.6002955e-04 1.4864759e-07 1.6253175e-04\n",
      " 2.8612680e-04 5.8123671e-05 8.9027779e-04 8.1858394e-04 2.9691355e-03\n",
      " 3.6934437e-03 6.3195899e-03 2.2415505e-01 7.9671675e-03 2.7925121e-02\n",
      " 1.3113489e-05 1.8071150e-08 1.0600801e-06 2.7695937e-09 1.8092431e-03\n",
      " 9.5320127e-07 2.3368283e-04 1.4373413e-04 1.6401430e-07 1.5561601e-04\n",
      " 2.7300822e-04 6.0712831e-05 1.5018196e-03 6.9235329e-04 2.5182907e-03\n",
      " 2.7447331e-03 1.0745459e-02 1.2993175e-01 5.8632535e-03 1.9225180e-02\n",
      " 1.1383074e-05 2.4630891e-08 9.2159956e-07 3.7204821e-09 1.7473527e-03\n",
      " 1.1110910e-06 1.7707550e-04 1.9402942e-04 1.9260071e-07 1.9114118e-04]\n",
      "(7, 'FLIP_TOP_BOTTOM') \n",
      " [2.7300822e-04 6.0712831e-05 1.5018196e-03 6.9235329e-04 2.5182907e-03\n",
      " 2.7447331e-03 1.0745459e-02 1.2993175e-01 5.8632535e-03 1.9225180e-02\n",
      " 1.1383074e-05 2.4630891e-08 9.2159956e-07 3.7204821e-09 1.7473527e-03\n",
      " 1.1110910e-06 1.7707550e-04 1.9402942e-04 1.9260071e-07 1.9114118e-04\n",
      " 2.8612680e-04 5.8123671e-05 8.9027779e-04 8.1858394e-04 2.9691355e-03\n",
      " 3.6934437e-03 6.3195899e-03 2.2415505e-01 7.9671675e-03 2.7925121e-02\n",
      " 1.3113489e-05 1.8071150e-08 1.0600801e-06 2.7695937e-09 1.8092431e-03\n",
      " 9.5320127e-07 2.3368283e-04 1.4373413e-04 1.6401430e-07 1.5561601e-04\n",
      " 4.2877436e-04 7.2647876e-05 1.0275522e-03 1.0814457e-03 3.3896049e-03\n",
      " 5.0358973e-03 7.4678790e-03 3.1097186e-01 1.0520889e-02 3.4047462e-02\n",
      " 9.1135753e-06 1.8917497e-08 8.0178160e-07 2.5942799e-09 1.5279741e-03\n",
      " 8.0063927e-07 1.6287807e-04 1.6002955e-04 1.4864759e-07 1.6253175e-04\n",
      " 3.5840116e-04 4.5932717e-05 1.4755561e-03 7.0483616e-04 2.7231371e-03\n",
      " 3.4159373e-03 1.2117551e-02 1.2180382e-01 6.6421814e-03 1.9164879e-02\n",
      " 8.8286151e-06 2.5232220e-08 1.0914830e-06 3.3321890e-09 1.6296306e-03\n",
      " 8.9439226e-07 1.9905556e-04 1.4868908e-04 1.6945032e-07 1.7112009e-04]\n",
      "(7, '90 degrees') \n",
      " [9.11357438e-06 1.89174951e-08 8.01781539e-07 2.59427968e-09\n",
      " 1.52797403e-03 8.00639214e-07 1.62878059e-04 1.60029522e-04\n",
      " 1.48647572e-07 1.62531724e-04 3.58401128e-04 4.59327130e-05\n",
      " 1.47555594e-03 7.04836100e-04 2.72313668e-03 3.41593684e-03\n",
      " 1.21175498e-02 1.21803805e-01 6.64218049e-03 1.91648770e-02\n",
      " 8.82861423e-06 2.52322163e-08 1.09148300e-06 3.33218875e-09\n",
      " 1.62963045e-03 8.94392201e-07 1.99055547e-04 1.48689069e-04\n",
      " 1.69450288e-07 1.71120060e-04 4.28774336e-04 7.26478684e-05\n",
      " 1.02755206e-03 1.08144560e-03 3.38960462e-03 5.03589632e-03\n",
      " 7.46787852e-03 3.10971826e-01 1.05208885e-02 3.40474583e-02\n",
      " 1.31134884e-05 1.80711481e-08 1.06007997e-06 2.76959344e-09\n",
      " 1.80924300e-03 9.53201152e-07 2.33682804e-04 1.43734112e-04\n",
      " 1.64014281e-07 1.55615999e-04 2.73008191e-04 6.07128241e-05\n",
      " 1.50181947e-03 6.92353235e-04 2.51829042e-03 2.74473289e-03\n",
      " 1.07454583e-02 1.29931748e-01 5.86325256e-03 1.92251783e-02\n",
      " 1.13830729e-05 2.46308893e-08 9.21599451e-07 3.72048170e-09\n",
      " 1.74735254e-03 1.11109091e-06 1.77075490e-04 1.94029402e-04\n",
      " 1.92600695e-07 1.91141153e-04 2.86126771e-04 5.81236636e-05\n",
      " 8.90277675e-04 8.18583823e-04 2.96913530e-03 3.69344349e-03\n",
      " 6.31958945e-03 2.24155024e-01 7.96716660e-03 2.79251169e-02]\n",
      "(7, '90 degree then FLIP_LEFT_RIGHT') \n",
      " [1.1383074e-05 2.4630891e-08 9.2159956e-07 3.7204821e-09 1.7473527e-03\n",
      " 1.1110910e-06 1.7707550e-04 1.9402942e-04 1.9260071e-07 1.9114118e-04\n",
      " 2.8612680e-04 5.8123671e-05 8.9027779e-04 8.1858394e-04 2.9691355e-03\n",
      " 3.6934437e-03 6.3195899e-03 2.2415505e-01 7.9671675e-03 2.7925121e-02\n",
      " 1.3113489e-05 1.8071150e-08 1.0600801e-06 2.7695937e-09 1.8092431e-03\n",
      " 9.5320127e-07 2.3368283e-04 1.4373413e-04 1.6401430e-07 1.5561601e-04\n",
      " 2.7300822e-04 6.0712831e-05 1.5018196e-03 6.9235329e-04 2.5182907e-03\n",
      " 2.7447331e-03 1.0745459e-02 1.2993175e-01 5.8632535e-03 1.9225180e-02\n",
      " 8.8286151e-06 2.5232220e-08 1.0914830e-06 3.3321890e-09 1.6296306e-03\n",
      " 8.9439226e-07 1.9905556e-04 1.4868908e-04 1.6945032e-07 1.7112009e-04\n",
      " 4.2877436e-04 7.2647876e-05 1.0275522e-03 1.0814457e-03 3.3896049e-03\n",
      " 5.0358973e-03 7.4678790e-03 3.1097186e-01 1.0520889e-02 3.4047462e-02\n",
      " 9.1135753e-06 1.8917497e-08 8.0178160e-07 2.5942799e-09 1.5279741e-03\n",
      " 8.0063927e-07 1.6287807e-04 1.6002955e-04 1.4864759e-07 1.6253175e-04\n",
      " 3.5840116e-04 4.5932717e-05 1.4755561e-03 7.0483616e-04 2.7231371e-03\n",
      " 3.4159373e-03 1.2117551e-02 1.2180382e-01 6.6421814e-03 1.9164879e-02]\n",
      "(7, '360 degrees') \n",
      " [4.28774336e-04 7.26478684e-05 1.02755206e-03 1.08144560e-03\n",
      " 3.38960462e-03 5.03589632e-03 7.46787852e-03 3.10971826e-01\n",
      " 1.05208885e-02 3.40474583e-02 9.11357438e-06 1.89174951e-08\n",
      " 8.01781539e-07 2.59427968e-09 1.52797403e-03 8.00639214e-07\n",
      " 1.62878059e-04 1.60029522e-04 1.48647572e-07 1.62531724e-04\n",
      " 3.58401128e-04 4.59327130e-05 1.47555594e-03 7.04836100e-04\n",
      " 2.72313668e-03 3.41593684e-03 1.21175498e-02 1.21803805e-01\n",
      " 6.64218049e-03 1.91648770e-02 8.82861423e-06 2.52322163e-08\n",
      " 1.09148300e-06 3.33218875e-09 1.62963045e-03 8.94392201e-07\n",
      " 1.99055547e-04 1.48689069e-04 1.69450288e-07 1.71120060e-04\n",
      " 2.73008191e-04 6.07128241e-05 1.50181947e-03 6.92353235e-04\n",
      " 2.51829042e-03 2.74473289e-03 1.07454583e-02 1.29931748e-01\n",
      " 5.86325256e-03 1.92251783e-02 1.13830729e-05 2.46308893e-08\n",
      " 9.21599451e-07 3.72048170e-09 1.74735254e-03 1.11109091e-06\n",
      " 1.77075490e-04 1.94029402e-04 1.92600695e-07 1.91141153e-04\n",
      " 2.86126771e-04 5.81236636e-05 8.90277675e-04 8.18583823e-04\n",
      " 2.96913530e-03 3.69344349e-03 6.31958945e-03 2.24155024e-01\n",
      " 7.96716660e-03 2.79251169e-02 1.31134884e-05 1.80711481e-08\n",
      " 1.06007997e-06 2.76959344e-09 1.80924300e-03 9.53201152e-07\n",
      " 2.33682804e-04 1.43734112e-04 1.64014281e-07 1.55615999e-04]\n",
      "(7, 'FLIP_LEFT_RIGHT') \n",
      " [2.8612680e-04 5.8123671e-05 8.9027779e-04 8.1858394e-04 2.9691355e-03\n",
      " 3.6934437e-03 6.3195899e-03 2.2415505e-01 7.9671675e-03 2.7925121e-02\n",
      " 1.3113489e-05 1.8071150e-08 1.0600801e-06 2.7695937e-09 1.8092431e-03\n",
      " 9.5320127e-07 2.3368283e-04 1.4373413e-04 1.6401430e-07 1.5561601e-04\n",
      " 2.7300822e-04 6.0712831e-05 1.5018196e-03 6.9235329e-04 2.5182907e-03\n",
      " 2.7447331e-03 1.0745459e-02 1.2993175e-01 5.8632535e-03 1.9225180e-02\n",
      " 1.1383074e-05 2.4630891e-08 9.2159956e-07 3.7204821e-09 1.7473527e-03\n",
      " 1.1110910e-06 1.7707550e-04 1.9402942e-04 1.9260071e-07 1.9114118e-04\n",
      " 3.5840116e-04 4.5932717e-05 1.4755561e-03 7.0483616e-04 2.7231371e-03\n",
      " 3.4159373e-03 1.2117551e-02 1.2180382e-01 6.6421814e-03 1.9164879e-02\n",
      " 8.8286151e-06 2.5232220e-08 1.0914830e-06 3.3321890e-09 1.6296306e-03\n",
      " 8.9439226e-07 1.9905556e-04 1.4868908e-04 1.6945032e-07 1.7112009e-04\n",
      " 4.2877436e-04 7.2647876e-05 1.0275522e-03 1.0814457e-03 3.3896049e-03\n",
      " 5.0358973e-03 7.4678790e-03 3.1097186e-01 1.0520889e-02 3.4047462e-02\n",
      " 9.1135753e-06 1.8917497e-08 8.0178160e-07 2.5942799e-09 1.5279741e-03\n",
      " 8.0063927e-07 1.6287807e-04 1.6002955e-04 1.4864759e-07 1.6253175e-04]\n",
      "(7, '270 degrees') \n",
      " [8.82861423e-06 2.52322163e-08 1.09148300e-06 3.33218875e-09\n",
      " 1.62963045e-03 8.94392201e-07 1.99055547e-04 1.48689069e-04\n",
      " 1.69450288e-07 1.71120060e-04 4.28774336e-04 7.26478684e-05\n",
      " 1.02755206e-03 1.08144560e-03 3.38960462e-03 5.03589632e-03\n",
      " 7.46787852e-03 3.10971826e-01 1.05208885e-02 3.40474583e-02\n",
      " 9.11357438e-06 1.89174951e-08 8.01781539e-07 2.59427968e-09\n",
      " 1.52797403e-03 8.00639214e-07 1.62878059e-04 1.60029522e-04\n",
      " 1.48647572e-07 1.62531724e-04 3.58401128e-04 4.59327130e-05\n",
      " 1.47555594e-03 7.04836100e-04 2.72313668e-03 3.41593684e-03\n",
      " 1.21175498e-02 1.21803805e-01 6.64218049e-03 1.91648770e-02\n",
      " 1.13830729e-05 2.46308893e-08 9.21599451e-07 3.72048170e-09\n",
      " 1.74735254e-03 1.11109091e-06 1.77075490e-04 1.94029402e-04\n",
      " 1.92600695e-07 1.91141153e-04 2.86126771e-04 5.81236636e-05\n",
      " 8.90277675e-04 8.18583823e-04 2.96913530e-03 3.69344349e-03\n",
      " 6.31958945e-03 2.24155024e-01 7.96716660e-03 2.79251169e-02\n",
      " 1.31134884e-05 1.80711481e-08 1.06007997e-06 2.76959344e-09\n",
      " 1.80924300e-03 9.53201152e-07 2.33682804e-04 1.43734112e-04\n",
      " 1.64014281e-07 1.55615999e-04 2.73008191e-04 6.07128241e-05\n",
      " 1.50181947e-03 6.92353235e-04 2.51829042e-03 2.74473289e-03\n",
      " 1.07454583e-02 1.29931748e-01 5.86325256e-03 1.92251783e-02]\n",
      "(7, '90 degree then FLIP_TOP_BOTTOM') \n",
      " [1.31134884e-05 1.80711481e-08 1.06007997e-06 2.76959344e-09\n",
      " 1.80924300e-03 9.53201152e-07 2.33682804e-04 1.43734112e-04\n",
      " 1.64014281e-07 1.55615999e-04 2.73008191e-04 6.07128241e-05\n",
      " 1.50181947e-03 6.92353235e-04 2.51829042e-03 2.74473289e-03\n",
      " 1.07454583e-02 1.29931748e-01 5.86325256e-03 1.92251783e-02\n",
      " 1.13830729e-05 2.46308893e-08 9.21599451e-07 3.72048170e-09\n",
      " 1.74735254e-03 1.11109091e-06 1.77075490e-04 1.94029402e-04\n",
      " 1.92600695e-07 1.91141153e-04 2.86126771e-04 5.81236636e-05\n",
      " 8.90277675e-04 8.18583823e-04 2.96913530e-03 3.69344349e-03\n",
      " 6.31958945e-03 2.24155024e-01 7.96716660e-03 2.79251169e-02\n",
      " 9.11357438e-06 1.89174951e-08 8.01781539e-07 2.59427968e-09\n",
      " 1.52797403e-03 8.00639214e-07 1.62878059e-04 1.60029522e-04\n",
      " 1.48647572e-07 1.62531724e-04 3.58401128e-04 4.59327130e-05\n",
      " 1.47555594e-03 7.04836100e-04 2.72313668e-03 3.41593684e-03\n",
      " 1.21175498e-02 1.21803805e-01 6.64218049e-03 1.91648770e-02\n",
      " 8.82861423e-06 2.52322163e-08 1.09148300e-06 3.33218875e-09\n",
      " 1.62963045e-03 8.94392201e-07 1.99055547e-04 1.48689069e-04\n",
      " 1.69450288e-07 1.71120060e-04 4.28774336e-04 7.26478684e-05\n",
      " 1.02755206e-03 1.08144560e-03 3.38960462e-03 5.03589632e-03\n",
      " 7.46787852e-03 3.10971826e-01 1.05208885e-02 3.40474583e-02]\n"
     ]
    }
   ],
   "source": [
    "for prediction in predictions:\n",
    "    print (decode(prediction['classes']), '\\n', prediction['probabilities'])"
   ]
  },
  {
   "cell_type": "code",
   "execution_count": 122,
   "metadata": {},
   "outputs": [
    {
     "data": {
      "text/plain": [
       "(8, 80)"
      ]
     },
     "execution_count": 122,
     "metadata": {},
     "output_type": "execute_result"
    }
   ],
   "source": [
    "samples_y.shape"
   ]
  },
  {
   "cell_type": "code",
   "execution_count": 123,
   "metadata": {},
   "outputs": [
    {
     "name": "stdout",
     "output_type": "stream",
     "text": [
      "27 (7, '180 degrees')\n",
      "47 (7, 'FLIP_TOP_BOTTOM')\n",
      "37 (7, '90 degrees')\n",
      "57 (7, '90 degree then FLIP_LEFT_RIGHT')\n",
      "7 (7, '360 degrees')\n",
      "67 (7, 'FLIP_LEFT_RIGHT')\n",
      "17 (7, '270 degrees')\n",
      "77 (7, '90 degree then FLIP_TOP_BOTTOM')\n"
     ]
    }
   ],
   "source": [
    "for y in samples_y:\n",
    "    print (y.argmax(), decode(y.argmax()))"
   ]
  },
  {
   "cell_type": "code",
   "execution_count": null,
   "metadata": {},
   "outputs": [],
   "source": []
  }
 ],
 "metadata": {
  "kernelspec": {
   "display_name": "Python 3",
   "language": "python",
   "name": "python3"
  },
  "language_info": {
   "codemirror_mode": {
    "name": "ipython",
    "version": 3
   },
   "file_extension": ".py",
   "mimetype": "text/x-python",
   "name": "python",
   "nbconvert_exporter": "python",
   "pygments_lexer": "ipython3",
   "version": "3.7.3"
  }
 },
 "nbformat": 4,
 "nbformat_minor": 2
}
