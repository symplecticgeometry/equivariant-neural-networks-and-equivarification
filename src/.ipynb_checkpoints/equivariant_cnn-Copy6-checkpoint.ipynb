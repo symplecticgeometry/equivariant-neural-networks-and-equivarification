{
 "cells": [
  {
   "cell_type": "code",
   "execution_count": 150,
   "metadata": {},
   "outputs": [],
   "source": [
    "from __future__ import absolute_import, division, print_function\n",
    "import math\n",
    "import numpy as np\n",
    "import h5py\n",
    "import matplotlib.pyplot as plt\n",
    "import tensorflow as tf\n",
    "from tensorflow.python.framework import ops\n",
    "from tensorflow.examples.tutorials.mnist import input_data\n",
    "from tensorflow import keras\n",
    "import skimage\n",
    "from skimage import data\n",
    "from skimage.transform import resize\n",
    "from PIL import Image\n",
    "import matplotlib.image as mpimg\n",
    "import numpy as np\n",
    "import glob\n",
    "from sympy.combinatorics.named_groups import *\n",
    "\n",
    "tf.logging.set_verbosity(tf.logging.INFO)"
   ]
  },
  {
   "cell_type": "code",
   "execution_count": 151,
   "metadata": {},
   "outputs": [],
   "source": [
    "directory = '../data/mnist_png/'"
   ]
  },
  {
   "cell_type": "code",
   "execution_count": 152,
   "metadata": {},
   "outputs": [],
   "source": [
    "G = DihedralGroup(4)\n",
    "\n",
    "G = list(G.generate_dimino())\n",
    "\n",
    "i_f_g = {}\n",
    "g_f_i = {}\n",
    "for i in range(len(G)):\n",
    "    g_f_i[i] = G[i]\n",
    "    i_f_g[G[i]] = i"
   ]
  },
  {
   "cell_type": "code",
   "execution_count": 153,
   "metadata": {},
   "outputs": [],
   "source": [
    "# let ei be the obvious element in R^10\n",
    "# let F_hat be the perfect network after trainning.\n",
    "# let xi in X be an image that represents the handwritting of number i.\n",
    "# then we want (define) [F_hat(xi)](gj) = ei if j = 0; 0 else. Here, g0 is the identity element (not required tho)\n",
    "# note F(xi) = p[F_hat(xi)] = [F_hat(xi)](g0) = ei\n",
    "# now we calculate [F_hat(g xi)]\n",
    "# [F_hat(g xi)](gj) = [g^{-1} F_hat(xi)](gj) = [F_hat(xi)](g gj)\n",
    "# by the definition, and let g = gk, then\n",
    "# [F_hat(gk xi)](gj) = ei if gk gj = g0; 0 else. \n",
    "# Note that we identify Z^{x G} with G x G x ... x G via\n",
    "# s \\mapsto s(g0), s(g1), ..., s(gn), where n = |G|\n",
    "# hence, F_hat(gk xi) is mapped to (0,...,ei,...,0), where ei is at the location j, with gk^{-1} = gj.\n",
    "# in other words, j = i_f_g(gk^{-1}).\n"
   ]
  },
  {
   "cell_type": "code",
   "execution_count": 154,
   "metadata": {},
   "outputs": [],
   "source": [
    "def str_to_vect(label, angle):\n",
    "    i = int(label)\n",
    "    k = int(angle)\n",
    "    ei = []\n",
    "    for j in range(10):\n",
    "        if j == i:\n",
    "            ei.append(1)\n",
    "        else:\n",
    "            ei.append(0)\n",
    "    zero = [0]*10\n",
    "    vec = []\n",
    "    for j in range(len(G)):\n",
    "        if j == i_f_g[(g_f_i[k])**(-1)]:\n",
    "            vec.append(ei)\n",
    "        else:\n",
    "            vec.append(zero)\n",
    "    res = []\n",
    "    for a in vec:\n",
    "        for b in a:\n",
    "            res.append(b)\n",
    "    return res"
   ]
  },
  {
   "cell_type": "code",
   "execution_count": 155,
   "metadata": {},
   "outputs": [
    {
     "name": "stdout",
     "output_type": "stream",
     "text": [
      "[0, 0, 0, 0, 0, 0, 0, 0, 0, 0, 0, 0, 0, 0, 0, 0, 0, 0, 0, 0, 0, 0, 0, 0, 0, 0, 0, 0, 0, 0, 0, 0, 0, 0, 0, 0, 0, 0, 0, 0, 0, 0, 0, 0, 0, 0, 0, 0, 0, 0, 1, 0, 0, 0, 0, 0, 0, 0, 0, 0, 0, 0, 0, 0, 0, 0, 0, 0, 0, 0, 0, 0, 0, 0, 0, 0, 0, 0, 0, 0]\n"
     ]
    }
   ],
   "source": [
    "print (str_to_vect(0,5))"
   ]
  },
  {
   "cell_type": "code",
   "execution_count": 156,
   "metadata": {},
   "outputs": [],
   "source": [
    "# def str_to_vect(label, angle):\n",
    "#     label = int(label)\n",
    "#     angle = int(angle)\n",
    "#     position = (4 - angle)%4\n",
    "#     vector = []\n",
    "#     for i in range(4):\n",
    "#         for j in range(10):\n",
    "#             if i == position and j == label:\n",
    "#                 vector.append(1)\n",
    "#             else:\n",
    "#                 vector.append(0)\n",
    "#     return vector"
   ]
  },
  {
   "cell_type": "code",
   "execution_count": 157,
   "metadata": {},
   "outputs": [],
   "source": [
    "#loaddata\n",
    "def loaddata(s):\n",
    "    filelist = glob.glob(directory + s + '/*.png')\n",
    "    y_temp = []\n",
    "    x_temp = []\n",
    "    print (directory + s + '/*.png')\n",
    "    for fname in filelist:\n",
    "        short_name = fname.split('/')[-1]\n",
    "        label, angle, name = short_name.split('_')\n",
    "        img = mpimg.imread(fname)\n",
    "        x_temp.append(img)\n",
    "        vector = str_to_vect(label, angle)\n",
    "        y_temp.append(vector)\n",
    "\n",
    "    x = np.asarray(x_temp)\n",
    "    y = np.asarray(y_temp)\n",
    "    print (s + ' import done. the shapes of x and y are:', x.shape, y.shape)\n",
    "    return x, y\n"
   ]
  },
  {
   "cell_type": "code",
   "execution_count": 158,
   "metadata": {},
   "outputs": [
    {
     "name": "stdout",
     "output_type": "stream",
     "text": [
      "../data/mnist_png/trainingx/*.png\n",
      "trainingx import done. the shapes of x and y are: (60000, 28, 28) (60000, 80)\n"
     ]
    }
   ],
   "source": [
    "train_x, train_y = loaddata('trainingx')"
   ]
  },
  {
   "cell_type": "code",
   "execution_count": 159,
   "metadata": {},
   "outputs": [
    {
     "name": "stdout",
     "output_type": "stream",
     "text": [
      "../data/mnist_png/testingx/*.png\n",
      "testingx import done. the shapes of x and y are: (10000, 28, 28) (10000, 80)\n"
     ]
    }
   ],
   "source": [
    "test_x, test_y = loaddata('testingx')"
   ]
  },
  {
   "cell_type": "code",
   "execution_count": 160,
   "metadata": {},
   "outputs": [
    {
     "data": {
      "image/png": "[encoded data removed]",
      "text/plain": [
       "<Figure size 432x288 with 2 Axes>"
      ]
     },
     "metadata": {
      "needs_background": "light"
     },
     "output_type": "display_data"
    }
   ],
   "source": [
    "plt.figure()\n",
    "plt.imshow(test_x[5])\n",
    "plt.colorbar()\n",
    "plt.grid(False)\n",
    "plt.show()"
   ]
  },
  {
   "cell_type": "code",
   "execution_count": 161,
   "metadata": {},
   "outputs": [
    {
     "data": {
      "text/plain": [
       "array([0, 0, 0, 0, 0, 0, 0, 0, 0, 0, 0, 0, 0, 0, 0, 0, 0, 0, 0, 0, 0, 0,\n",
       "       0, 0, 0, 0, 0, 0, 0, 0, 0, 0, 0, 0, 0, 0, 0, 0, 0, 0, 0, 0, 0, 0,\n",
       "       0, 0, 0, 0, 0, 0, 0, 0, 0, 0, 0, 0, 0, 0, 0, 0, 0, 1, 0, 0, 0, 0,\n",
       "       0, 0, 0, 0, 0, 0, 0, 0, 0, 0, 0, 0, 0, 0])"
      ]
     },
     "execution_count": 161,
     "metadata": {},
     "output_type": "execute_result"
    }
   ],
   "source": [
    "test_y[5]"
   ]
  },
  {
   "cell_type": "code",
   "execution_count": 162,
   "metadata": {},
   "outputs": [
    {
     "data": {
      "text/plain": [
       "(60000, 28, 28)"
      ]
     },
     "execution_count": 162,
     "metadata": {},
     "output_type": "execute_result"
    }
   ],
   "source": [
    "train_x.shape"
   ]
  },
  {
   "cell_type": "code",
   "execution_count": 163,
   "metadata": {},
   "outputs": [],
   "source": [
    "def compute_cost(Z, Y):\n",
    "    cost = tf.reduce_mean(tf.nn.softmax_cross_entropy_with_logits(logits = Z, labels = Y))    \n",
    "    return cost"
   ]
  },
  {
   "cell_type": "code",
   "execution_count": 164,
   "metadata": {},
   "outputs": [],
   "source": [
    "operations = {}\n",
    "for i in range(4):\n",
    "    operations[g_f_i[i]] = (lambda x: tf.image.rot90(x, k = i))\n",
    "operations[g_f_i[4]] = (lambda x: tf.image.flip_left_right(x))\n",
    "operations[g_f_i[5]] = (lambda x: tf.image.flip_up_down(tf.image.rot90(x, k = 1)))\n",
    "operations[g_f_i[6]] = (lambda x: tf.image.flip_up_down(x))\n",
    "operations[g_f_i[7]] = (lambda x: tf.image.flip_left_right(tf.image.rot90(x, k = 1)))"
   ]
  },
  {
   "cell_type": "code",
   "execution_count": 165,
   "metadata": {},
   "outputs": [],
   "source": [
    "def operation(x, i):\n",
    "    return operations[g_f_i[i]](x)"
   ]
  },
  {
   "cell_type": "code",
   "execution_count": 166,
   "metadata": {},
   "outputs": [
    {
     "data": {
      "text/plain": [
       "{Permutation(3): 0,\n",
       " Permutation(0, 1, 2, 3): 1,\n",
       " Permutation(0, 2)(1, 3): 2,\n",
       " Permutation(0, 3, 2, 1): 3,\n",
       " Permutation(0, 3)(1, 2): 4,\n",
       " Permutation(1, 3): 5,\n",
       " Permutation(0, 1)(2, 3): 6,\n",
       " Permutation(3)(0, 2): 7}"
      ]
     },
     "execution_count": 166,
     "metadata": {},
     "output_type": "execute_result"
    }
   ],
   "source": [
    "i_f_g"
   ]
  },
  {
   "cell_type": "code",
   "execution_count": 167,
   "metadata": {},
   "outputs": [
    {
     "data": {
      "text/plain": [
       "{0: Permutation(3),\n",
       " 1: Permutation(0, 1, 2, 3),\n",
       " 2: Permutation(0, 2)(1, 3),\n",
       " 3: Permutation(0, 3, 2, 1),\n",
       " 4: Permutation(0, 3)(1, 2),\n",
       " 5: Permutation(1, 3),\n",
       " 6: Permutation(0, 1)(2, 3),\n",
       " 7: Permutation(3)(0, 2)}"
      ]
     },
     "execution_count": 167,
     "metadata": {},
     "output_type": "execute_result"
    }
   ],
   "source": [
    "g_f_i"
   ]
  },
  {
   "cell_type": "code",
   "execution_count": 185,
   "metadata": {},
   "outputs": [
    {
     "data": {
      "text/plain": [
       "True"
      ]
     },
     "execution_count": 185,
     "metadata": {},
     "output_type": "execute_result"
    }
   ],
   "source": [
    "g_f_i[1] * g_f_i[4] == g_f_i[7]"
   ]
  },
  {
   "cell_type": "code",
   "execution_count": 168,
   "metadata": {},
   "outputs": [],
   "source": [
    "# we make a choice of an order of G, i.e., (g0,g1,g2,...), where we choose g0 = e (not necessary)\n",
    "# in this case, we chose G = (e, g, g^2, g^3)\n",
    "# we make an identification Z^{xG} = {s: G \\to X} with Z x Z ... x Z via\n",
    "# s \\mapsto (s(g0), s(g1), s(g2),...)\n",
    "# Note that h acts on Z^{xG} by hs(g) = s(h^{-1}g)\n",
    "# we wants to see how h acts on Z x Z ... x Z.\n",
    "# hs is identified with (..., hs(gi), ...) = (..., s((h^{-1}*gi), ...)\n",
    "\n",
    "# Z^{xG} --> G x G x ... x G\n",
    "# |                |\n",
    "# |h               |h\n",
    "# V                V\n",
    "# Z^{xG}--> G x G x ... x G\n",
    "\n",
    "\n",
    "# s -------> (..., s(gi),...), this is the i-th location\n",
    "# |                |\n",
    "# |h               |h\n",
    "# V                V\n",
    "# hs-------> (..., s((h^{-1}*gi), ...), this is the i_f_g(h^{-1}*gi) -th location\n",
    "\n",
    "#hence, h maps location i to location i_f_g(h^{-1}*gi) = j\n",
    "# g_f_i i_f_g(h^{-1} * gi) = g_f_i(j)\n",
    "# h^{-1} * gi = g_f_i(j)\n",
    "# gi = h * g_f_i(j) \n",
    "# i = i_f_g(gi) = i_f_g (h * g_f_i(j))"
   ]
  },
  {
   "cell_type": "code",
   "execution_count": 169,
   "metadata": {},
   "outputs": [],
   "source": [
    "def permu(x, i):\n",
    "    h = g_f_i[i]\n",
    "    return [x[i_f_g[h * g_f_i[j]]] for j in range(len(G))]"
   ]
  },
  {
   "cell_type": "code",
   "execution_count": 170,
   "metadata": {},
   "outputs": [
    {
     "name": "stdout",
     "output_type": "stream",
     "text": [
      "[0, 1, 2, 3, 4, 5, 6, 7]\n",
      "[1, 2, 3, 0, 7, 4, 5, 6]\n",
      "[2, 3, 0, 1, 6, 7, 4, 5]\n",
      "[3, 0, 1, 2, 5, 6, 7, 4]\n",
      "[4, 5, 6, 7, 0, 1, 2, 3]\n",
      "[5, 6, 7, 4, 3, 0, 1, 2]\n",
      "[6, 7, 4, 5, 2, 3, 0, 1]\n",
      "[7, 4, 5, 6, 1, 2, 3, 0]\n"
     ]
    }
   ],
   "source": [
    "for i in range(8):\n",
    "    print (permu([0,1,2,3,4,5,6,7], i))"
   ]
  },
  {
   "cell_type": "code",
   "execution_count": 171,
   "metadata": {},
   "outputs": [],
   "source": [
    "rotations = {}\n",
    "for i in range(len(G)):\n",
    "    rotations[g_f_i[i]] = (lambda x: tf.image.rot90(x, k = i))"
   ]
  },
  {
   "cell_type": "code",
   "execution_count": 172,
   "metadata": {},
   "outputs": [],
   "source": [
    "def rotationx(x, i):\n",
    "    return rotations[g_f_i[i]](x)"
   ]
  },
  {
   "cell_type": "code",
   "execution_count": 173,
   "metadata": {},
   "outputs": [],
   "source": [
    "def equivarification(X, graphs, graph_name, layer_names, layer_parameters, rep):\n",
    "    if rep == 'permutation':\n",
    "        action = permu\n",
    "    elif rep == 'rotation':\n",
    "        action = rotationx\n",
    "    elif rep == 'operation':\n",
    "        action = operation\n",
    "    graph = graphs[graph_name]\n",
    "    Z_hat = []\n",
    "    for i in range(len(G)):\n",
    "        Z_hat.append(graph(action(X, i), i, layer_names, layer_parameters))\n",
    "    return Z_hat"
   ]
  },
  {
   "cell_type": "code",
   "execution_count": 174,
   "metadata": {},
   "outputs": [],
   "source": [
    "def convolution(x, i, Names, filter_nums):\n",
    "    Name = Names[0]\n",
    "    filter_num = filter_nums[Name]\n",
    "    \n",
    "    stage = (i != 0)\n",
    "    y = tf.layers.conv2d(\n",
    "      inputs=x,\n",
    "      filters=filter_num,\n",
    "      kernel_size=[3, 3],\n",
    "      padding=\"same\",\n",
    "      activation=tf.nn.relu,\n",
    "      reuse = stage,\n",
    "      name = Name)\n",
    "    return y  "
   ]
  },
  {
   "cell_type": "code",
   "execution_count": 175,
   "metadata": {},
   "outputs": [],
   "source": [
    "def conv_concat(x, i, Names, filter_nums):   \n",
    "    y = tf.concat(x, axis = 3)    \n",
    "    return convolution(y, i, Names, filter_nums)"
   ]
  },
  {
   "cell_type": "code",
   "execution_count": 176,
   "metadata": {},
   "outputs": [],
   "source": [
    "def basic_graph(x, i, layer_names, layer_parameters):\n",
    "    \n",
    "    stage = (i != 0)\n",
    "    \n",
    "    concat_x = tf.concat(x, axis = 3)\n",
    "    \n",
    "    X3 = convolution(concat_x, i, [layer_names[0]], layer_parameters)\n",
    "    \n",
    "    X4 = tf.layers.max_pooling2d(inputs=X3, pool_size=[4, 4], strides=4)\n",
    "        \n",
    "    X4 = tf.reshape(X4, [-1, 7 * 7 * 32])\n",
    "        \n",
    "    X5 = tf.layers.dense(inputs=X4, \n",
    "                              units=1024, \n",
    "                              activation=tf.nn.relu,\n",
    "                              reuse = stage,\n",
    "                              name = layer_names[1])\n",
    "\n",
    "    # Logits Layer\n",
    "    X6 = tf.layers.dense(inputs=X5,\n",
    "                         units=10,\n",
    "                         reuse = stage,\n",
    "                         name = layer_names[2])\n",
    "\n",
    "    return X6"
   ]
  },
  {
   "cell_type": "code",
   "execution_count": 177,
   "metadata": {},
   "outputs": [],
   "source": [
    "def cnn_model_fn(features, labels, mode):\n",
    "    \"\"\"Model function for CNN.\"\"\"    \n",
    "    \n",
    "    graphs = {'conv_concat': conv_concat, \n",
    "              'convolution': convolution,\n",
    "              'basic_graph': basic_graph}\n",
    "    \n",
    "    layer_paremeters = {'conv1': 80, 'conv2': 80, 'conv3':32}\n",
    "    \n",
    "    X0 = tf.reshape(features[\"x\"], [-1, 28, 28, 1])\n",
    "\n",
    "    X1_hat = equivarification(X0, graphs, 'convolution', ['conv1'], layer_paremeters, 'operation')\n",
    "    \n",
    "    X2_hat = equivarification(X1_hat, graphs, 'conv_concat', ['conv2'], layer_paremeters, 'permutation')\n",
    "\n",
    "    X6_hat = equivarification(X2_hat, graphs, 'basic_graph', \n",
    "                              ['conv3', 'dense', 'logi'], \n",
    "                              layer_paremeters, \n",
    "                              'permutation')\n",
    "    \n",
    "    final = tf.concat(X6_hat, axis = 1)\n",
    "    \n",
    "    predictions = {\n",
    "      # Generate predictions (for PREDICT and EVAL mode)\n",
    "      \"classes\": tf.argmax(input=final, axis= 1),\n",
    "      # Add `softmax_tensor` to the graph. It is used for PREDICT and by the\n",
    "      # `logging_hook`.\n",
    "      \"probabilities\": tf.nn.softmax(final, name=\"softmax_tensor\")\n",
    "    }\n",
    "    \n",
    "    if mode == tf.estimator.ModeKeys.PREDICT:\n",
    "        return tf.estimator.EstimatorSpec(mode=mode, predictions=predictions)\n",
    "\n",
    "    # Calculate Loss (for both TRAIN and EVAL modes)\n",
    "    loss = compute_cost(final, labels)\n",
    "\n",
    "    # Configure the Training Op (for TRAIN mode)\n",
    "    if mode == tf.estimator.ModeKeys.TRAIN:\n",
    "        optimizer = tf.train.AdamOptimizer(learning_rate=0.0001)\n",
    "        train_op = optimizer.minimize(\n",
    "            loss=loss,\n",
    "            global_step=tf.train.get_global_step())\n",
    "        return tf.estimator.EstimatorSpec(mode=mode, loss=loss, train_op=train_op)\n",
    "\n",
    "    # Add evaluation metrics (for EVAL mode)\n",
    "    eval_metric_ops = {\n",
    "      \"accuracy\": tf.metrics.accuracy(\n",
    "          labels=tf.argmax(input=labels, axis= -1), predictions=predictions[\"classes\"])\n",
    "    }\n",
    "    return tf.estimator.EstimatorSpec(\n",
    "        mode=mode, loss=loss, eval_metric_ops=eval_metric_ops)"
   ]
  },
  {
   "cell_type": "code",
   "execution_count": 178,
   "metadata": {},
   "outputs": [],
   "source": [
    "train_data = train_x / 255.0\n",
    "eval_data = test_x / 255.0\n",
    "\n",
    "train_labels = train_y.astype(np.int32)  # not required\n",
    "eval_labels = test_y.astype(np.int32)  # not required"
   ]
  },
  {
   "cell_type": "code",
   "execution_count": 179,
   "metadata": {},
   "outputs": [
    {
     "data": {
      "text/plain": [
       "((60000, 28, 28), (60000, 80))"
      ]
     },
     "execution_count": 179,
     "metadata": {},
     "output_type": "execute_result"
    }
   ],
   "source": [
    "train_data.shape, train_labels.shape"
   ]
  },
  {
   "cell_type": "code",
   "execution_count": 180,
   "metadata": {},
   "outputs": [
    {
     "data": {
      "text/plain": [
       "((10000, 28, 28), (10000, 80))"
      ]
     },
     "execution_count": 180,
     "metadata": {},
     "output_type": "execute_result"
    }
   ],
   "source": [
    "eval_data.shape, eval_labels.shape"
   ]
  },
  {
   "cell_type": "code",
   "execution_count": 181,
   "metadata": {},
   "outputs": [
    {
     "name": "stdout",
     "output_type": "stream",
     "text": [
      "INFO:tensorflow:Using default config.\n",
      "WARNING:tensorflow:Using temporary folder as model directory: /var/folders/s0/_bjfgcs11910zcp53lw2y3pc0000gn/T/tmp4npotxxb\n",
      "INFO:tensorflow:Using config: {'_model_dir': '/var/folders/s0/_bjfgcs11910zcp53lw2y3pc0000gn/T/tmp4npotxxb', '_tf_random_seed': None, '_save_summary_steps': 100, '_save_checkpoints_steps': None, '_save_checkpoints_secs': 600, '_session_config': allow_soft_placement: true\n",
      "graph_options {\n",
      "  rewrite_options {\n",
      "    meta_optimizer_iterations: ONE\n",
      "  }\n",
      "}\n",
      ", '_keep_checkpoint_max': 5, '_keep_checkpoint_every_n_hours': 10000, '_log_step_count_steps': 100, '_train_distribute': None, '_device_fn': None, '_protocol': None, '_eval_distribute': None, '_experimental_distribute': None, '_service': None, '_cluster_spec': <tensorflow.python.training.server_lib.ClusterSpec object at 0x15c81c588>, '_task_type': 'worker', '_task_id': 0, '_global_id_in_cluster': 0, '_master': '', '_evaluation_master': '', '_is_chief': True, '_num_ps_replicas': 0, '_num_worker_replicas': 1}\n"
     ]
    }
   ],
   "source": [
    "mnist_classifier = tf.estimator.Estimator(\n",
    "    model_fn=cnn_model_fn)"
   ]
  },
  {
   "cell_type": "code",
   "execution_count": 182,
   "metadata": {},
   "outputs": [],
   "source": [
    "tensors_to_log = {\"probabilities\": \"softmax_tensor\"}\n",
    "\n",
    "logging_hook = tf.train.LoggingTensorHook(\n",
    "    tensors=tensors_to_log, every_n_iter=50)"
   ]
  },
  {
   "cell_type": "code",
   "execution_count": 183,
   "metadata": {},
   "outputs": [
    {
     "name": "stdout",
     "output_type": "stream",
     "text": [
      "INFO:tensorflow:Calling model_fn.\n",
      "INFO:tensorflow:Done calling model_fn.\n",
      "INFO:tensorflow:Create CheckpointSaverHook.\n",
      "INFO:tensorflow:Graph was finalized.\n",
      "INFO:tensorflow:Running local_init_op.\n",
      "INFO:tensorflow:Done running local_init_op.\n",
      "INFO:tensorflow:Saving checkpoints for 0 into /var/folders/s0/_bjfgcs11910zcp53lw2y3pc0000gn/T/tmp4npotxxb/model.ckpt.\n",
      "INFO:tensorflow:probabilities = [[0.0124914  0.01250469 0.01249506 ... 0.01250017 0.01250435 0.01250641]\n",
      " [0.01249539 0.01250269 0.01249371 ... 0.01250289 0.01250653 0.01250455]\n",
      " [0.012494   0.01250133 0.01249542 ... 0.01250128 0.012505   0.01250453]\n",
      " ...\n",
      " [0.01249314 0.01250304 0.01249434 ... 0.01250322 0.01250555 0.0125022 ]\n",
      " [0.01249513 0.01250266 0.012494   ... 0.01250151 0.01250615 0.01250502]\n",
      " [0.01249396 0.01250395 0.01249587 ... 0.01250216 0.01250728 0.01250211]]\n",
      "INFO:tensorflow:loss = 4.3820457, step = 1\n",
      "INFO:tensorflow:Saving checkpoints for 1 into /var/folders/s0/_bjfgcs11910zcp53lw2y3pc0000gn/T/tmp4npotxxb/model.ckpt.\n",
      "INFO:tensorflow:Loss for final step: 4.3820457.\n"
     ]
    },
    {
     "data": {
      "text/plain": [
       "<tensorflow_estimator.python.estimator.estimator.Estimator at 0x15c81cb38>"
      ]
     },
     "execution_count": 183,
     "metadata": {},
     "output_type": "execute_result"
    }
   ],
   "source": [
    "# Train the model\n",
    "train_input_fn = tf.estimator.inputs.numpy_input_fn(\n",
    "    x={\"x\": train_data},\n",
    "    y=train_labels,\n",
    "    batch_size=200,\n",
    "    num_epochs=None,\n",
    "    shuffle=True)\n",
    "\n",
    "# train one step and display the probabilties\n",
    "mnist_classifier.train(\n",
    "    input_fn=train_input_fn,\n",
    "    steps=1,\n",
    "    hooks=[logging_hook])"
   ]
  },
  {
   "cell_type": "code",
   "execution_count": 184,
   "metadata": {},
   "outputs": [
    {
     "name": "stdout",
     "output_type": "stream",
     "text": [
      "INFO:tensorflow:Calling model_fn.\n",
      "INFO:tensorflow:Done calling model_fn.\n",
      "INFO:tensorflow:Create CheckpointSaverHook.\n",
      "INFO:tensorflow:Graph was finalized.\n",
      "INFO:tensorflow:Restoring parameters from /var/folders/s0/_bjfgcs11910zcp53lw2y3pc0000gn/T/tmp4npotxxb/model.ckpt-1\n",
      "INFO:tensorflow:Running local_init_op.\n",
      "INFO:tensorflow:Done running local_init_op.\n",
      "INFO:tensorflow:Saving checkpoints for 1 into /var/folders/s0/_bjfgcs11910zcp53lw2y3pc0000gn/T/tmp4npotxxb/model.ckpt.\n",
      "INFO:tensorflow:loss = 4.3819118, step = 2\n",
      "INFO:tensorflow:Saving checkpoints for 5 into /var/folders/s0/_bjfgcs11910zcp53lw2y3pc0000gn/T/tmp4npotxxb/model.ckpt.\n",
      "INFO:tensorflow:Loss for final step: 4.3817005.\n"
     ]
    },
    {
     "data": {
      "text/plain": [
       "<tensorflow_estimator.python.estimator.estimator.Estimator at 0x15c81cb38>"
      ]
     },
     "execution_count": 184,
     "metadata": {},
     "output_type": "execute_result"
    }
   ],
   "source": [
    "mnist_classifier.train(input_fn=train_input_fn, steps=4)"
   ]
  },
  {
   "cell_type": "code",
   "execution_count": null,
   "metadata": {},
   "outputs": [],
   "source": [
    "eval_input_fn = tf.estimator.inputs.numpy_input_fn(\n",
    "    x={\"x\": eval_data},\n",
    "    y=eval_labels,\n",
    "    num_epochs=1,\n",
    "    shuffle=False)\n",
    "\n",
    "eval_results = mnist_classifier.evaluate(input_fn=eval_input_fn)\n",
    "print(eval_results)"
   ]
  },
  {
   "cell_type": "markdown",
   "metadata": {},
   "source": [
    "# Now we test equivariancy on some examples"
   ]
  },
  {
   "cell_type": "code",
   "execution_count": 131,
   "metadata": {},
   "outputs": [
    {
     "name": "stdout",
     "output_type": "stream",
     "text": [
      "../data/mnist_png/samplesx/*.png\n",
      "samplesx import done. the shapes of x and y are: (8, 28, 28) (8, 80)\n"
     ]
    }
   ],
   "source": [
    "samples_x, samples_y = loaddata('samplesx')\n",
    "samples_x = samples_x/np.float32(255)"
   ]
  },
  {
   "cell_type": "code",
   "execution_count": 132,
   "metadata": {},
   "outputs": [
    {
     "data": {
      "text/plain": [
       "(8, 28, 28)"
      ]
     },
     "execution_count": 132,
     "metadata": {},
     "output_type": "execute_result"
    }
   ],
   "source": [
    "samples_x.shape"
   ]
  },
  {
   "cell_type": "code",
   "execution_count": 149,
   "metadata": {},
   "outputs": [
    {
     "data": {
      "image/png": "[encoded data removed]",
      "text/plain": [
       "<Figure size 432x288 with 2 Axes>"
      ]
     },
     "metadata": {
      "needs_background": "light"
     },
     "output_type": "display_data"
    },
    {
     "data": {
      "image/png": "[encoded data removed]",
      "text/plain": [
       "<Figure size 432x288 with 2 Axes>"
      ]
     },
     "metadata": {
      "needs_background": "light"
     },
     "output_type": "display_data"
    },
    {
     "data": {
      "image/png": "[encoded data removed]",
      "text/plain": [
       "<Figure size 432x288 with 2 Axes>"
      ]
     },
     "metadata": {
      "needs_background": "light"
     },
     "output_type": "display_data"
    },
    {
     "data": {
      "image/png": "[encoded data removed]",
      "text/plain": [
       "<Figure size 432x288 with 2 Axes>"
      ]
     },
     "metadata": {
      "needs_background": "light"
     },
     "output_type": "display_data"
    },
    {
     "data": {
      "image/png": "[encoded data removed]",
      "text/plain": [
       "<Figure size 432x288 with 2 Axes>"
      ]
     },
     "metadata": {
      "needs_background": "light"
     },
     "output_type": "display_data"
    }
   ],
   "source": [
    "plt.figure()\n",
    "plt.imshow(samples_x[0])\n",
    "plt.colorbar()\n",
    "plt.grid(False)\n",
    "\n",
    "plt.figure()\n",
    "plt.imshow(samples_x[1])\n",
    "plt.colorbar()\n",
    "plt.grid(False)\n",
    "\n",
    "plt.figure()\n",
    "plt.imshow(samples_x[2])\n",
    "plt.colorbar()\n",
    "plt.grid(False)\n",
    "\n",
    "plt.figure()\n",
    "plt.imshow(samples_x[3])\n",
    "plt.colorbar()\n",
    "plt.grid(False)\n",
    "\n",
    "plt.figure()\n",
    "plt.imshow(samples_x[4])\n",
    "plt.colorbar()\n",
    "plt.grid(False)\n",
    "\n",
    "plt.show()"
   ]
  },
  {
   "cell_type": "code",
   "execution_count": 142,
   "metadata": {},
   "outputs": [],
   "source": [
    "pred_input_fn = tf.estimator.inputs.numpy_input_fn(\n",
    "    x={\"x\": samples_x},\n",
    "    shuffle=False)"
   ]
  },
  {
   "cell_type": "code",
   "execution_count": 143,
   "metadata": {},
   "outputs": [],
   "source": [
    "predictions = mnist_classifier.predict(input_fn = pred_input_fn)"
   ]
  },
  {
   "cell_type": "code",
   "execution_count": 144,
   "metadata": {},
   "outputs": [],
   "source": [
    "def decode(c):\n",
    "    # too lazy to implement it properly\n",
    "    vector =[]\n",
    "    for i in range(80):\n",
    "        if i == c:\n",
    "            vector.append(1)\n",
    "        else:\n",
    "            vector.append(0)\n",
    "    for label in range(10):\n",
    "        for angle in range(8):\n",
    "            if str_to_vect(label, angle) == vector:\n",
    "                if angle in range(4):\n",
    "                    out = str(90 * angle) + ' degrees'\n",
    "                elif angle == 4:\n",
    "                    out = 'FLIP_LEFT_RIGHT'\n",
    "                elif angle == 5:\n",
    "                    out = '90 degree then FLIP_TOP_BOTTOM'\n",
    "                elif angle == 6:\n",
    "                    out = 'FLIP_TOP_BOTTOM'\n",
    "                elif angle == 7:\n",
    "                    out = '90 degree then FLIP_LEFT_RIGHT'\n",
    "                else:\n",
    "                    out = 'errorrr'\n",
    "                return label, out"
   ]
  },
  {
   "cell_type": "code",
   "execution_count": 145,
   "metadata": {},
   "outputs": [
    {
     "data": {
      "text/plain": [
       "73"
      ]
     },
     "execution_count": 145,
     "metadata": {},
     "output_type": "execute_result"
    }
   ],
   "source": [
    "str_to_vect(3, 7).index(1)"
   ]
  },
  {
   "cell_type": "code",
   "execution_count": 146,
   "metadata": {},
   "outputs": [
    {
     "data": {
      "text/plain": [
       "(3, '90 degree then FLIP_LEFT_RIGHT')"
      ]
     },
     "execution_count": 146,
     "metadata": {},
     "output_type": "execute_result"
    }
   ],
   "source": [
    "decode(73)"
   ]
  },
  {
   "cell_type": "code",
   "execution_count": 147,
   "metadata": {},
   "outputs": [],
   "source": [
    "# def decode(c):\n",
    "#     return c%10, (4 -(c-c%10)/10)%4 * 90"
   ]
  },
  {
   "cell_type": "code",
   "execution_count": 148,
   "metadata": {},
   "outputs": [
    {
     "name": "stdout",
     "output_type": "stream",
     "text": [
      "INFO:tensorflow:Calling model_fn.\n",
      "INFO:tensorflow:Done calling model_fn.\n",
      "INFO:tensorflow:Graph was finalized.\n",
      "INFO:tensorflow:Restoring parameters from /var/folders/s0/_bjfgcs11910zcp53lw2y3pc0000gn/T/tmptz25fjra/model.ckpt-7\n",
      "INFO:tensorflow:Running local_init_op.\n",
      "INFO:tensorflow:Done running local_init_op.\n",
      "(3, '180 degrees') \n",
      " [0.0125403  0.01253178 0.0125031  0.01256103 0.01247657 0.01244042\n",
      " 0.01246637 0.01252068 0.01250519 0.01247796 0.01254082 0.01253359\n",
      " 0.01250184 0.0125593  0.01247568 0.01243914 0.012461   0.01252226\n",
      " 0.01250247 0.01247443 0.01254419 0.01253466 0.01249855 0.01256587\n",
      " 0.01247754 0.01243859 0.01246253 0.01252787 0.01250736 0.01248027\n",
      " 0.01254121 0.012531   0.01249922 0.01255631 0.0124743  0.01243649\n",
      " 0.01245747 0.01252089 0.01250125 0.01247314 0.01253964 0.01252792\n",
      " 0.01249775 0.01256149 0.01247575 0.01243383 0.0124531  0.01252577\n",
      " 0.01249854 0.01247083 0.01254023 0.01253207 0.01249618 0.01256082\n",
      " 0.01247675 0.01243229 0.01245344 0.0125258  0.01250162 0.01247023\n",
      " 0.01253888 0.01252843 0.01249752 0.01256081 0.01247675 0.01243173\n",
      " 0.01245518 0.01252515 0.01250299 0.01247143 0.01253964 0.01252635\n",
      " 0.01249602 0.01256028 0.01247676 0.01243103 0.01245161 0.01252421\n",
      " 0.01249927 0.0124692 ]\n",
      "(3, '0 degrees') \n",
      " [0.01254525 0.01253156 0.01249308 0.01256446 0.01247979 0.01243419\n",
      " 0.01244666 0.01253517 0.01250744 0.01247877 0.01254338 0.01252673\n",
      " 0.01249636 0.01256097 0.01247662 0.01243211 0.01244852 0.01253048\n",
      " 0.01250181 0.01247512 0.01254023 0.01253152 0.01249607 0.01256389\n",
      " 0.01247857 0.0124351  0.01245377 0.01252936 0.01250464 0.0124766\n",
      " 0.01254475 0.01253001 0.01249232 0.012562   0.01247833 0.01243471\n",
      " 0.01244805 0.01253319 0.01250125 0.01247375 0.0125395  0.0125286\n",
      " 0.01249602 0.01256055 0.01247708 0.01243322 0.0124522  0.01252621\n",
      " 0.01250546 0.01247627 0.0125383  0.0125327  0.01249499 0.01255673\n",
      " 0.01247827 0.01243533 0.01245128 0.01252684 0.01250464 0.01247721\n",
      " 0.01253977 0.01252955 0.01249255 0.01255976 0.01247588 0.01243773\n",
      " 0.01245212 0.0125259  0.01250599 0.01247699 0.01254121 0.01253157\n",
      " 0.01249487 0.01255983 0.01247683 0.01243525 0.01244997 0.01252654\n",
      " 0.01250282 0.01247689]\n",
      "(3, '270 degrees') \n",
      " [0.01253363 0.01252881 0.01249854 0.01256021 0.01248262 0.01243253\n",
      " 0.01245346 0.01252351 0.01250527 0.01247554 0.01253708 0.01252961\n",
      " 0.01249621 0.01256342 0.01248229 0.01243175 0.01245408 0.01253015\n",
      " 0.01251241 0.01248132 0.01253573 0.01252497 0.01249648 0.01255655\n",
      " 0.01247904 0.01242984 0.01244992 0.01252471 0.01250582 0.01247309\n",
      " 0.01253484 0.01252634 0.01249862 0.01256083 0.01248083 0.01243211\n",
      " 0.01245738 0.01252241 0.0125072  0.01247765 0.01254121 0.01252801\n",
      " 0.01249552 0.01256106 0.01248378 0.01243265 0.01245328 0.01252585\n",
      " 0.01250345 0.01247558 0.01254071 0.01252895 0.01249775 0.01256081\n",
      " 0.0124821  0.0124365  0.01245402 0.01252473 0.01250349 0.01247574\n",
      " 0.01254232 0.01252949 0.01249772 0.01256097 0.01248062 0.01243441\n",
      " 0.01245281 0.01252501 0.0125052  0.01247406 0.01254077 0.01252765\n",
      " 0.01249823 0.01256114 0.01248196 0.0124334  0.012455   0.0125268\n",
      " 0.01250492 0.01247541]\n",
      "(3, '90 degree then FLIP_TOP_BOTTOM') \n",
      " [0.01253835 0.01253098 0.01249715 0.01255268 0.01247852 0.01243603\n",
      " 0.01245696 0.01252316 0.01249909 0.01247145 0.01253845 0.0125337\n",
      " 0.01249847 0.0125548  0.01248067 0.0124409  0.01246095 0.01252096\n",
      " 0.01250226 0.01247332 0.01254171 0.01253104 0.01249663 0.01255411\n",
      " 0.01247872 0.0124384  0.01245568 0.01252558 0.01249819 0.01247177\n",
      " 0.01254371 0.01253438 0.01249543 0.01255737 0.0124807  0.01243909\n",
      " 0.0124549  0.01252655 0.01250457 0.01247625 0.01253818 0.0125314\n",
      " 0.01249704 0.01256057 0.01248018 0.01243611 0.01245413 0.01252725\n",
      " 0.0125014  0.01247419 0.0125386  0.01253103 0.01249766 0.01256163\n",
      " 0.01247919 0.01243467 0.01245497 0.01252679 0.01250488 0.01247327\n",
      " 0.01253712 0.01253216 0.01249804 0.01255801 0.01247876 0.01243668\n",
      " 0.01245346 0.01252802 0.01250395 0.01247337 0.01253792 0.01253064\n",
      " 0.01249554 0.01256135 0.01247838 0.01243755 0.0124556  0.01252677\n",
      " 0.01250502 0.01247496]\n",
      "(3, '0 degrees') \n",
      " [0.01254495 0.0125318  0.01249039 0.01256604 0.01248493 0.01243943\n",
      " 0.01245095 0.01253746 0.01251063 0.01248312 0.01254223 0.01252797\n",
      " 0.01249205 0.01256021 0.01248141 0.01243619 0.01244745 0.01253158\n",
      " 0.01250271 0.01247634 0.01254064 0.01252817 0.01249199 0.0125608\n",
      " 0.01248151 0.01243988 0.01245401 0.01252926 0.01250636 0.01247946\n",
      " 0.01254003 0.01253319 0.01249267 0.01256049 0.01248288 0.01243834\n",
      " 0.01245012 0.01253082 0.01250356 0.01247749 0.01253712 0.01252768\n",
      " 0.01249505 0.01255791 0.01247844 0.0124317  0.01245062 0.01252705\n",
      " 0.01250529 0.01247518 0.012538   0.01252635 0.0124927  0.01255952\n",
      " 0.01247871 0.01243174 0.01244995 0.01252553 0.01250463 0.01247381\n",
      " 0.01253745 0.01252928 0.01249426 0.01255895 0.01247792 0.01243496\n",
      " 0.01244955 0.01252636 0.01250367 0.01247482 0.01253811 0.01253012\n",
      " 0.01249427 0.01255874 0.012477   0.01243349 0.0124483  0.01252653\n",
      " 0.01250673 0.01247296]\n",
      "(3, '0 degrees') \n",
      " [0.01253666 0.0125326  0.01250119 0.01256347 0.0124769  0.01243465\n",
      " 0.01246126 0.01252468 0.0125083  0.01247569 0.01253826 0.01253248\n",
      " 0.01249769 0.0125622  0.01247602 0.01243302 0.01245546 0.01252631\n",
      " 0.01250571 0.01247596 0.01253917 0.0125355  0.01249826 0.01256319\n",
      " 0.01247912 0.01243278 0.01245291 0.01252833 0.01251081 0.01247773\n",
      " 0.01253659 0.01253034 0.01249862 0.01256037 0.01247585 0.01242996\n",
      " 0.01245751 0.0125265  0.01250514 0.01247515 0.01253918 0.0125292\n",
      " 0.01249453 0.01256027 0.01247613 0.0124342  0.01245609 0.01252525\n",
      " 0.01250179 0.0124727  0.01254179 0.01253085 0.01249602 0.0125601\n",
      " 0.01247635 0.01243343 0.01245501 0.01252533 0.01249942 0.01247442\n",
      " 0.01254068 0.01253008 0.01249623 0.01256133 0.01247587 0.01243136\n",
      " 0.01245716 0.01252474 0.01250211 0.01247439 0.01253868 0.01253114\n",
      " 0.01249724 0.01255888 0.01247695 0.01243247 0.01245592 0.01252462\n",
      " 0.01250249 0.01247334]\n",
      "(3, '90 degrees') \n",
      " [0.01254284 0.01252783 0.01249499 0.01255662 0.01247813 0.01242861\n",
      " 0.01245178 0.01252622 0.0124984  0.01247239 0.01254213 0.01252818\n",
      " 0.01249844 0.01255846 0.01247749 0.01243147 0.01245792 0.01252268\n",
      " 0.01250086 0.01247447 0.01254201 0.0125319  0.01249667 0.01255796\n",
      " 0.01247962 0.01243261 0.01245526 0.01252532 0.01249831 0.0124738\n",
      " 0.01254651 0.01253283 0.01249558 0.01256291 0.01248012 0.01243054\n",
      " 0.0124568  0.01253244 0.01250338 0.01247974 0.012541   0.01253513\n",
      " 0.01249667 0.01255871 0.01248023 0.01243516 0.01245258 0.01252616\n",
      " 0.01250534 0.01247451 0.01253876 0.01253283 0.01249661 0.01255876\n",
      " 0.01248213 0.01243285 0.01245377 0.01252906 0.01250623 0.0124771\n",
      " 0.01254003 0.01253297 0.01249552 0.01255904 0.012482   0.01243393\n",
      " 0.01245269 0.0125258  0.01250354 0.0124744  0.01253947 0.01253284\n",
      " 0.01249528 0.01255896 0.01248086 0.01243494 0.01245344 0.01252587\n",
      " 0.01250475 0.0124758 ]\n",
      "(3, '90 degree then FLIP_LEFT_RIGHT') \n",
      " [0.01254127 0.0125267  0.01249212 0.01255887 0.01248288 0.01243498\n",
      " 0.01245019 0.01252651 0.01250181 0.01247224 0.01254298 0.01252982\n",
      " 0.01249359 0.01256085 0.01248605 0.01243401 0.01244713 0.01252797\n",
      " 0.01250857 0.0124765  0.0125385  0.01252563 0.01249466 0.01255749\n",
      " 0.01248297 0.01243092 0.01244985 0.01252439 0.01250393 0.01247291\n",
      " 0.01253769 0.01252727 0.01249607 0.01256067 0.0124854  0.01243532\n",
      " 0.01245431 0.01252313 0.01250577 0.01247335 0.01253842 0.01252799\n",
      " 0.01249659 0.01255961 0.01248192 0.01243577 0.01245661 0.01252595\n",
      " 0.0125055  0.01247738 0.01254049 0.01252548 0.01249345 0.01256163\n",
      " 0.01248242 0.01243626 0.012457   0.01252605 0.0125048  0.01247763\n",
      " 0.012541   0.01252863 0.01249741 0.01256178 0.01248107 0.01243437\n",
      " 0.0124567  0.01252474 0.01250316 0.0124763  0.01254114 0.01252684\n",
      " 0.01249794 0.01256267 0.01248059 0.01243403 0.01245841 0.01252547\n",
      " 0.01250505 0.01247651]\n"
     ]
    }
   ],
   "source": [
    "for prediction in predictions:\n",
    "    print (decode(prediction['classes']), '\\n', prediction['probabilities'])"
   ]
  },
  {
   "cell_type": "code",
   "execution_count": null,
   "metadata": {},
   "outputs": [],
   "source": []
  },
  {
   "cell_type": "code",
   "execution_count": null,
   "metadata": {},
   "outputs": [],
   "source": []
  }
 ],
 "metadata": {
  "kernelspec": {
   "display_name": "Python 3",
   "language": "python",
   "name": "python3"
  },
  "language_info": {
   "codemirror_mode": {
    "name": "ipython",
    "version": 3
   },
   "file_extension": ".py",
   "mimetype": "text/x-python",
   "name": "python",
   "nbconvert_exporter": "python",
   "pygments_lexer": "ipython3",
   "version": "3.7.3"
  }
 },
 "nbformat": 4,
 "nbformat_minor": 2
}
