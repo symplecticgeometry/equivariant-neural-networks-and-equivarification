{
 "cells": [
  {
   "cell_type": "code",
   "execution_count": 1,
   "metadata": {},
   "outputs": [],
   "source": [
    "from __future__ import absolute_import, division, print_function\n",
    "import math\n",
    "import numpy as np\n",
    "import h5py\n",
    "import matplotlib.pyplot as plt\n",
    "import tensorflow as tf\n",
    "from tensorflow.python.framework import ops\n",
    "from tensorflow.examples.tutorials.mnist import input_data\n",
    "from tensorflow import keras\n",
    "import skimage\n",
    "from skimage import data\n",
    "from skimage.transform import resize\n",
    "from PIL import Image\n",
    "import matplotlib.image as mpimg\n",
    "import numpy as np\n",
    "import glob\n",
    "from sympy.combinatorics.named_groups import *\n",
    "\n",
    "tf.logging.set_verbosity(tf.logging.INFO)"
   ]
  },
  {
   "cell_type": "code",
   "execution_count": 2,
   "metadata": {},
   "outputs": [],
   "source": [
    "directory = '../data/mnist_png/'"
   ]
  },
  {
   "cell_type": "code",
   "execution_count": 3,
   "metadata": {},
   "outputs": [],
   "source": [
    "G = DihedralGroup(4)\n",
    "#G = CyclicGroup(4)\n",
    "\n",
    "G = list(G.generate_dimino())\n",
    "\n",
    "i_f_g = {}\n",
    "g_f_i = {}\n",
    "for i in range(len(G)):\n",
    "    g_f_i[i] = G[i]\n",
    "    i_f_g[G[i]] = i"
   ]
  },
  {
   "cell_type": "code",
   "execution_count": 4,
   "metadata": {},
   "outputs": [],
   "source": [
    "# let ei be the obvious element in R^10\n",
    "# let F_hat be the perfect network after trainning.\n",
    "# let xi in X be an image that represents the handwritting of number i.\n",
    "# then we want (define) [F_hat(xi)](gj) = ei if j = 0; 0 else. Here, g0 is the identity element (not required tho)\n",
    "# note F(xi) = p[F_hat(xi)] = [F_hat(xi)](g0) = ei\n",
    "# now we calculate [F_hat(g xi)]\n",
    "# [F_hat(g xi)](gj) = [g F_hat(xi)](gj) = [F_hat(xi)](g^(-1) gj)\n",
    "# by the definition, and let g = gk, then\n",
    "# [F_hat(gk xi)](gj) = ei if gk = gj, i.e. k =j; 0 else. \n",
    "# Note that we identify Z^{x G} with G x G x ... x G via\n",
    "# s \\mapsto s(g0), s(g1), ..., s(g(n-1)), where n = |G|\n",
    "# hence, F_hat(gk xi) is mapped to (0,...,ei,...,0), where ei is at the location k\n"
   ]
  },
  {
   "cell_type": "code",
   "execution_count": 5,
   "metadata": {},
   "outputs": [],
   "source": [
    "def str_to_vect(label, angle):\n",
    "    i = int(label)\n",
    "    k = int(angle)\n",
    "    ei = []\n",
    "    for j in range(10):\n",
    "        if j == i:\n",
    "            ei.append(1)\n",
    "        else:\n",
    "            ei.append(0)\n",
    "    zero = [0]*10\n",
    "    vec = []\n",
    "    for j in range(len(G)):\n",
    "        if j == k:\n",
    "            vec.append(ei)\n",
    "        else:\n",
    "            vec.append(zero)\n",
    "    res = []\n",
    "    for a in vec:\n",
    "        for b in a:\n",
    "            res.append(b)\n",
    "    return res"
   ]
  },
  {
   "cell_type": "code",
   "execution_count": 6,
   "metadata": {},
   "outputs": [
    {
     "name": "stdout",
     "output_type": "stream",
     "text": [
      "[0, 0, 0, 0, 0, 0, 0, 0, 0, 0, 0, 0, 0, 0, 0, 0, 0, 0, 0, 0, 0, 0, 0, 0, 0, 0, 0, 0, 0, 0, 0, 0, 0, 0, 0, 0, 0, 0, 0, 0, 0, 0, 0, 0, 0, 0, 0, 0, 0, 0, 1, 0, 0, 0, 0, 0, 0, 0, 0, 0, 0, 0, 0, 0, 0, 0, 0, 0, 0, 0, 0, 0, 0, 0, 0, 0, 0, 0, 0, 0]\n"
     ]
    }
   ],
   "source": [
    "print (str_to_vect(0,5))"
   ]
  },
  {
   "cell_type": "code",
   "execution_count": 7,
   "metadata": {},
   "outputs": [],
   "source": [
    "# def str_to_vect(label, angle):\n",
    "#     label = int(label)\n",
    "#     angle = int(angle)\n",
    "#     position = (4 - angle)%4\n",
    "#     vector = []\n",
    "#     for i in range(4):\n",
    "#         for j in range(10):\n",
    "#             if i == position and j == label:\n",
    "#                 vector.append(1)\n",
    "#             else:\n",
    "#                 vector.append(0)\n",
    "#     return vector"
   ]
  },
  {
   "cell_type": "code",
   "execution_count": 8,
   "metadata": {},
   "outputs": [],
   "source": [
    "#loaddata\n",
    "def loaddata(s):\n",
    "    filelist = glob.glob(directory + s + '/*.png')\n",
    "    y_temp = []\n",
    "    x_temp = []\n",
    "    print (directory + s + '/*.png')\n",
    "    for fname in filelist:\n",
    "        short_name = fname.split('/')[-1]\n",
    "        label, angle, name = short_name.split('_')\n",
    "        img = mpimg.imread(fname)\n",
    "        x_temp.append(img)\n",
    "        vector = str_to_vect(label, angle)\n",
    "        y_temp.append(vector)\n",
    "\n",
    "    x = np.asarray(x_temp)\n",
    "    y = np.asarray(y_temp)\n",
    "    print (s + ' import done. the shapes of x and y are:', x.shape, y.shape)\n",
    "    return x, y\n"
   ]
  },
  {
   "cell_type": "code",
   "execution_count": 9,
   "metadata": {},
   "outputs": [
    {
     "name": "stdout",
     "output_type": "stream",
     "text": [
      "../data/mnist_png/trainingx/*.png\n",
      "trainingx import done. the shapes of x and y are: (60000, 28, 28) (60000, 80)\n"
     ]
    }
   ],
   "source": [
    "train_x, train_y = loaddata('trainingx')"
   ]
  },
  {
   "cell_type": "code",
   "execution_count": 10,
   "metadata": {},
   "outputs": [
    {
     "name": "stdout",
     "output_type": "stream",
     "text": [
      "../data/mnist_png/testingx/*.png\n",
      "testingx import done. the shapes of x and y are: (30259, 28, 28) (30259, 80)\n"
     ]
    }
   ],
   "source": [
    "test_x, test_y = loaddata('testingx')"
   ]
  },
  {
   "cell_type": "code",
   "execution_count": 11,
   "metadata": {},
   "outputs": [
    {
     "name": "stdout",
     "output_type": "stream",
     "text": [
      "../data/mnist_png/samplesx/*.png\n",
      "samplesx import done. the shapes of x and y are: (8, 28, 28) (8, 80)\n"
     ]
    }
   ],
   "source": [
    "samples_x, samples_y = loaddata('samplesx')\n",
    "samples_x = samples_x/np.float32(255)"
   ]
  },
  {
   "cell_type": "code",
   "execution_count": 12,
   "metadata": {},
   "outputs": [
    {
     "data": {
      "image/png": "[encoded data removed]",
      "text/plain": [
       "<Figure size 432x288 with 2 Axes>"
      ]
     },
     "metadata": {
      "needs_background": "light"
     },
     "output_type": "display_data"
    }
   ],
   "source": [
    "plt.figure()\n",
    "plt.imshow(samples_x[4])\n",
    "plt.colorbar()\n",
    "plt.grid(False)\n",
    "plt.show()"
   ]
  },
  {
   "cell_type": "code",
   "execution_count": 16,
   "metadata": {},
   "outputs": [],
   "source": [
    "operations = {}\n",
    "\n",
    "operations[g_f_i[0]] = (lambda x: tf.image.rot90(x, k =0))\n",
    "operations[g_f_i[1]] = (lambda x: tf.image.rot90(x, k =3))\n",
    "operations[g_f_i[2]] = (lambda x: tf.image.rot90(x, k =2))\n",
    "operations[g_f_i[3]] = (lambda x: tf.image.rot90(x, k =1))\n",
    "\n",
    "if len(G) > 4:\n",
    "    operations[g_f_i[4]] = (lambda x: tf.image.flip_up_down(x))\n",
    "    operations[g_f_i[5]] = (lambda x: tf.image.flip_left_right(tf.image.rot90(x, k = 1)))\n",
    "    operations[g_f_i[6]] = (lambda x: tf.image.flip_left_right(x))\n",
    "    operations[g_f_i[7]] = (lambda x: tf.image.flip_up_down(tf.image.rot90(x, k = 1)))"
   ]
  },
  {
   "cell_type": "code",
   "execution_count": 49,
   "metadata": {},
   "outputs": [
    {
     "name": "stdout",
     "output_type": "stream",
     "text": [
      "6 1 7\n"
     ]
    },
    {
     "data": {
      "text/plain": [
       "<Figure size 432x288 with 0 Axes>"
      ]
     },
     "metadata": {},
     "output_type": "display_data"
    },
    {
     "data": {
      "image/png": "[encoded data removed]",
      "text/plain": [
       "<Figure size 576x576 with 2 Axes>"
      ]
     },
     "metadata": {
      "needs_background": "light"
     },
     "output_type": "display_data"
    }
   ],
   "source": [
    "sess = tf.compat.v1.InteractiveSession()\n",
    "x = tf.reshape(samples_x, [-1, 28, 28, 1])\n",
    "i, j = 6, 1\n",
    "y = operations[g_f_i[i]](operations[g_f_i[j]](x))\n",
    "y = tf.reshape(y, [-1, 28, 28]).eval()\n",
    "z = operations[g_f_i[i] * g_f_i[j]](x)\n",
    "z = tf.reshape(z, [-1, 28, 28]).eval()\n",
    "plt.figure()\n",
    "print (i, j, i_f_g[g_f_i[i] * g_f_i[j]])\n",
    "\n",
    "fig=plt.figure(figsize=(8, 8))\n",
    "\n",
    "fig.add_subplot(1, 2, 1)\n",
    "plt.imshow(y[4])\n",
    "fig.add_subplot(1, 2, 2)\n",
    "plt.imshow(z[4])\n",
    "plt.show()\n",
    "\n",
    "sess.close()"
   ]
  },
  {
   "cell_type": "code",
   "execution_count": 19,
   "metadata": {},
   "outputs": [],
   "source": [
    "def compute_cost(Z, Y):\n",
    "    cost = tf.reduce_mean(tf.nn.softmax_cross_entropy_with_logits(logits = Z, labels = Y))    \n",
    "    return cost"
   ]
  },
  {
   "cell_type": "code",
   "execution_count": 20,
   "metadata": {},
   "outputs": [],
   "source": [
    "def operation(x, g):\n",
    "    return operations[g](x)"
   ]
  },
  {
   "cell_type": "code",
   "execution_count": 21,
   "metadata": {},
   "outputs": [
    {
     "data": {
      "text/plain": [
       "{Permutation(3): 0,\n",
       " Permutation(0, 1, 2, 3): 1,\n",
       " Permutation(0, 2)(1, 3): 2,\n",
       " Permutation(0, 3, 2, 1): 3,\n",
       " Permutation(0, 3)(1, 2): 4,\n",
       " Permutation(1, 3): 5,\n",
       " Permutation(0, 1)(2, 3): 6,\n",
       " Permutation(3)(0, 2): 7}"
      ]
     },
     "execution_count": 21,
     "metadata": {},
     "output_type": "execute_result"
    }
   ],
   "source": [
    "i_f_g"
   ]
  },
  {
   "cell_type": "code",
   "execution_count": 22,
   "metadata": {},
   "outputs": [
    {
     "data": {
      "text/plain": [
       "{0: Permutation(3),\n",
       " 1: Permutation(0, 1, 2, 3),\n",
       " 2: Permutation(0, 2)(1, 3),\n",
       " 3: Permutation(0, 3, 2, 1),\n",
       " 4: Permutation(0, 3)(1, 2),\n",
       " 5: Permutation(1, 3),\n",
       " 6: Permutation(0, 1)(2, 3),\n",
       " 7: Permutation(3)(0, 2)}"
      ]
     },
     "execution_count": 22,
     "metadata": {},
     "output_type": "execute_result"
    }
   ],
   "source": [
    "g_f_i"
   ]
  },
  {
   "cell_type": "code",
   "execution_count": 23,
   "metadata": {},
   "outputs": [
    {
     "data": {
      "text/plain": [
       "True"
      ]
     },
     "execution_count": 23,
     "metadata": {},
     "output_type": "execute_result"
    }
   ],
   "source": [
    "g_f_i[1] * g_f_i[4] == g_f_i[7]"
   ]
  },
  {
   "cell_type": "markdown",
   "metadata": {},
   "source": [
    "Wrong!!\n",
    "we make a choice of an order of G, i.e., (g0,g1,g2,...), where we choose g0 = e (not necessary)\n",
    "in this case, we chose G = (e, g, g^2, g^3)\n",
    "we make an identification Z^{xG} = {s: G \\to X} with Z x Z ... x Z via\n",
    "s \\mapsto (s(g0), s(g1), s(g2),...)\n",
    "Note that h acts on Z^{xG} by hs(g) = s(h^{-1}g)\n",
    "we wants to see how h acts on Z x Z ... x Z.\n",
    "hs is identified with (..., hs(gi), ...) = (..., s((h^{-1}*gi), ...)\n",
    "\n",
    "Z^{xG} --> G x G x ... x G\n",
    "|                |\n",
    "|h               |h\n",
    "V                V\n",
    "Z^{xG}--> G x G x ... x G\n",
    "\n",
    "\n",
    "s -------> (..., s(gi),...), this is the i-th location\n",
    "|                |\n",
    "|h               |h\n",
    "V                V\n",
    "hs-------> (..., s((h^{-1}*gi), ...), this is the i_f_g(h^{-1}*gi) -th location\n",
    "\n",
    "hence, h maps location i to location i_f_g(h^{-1}*gi) = j\n",
    "g_f_i i_f_g(h^{-1} * gi) = g_f_i(j)\n",
    "h^{-1} * gi = g_f_i(j)\n",
    "gi = h * g_f_i(j) \n",
    "i = i_f_g(gi) = i_f_g (h * g_f_i(j))"
   ]
  },
  {
   "cell_type": "code",
   "execution_count": 56,
   "metadata": {},
   "outputs": [],
   "source": [
    "def permu(x, h):\n",
    "    return [x[i_f_g[(h**(-1)) * g_f_i[j]]] for j in range(len(G))]"
   ]
  },
  {
   "cell_type": "code",
   "execution_count": 57,
   "metadata": {},
   "outputs": [
    {
     "name": "stdout",
     "output_type": "stream",
     "text": [
      "[0, 1, 2, 3, 4, 5, 6, 7]\n",
      "[3, 0, 1, 2, 5, 6, 7, 4]\n",
      "[2, 3, 0, 1, 6, 7, 4, 5]\n",
      "[1, 2, 3, 0, 7, 4, 5, 6]\n",
      "[4, 5, 6, 7, 0, 1, 2, 3]\n",
      "[5, 6, 7, 4, 3, 0, 1, 2]\n",
      "[6, 7, 4, 5, 2, 3, 0, 1]\n",
      "[7, 4, 5, 6, 1, 2, 3, 0]\n"
     ]
    }
   ],
   "source": [
    "for i in range(len(G)):\n",
    "    print (permu([0,1,2,3,4,5,6,7], g_f_i[i]))"
   ]
  },
  {
   "cell_type": "code",
   "execution_count": 58,
   "metadata": {},
   "outputs": [],
   "source": [
    "def equivarification(X, graphs, graph_name, layer_names, layer_parameters, rep):\n",
    "    if rep == 'permutation':\n",
    "        action = permu\n",
    "    elif rep == 'rotation':\n",
    "        action = rotationx\n",
    "    elif rep == 'operation':\n",
    "        action = operation\n",
    "    graph = graphs[graph_name]\n",
    "    Z_hat = []\n",
    "    for i in range(len(G)):\n",
    "        Z_hat.append(graph(action(X, (g_f_i[i])**(-1)), i, layer_names, layer_parameters))\n",
    "    return Z_hat"
   ]
  },
  {
   "cell_type": "code",
   "execution_count": 59,
   "metadata": {},
   "outputs": [],
   "source": [
    "def convolution(x, i, Names, filter_nums):\n",
    "    Name = Names[0]\n",
    "    filter_num = filter_nums[Name]\n",
    "    \n",
    "    stage = (i != 0)\n",
    "    y = tf.layers.conv2d(\n",
    "      inputs=x,\n",
    "      filters=filter_num,\n",
    "      kernel_size=[3, 3],\n",
    "      padding=\"same\",\n",
    "      activation=tf.nn.relu,\n",
    "      reuse = stage,\n",
    "      name = Name)\n",
    "    return y  "
   ]
  },
  {
   "cell_type": "code",
   "execution_count": 60,
   "metadata": {},
   "outputs": [],
   "source": [
    "def conv_concat(x, i, Names, filter_nums):   \n",
    "    y = tf.concat(x, axis = 3)    \n",
    "    return convolution(y, i, Names, filter_nums)"
   ]
  },
  {
   "cell_type": "code",
   "execution_count": 61,
   "metadata": {},
   "outputs": [],
   "source": [
    "def basic_graph(x, i, layer_names, layer_parameters):\n",
    "    \n",
    "    stage = (i != 0)\n",
    "    \n",
    "    concat_x = tf.concat(x, axis = 3)\n",
    "    \n",
    "    X3 = convolution(concat_x, i, [layer_names[0]], layer_parameters)\n",
    "    \n",
    "    X4 = tf.layers.max_pooling2d(inputs=X3, pool_size=[4, 4], strides=4)\n",
    "        \n",
    "    X4 = tf.reshape(X4, [-1, 7 * 7 * 32])\n",
    "        \n",
    "    X5 = tf.layers.dense(inputs=X4, \n",
    "                              units=1024, \n",
    "                              activation=tf.nn.relu,\n",
    "                              reuse = stage,\n",
    "                              name = layer_names[1])\n",
    "\n",
    "    # Logits Layer\n",
    "    X6 = tf.layers.dense(inputs=X5,\n",
    "                         units=10,\n",
    "                         reuse = stage,\n",
    "                         name = layer_names[2])\n",
    "\n",
    "    return X6"
   ]
  },
  {
   "cell_type": "code",
   "execution_count": 62,
   "metadata": {},
   "outputs": [],
   "source": [
    "def cnn_model_fn(features, labels, mode):\n",
    "    \"\"\"Model function for CNN.\"\"\"    \n",
    "    \n",
    "    graphs = {'conv_concat': conv_concat, \n",
    "              'convolution': convolution,\n",
    "              'basic_graph': basic_graph}\n",
    "    \n",
    "    layer_paremeters = {'conv1': 80, 'conv2': 80, 'conv3':32}\n",
    "    \n",
    "    X0 = tf.reshape(features[\"x\"], [-1, 28, 28, 1])\n",
    "\n",
    "    X1_hat = equivarification(X0, graphs, 'convolution', ['conv1'], layer_paremeters, 'operation')\n",
    "    \n",
    "    X2_hat = equivarification(X1_hat, graphs, 'conv_concat', ['conv2'], layer_paremeters, 'permutation')\n",
    "\n",
    "    X6_hat = equivarification(X2_hat, graphs, 'basic_graph', \n",
    "                              ['conv3', 'dense', 'logi'], \n",
    "                              layer_paremeters, \n",
    "                              'permutation')\n",
    "    \n",
    "    final = tf.concat(X6_hat, axis = 1)\n",
    "    \n",
    "    predictions = {\n",
    "      # Generate predictions (for PREDICT and EVAL mode)\n",
    "      \"classes\": tf.argmax(input=final, axis= 1),\n",
    "      # Add `softmax_tensor` to the graph. It is used for PREDICT and by the\n",
    "      # `logging_hook`.\n",
    "      \"probabilities\": tf.nn.softmax(final, name=\"softmax_tensor\")\n",
    "    }\n",
    "    \n",
    "    if mode == tf.estimator.ModeKeys.PREDICT:\n",
    "        return tf.estimator.EstimatorSpec(mode=mode, predictions=predictions)\n",
    "\n",
    "    # Calculate Loss (for both TRAIN and EVAL modes)\n",
    "    loss = compute_cost(final, labels)\n",
    "\n",
    "    # Configure the Training Op (for TRAIN mode)\n",
    "    if mode == tf.estimator.ModeKeys.TRAIN:\n",
    "        optimizer = tf.train.AdamOptimizer(learning_rate=0.0001)\n",
    "        train_op = optimizer.minimize(\n",
    "            loss=loss,\n",
    "            global_step=tf.train.get_global_step())\n",
    "        return tf.estimator.EstimatorSpec(mode=mode, loss=loss, train_op=train_op)\n",
    "\n",
    "    # Add evaluation metrics (for EVAL mode)\n",
    "    eval_metric_ops = {\n",
    "      \"accuracy\": tf.metrics.accuracy(\n",
    "          labels=tf.argmax(input=labels, axis= -1), predictions=predictions[\"classes\"])\n",
    "    }\n",
    "    return tf.estimator.EstimatorSpec(\n",
    "        mode=mode, loss=loss, eval_metric_ops=eval_metric_ops)"
   ]
  },
  {
   "cell_type": "code",
   "execution_count": 63,
   "metadata": {},
   "outputs": [],
   "source": [
    "train_data = train_x / 255.0\n",
    "eval_data = test_x / 255.0\n",
    "\n",
    "train_labels = train_y.astype(np.int32)  # not required\n",
    "eval_labels = test_y.astype(np.int32)  # not required"
   ]
  },
  {
   "cell_type": "code",
   "execution_count": 64,
   "metadata": {},
   "outputs": [
    {
     "data": {
      "text/plain": [
       "((60000, 28, 28), (60000, 80))"
      ]
     },
     "execution_count": 64,
     "metadata": {},
     "output_type": "execute_result"
    }
   ],
   "source": [
    "train_data.shape, train_labels.shape"
   ]
  },
  {
   "cell_type": "code",
   "execution_count": 65,
   "metadata": {},
   "outputs": [
    {
     "data": {
      "text/plain": [
       "((30259, 28, 28), (30259, 80))"
      ]
     },
     "execution_count": 65,
     "metadata": {},
     "output_type": "execute_result"
    }
   ],
   "source": [
    "eval_data.shape, eval_labels.shape"
   ]
  },
  {
   "cell_type": "code",
   "execution_count": 66,
   "metadata": {},
   "outputs": [
    {
     "name": "stdout",
     "output_type": "stream",
     "text": [
      "INFO:tensorflow:Using default config.\n",
      "WARNING:tensorflow:Using temporary folder as model directory: /var/folders/s0/_bjfgcs11910zcp53lw2y3pc0000gn/T/tmp2oz_lyq_\n",
      "INFO:tensorflow:Using config: {'_model_dir': '/var/folders/s0/_bjfgcs11910zcp53lw2y3pc0000gn/T/tmp2oz_lyq_', '_tf_random_seed': None, '_save_summary_steps': 100, '_save_checkpoints_steps': None, '_save_checkpoints_secs': 600, '_session_config': allow_soft_placement: true\n",
      "graph_options {\n",
      "  rewrite_options {\n",
      "    meta_optimizer_iterations: ONE\n",
      "  }\n",
      "}\n",
      ", '_keep_checkpoint_max': 5, '_keep_checkpoint_every_n_hours': 10000, '_log_step_count_steps': 100, '_train_distribute': None, '_device_fn': None, '_protocol': None, '_eval_distribute': None, '_experimental_distribute': None, '_service': None, '_cluster_spec': <tensorflow.python.training.server_lib.ClusterSpec object at 0x15fd796d8>, '_task_type': 'worker', '_task_id': 0, '_global_id_in_cluster': 0, '_master': '', '_evaluation_master': '', '_is_chief': True, '_num_ps_replicas': 0, '_num_worker_replicas': 1}\n"
     ]
    }
   ],
   "source": [
    "mnist_classifier = tf.estimator.Estimator(\n",
    "    model_fn=cnn_model_fn)"
   ]
  },
  {
   "cell_type": "code",
   "execution_count": 67,
   "metadata": {},
   "outputs": [],
   "source": [
    "tensors_to_log = {\"probabilities\": \"softmax_tensor\"}\n",
    "\n",
    "logging_hook = tf.train.LoggingTensorHook(\n",
    "    tensors=tensors_to_log, every_n_iter=50)"
   ]
  },
  {
   "cell_type": "code",
   "execution_count": 68,
   "metadata": {},
   "outputs": [
    {
     "name": "stdout",
     "output_type": "stream",
     "text": [
      "INFO:tensorflow:Calling model_fn.\n",
      "INFO:tensorflow:Done calling model_fn.\n",
      "INFO:tensorflow:Create CheckpointSaverHook.\n",
      "INFO:tensorflow:Graph was finalized.\n",
      "INFO:tensorflow:Running local_init_op.\n",
      "INFO:tensorflow:Done running local_init_op.\n",
      "INFO:tensorflow:Saving checkpoints for 0 into /var/folders/s0/_bjfgcs11910zcp53lw2y3pc0000gn/T/tmp2oz_lyq_/model.ckpt.\n",
      "INFO:tensorflow:probabilities = [[0.01250252 0.01250161 0.01249644 ... 0.01250192 0.01250021 0.01250031]\n",
      " [0.0125005  0.01250358 0.01249713 ... 0.01250241 0.01250006 0.01249961]\n",
      " [0.01250021 0.01250295 0.01249466 ... 0.01250372 0.01250062 0.01249911]\n",
      " ...\n",
      " [0.01250119 0.01250304 0.01249572 ... 0.01250041 0.012498   0.01249763]\n",
      " [0.01249913 0.01250037 0.01249629 ... 0.01250119 0.01249777 0.01250215]\n",
      " [0.01250119 0.01250189 0.01249602 ... 0.01250086 0.01249875 0.01249903]]\n",
      "INFO:tensorflow:loss = 4.382043, step = 1\n",
      "INFO:tensorflow:Saving checkpoints for 1 into /var/folders/s0/_bjfgcs11910zcp53lw2y3pc0000gn/T/tmp2oz_lyq_/model.ckpt.\n",
      "INFO:tensorflow:Loss for final step: 4.382043.\n"
     ]
    },
    {
     "data": {
      "text/plain": [
       "<tensorflow_estimator.python.estimator.estimator.Estimator at 0x15fd79f98>"
      ]
     },
     "execution_count": 68,
     "metadata": {},
     "output_type": "execute_result"
    }
   ],
   "source": [
    "# Train the model\n",
    "train_input_fn = tf.estimator.inputs.numpy_input_fn(\n",
    "    x={\"x\": train_data},\n",
    "    y=train_labels,\n",
    "    batch_size=200,\n",
    "    num_epochs=None,\n",
    "    shuffle=True)\n",
    "\n",
    "# train one step and display the probabilties\n",
    "mnist_classifier.train(\n",
    "    input_fn=train_input_fn,\n",
    "    steps=1,\n",
    "    hooks=[logging_hook])"
   ]
  },
  {
   "cell_type": "code",
   "execution_count": 69,
   "metadata": {},
   "outputs": [
    {
     "name": "stdout",
     "output_type": "stream",
     "text": [
      "INFO:tensorflow:Calling model_fn.\n",
      "INFO:tensorflow:Done calling model_fn.\n",
      "INFO:tensorflow:Create CheckpointSaverHook.\n",
      "INFO:tensorflow:Graph was finalized.\n",
      "INFO:tensorflow:Restoring parameters from /var/folders/s0/_bjfgcs11910zcp53lw2y3pc0000gn/T/tmp2oz_lyq_/model.ckpt-1\n",
      "INFO:tensorflow:Running local_init_op.\n",
      "INFO:tensorflow:Done running local_init_op.\n",
      "INFO:tensorflow:Saving checkpoints for 1 into /var/folders/s0/_bjfgcs11910zcp53lw2y3pc0000gn/T/tmp2oz_lyq_/model.ckpt.\n",
      "INFO:tensorflow:loss = 4.381988, step = 2\n",
      "INFO:tensorflow:Saving checkpoints for 5 into /var/folders/s0/_bjfgcs11910zcp53lw2y3pc0000gn/T/tmp2oz_lyq_/model.ckpt.\n",
      "INFO:tensorflow:Loss for final step: 4.3817234.\n"
     ]
    },
    {
     "data": {
      "text/plain": [
       "<tensorflow_estimator.python.estimator.estimator.Estimator at 0x15fd79f98>"
      ]
     },
     "execution_count": 69,
     "metadata": {},
     "output_type": "execute_result"
    }
   ],
   "source": [
    "mnist_classifier.train(input_fn=train_input_fn, steps=4)"
   ]
  },
  {
   "cell_type": "code",
   "execution_count": null,
   "metadata": {},
   "outputs": [],
   "source": [
    "eval_input_fn = tf.estimator.inputs.numpy_input_fn(\n",
    "    x={\"x\": eval_data},\n",
    "    y=eval_labels,\n",
    "    num_epochs=1,\n",
    "    shuffle=False)\n",
    "\n",
    "eval_results = mnist_classifier.evaluate(input_fn=eval_input_fn)\n",
    "print(eval_results)"
   ]
  },
  {
   "cell_type": "markdown",
   "metadata": {},
   "source": [
    "# Now we test equivariancy on some examples"
   ]
  },
  {
   "cell_type": "code",
   "execution_count": 70,
   "metadata": {},
   "outputs": [
    {
     "name": "stdout",
     "output_type": "stream",
     "text": [
      "../data/mnist_png/samplesx/*.png\n",
      "samplesx import done. the shapes of x and y are: (8, 28, 28) (8, 80)\n"
     ]
    }
   ],
   "source": [
    "samples_x, samples_y = loaddata('samplesx')\n",
    "samples_x = samples_x/np.float32(255)"
   ]
  },
  {
   "cell_type": "code",
   "execution_count": 71,
   "metadata": {},
   "outputs": [
    {
     "data": {
      "text/plain": [
       "(8, 28, 28)"
      ]
     },
     "execution_count": 71,
     "metadata": {},
     "output_type": "execute_result"
    }
   ],
   "source": [
    "samples_x.shape"
   ]
  },
  {
   "cell_type": "code",
   "execution_count": 72,
   "metadata": {},
   "outputs": [
    {
     "data": {
      "image/png": "[encoded data removed]",
      "text/plain": [
       "<Figure size 432x288 with 2 Axes>"
      ]
     },
     "metadata": {
      "needs_background": "light"
     },
     "output_type": "display_data"
    },
    {
     "data": {
      "image/png": "[encoded data removed]",
      "text/plain": [
       "<Figure size 432x288 with 2 Axes>"
      ]
     },
     "metadata": {
      "needs_background": "light"
     },
     "output_type": "display_data"
    },
    {
     "data": {
      "image/png": "[encoded data removed]",
      "text/plain": [
       "<Figure size 432x288 with 2 Axes>"
      ]
     },
     "metadata": {
      "needs_background": "light"
     },
     "output_type": "display_data"
    },
    {
     "data": {
      "image/png": "[encoded data removed]",
      "text/plain": [
       "<Figure size 432x288 with 2 Axes>"
      ]
     },
     "metadata": {
      "needs_background": "light"
     },
     "output_type": "display_data"
    }
   ],
   "source": [
    "plt.figure()\n",
    "plt.imshow(samples_x[0])\n",
    "plt.colorbar()\n",
    "plt.grid(False)\n",
    "\n",
    "plt.figure()\n",
    "plt.imshow(samples_x[1])\n",
    "plt.colorbar()\n",
    "plt.grid(False)\n",
    "\n",
    "plt.figure()\n",
    "plt.imshow(samples_x[2])\n",
    "plt.colorbar()\n",
    "plt.grid(False)\n",
    "\n",
    "plt.figure()\n",
    "plt.imshow(samples_x[3])\n",
    "plt.colorbar()\n",
    "plt.grid(False)\n",
    "\n",
    "\n",
    "plt.show()"
   ]
  },
  {
   "cell_type": "code",
   "execution_count": 73,
   "metadata": {},
   "outputs": [],
   "source": [
    "pred_input_fn = tf.estimator.inputs.numpy_input_fn(\n",
    "    x={\"x\": samples_x},\n",
    "    shuffle=False)"
   ]
  },
  {
   "cell_type": "code",
   "execution_count": 74,
   "metadata": {},
   "outputs": [],
   "source": [
    "predictions = mnist_classifier.predict(input_fn = pred_input_fn)"
   ]
  },
  {
   "cell_type": "code",
   "execution_count": 75,
   "metadata": {},
   "outputs": [],
   "source": [
    "def decode(c):\n",
    "    # too lazy to implement it properly\n",
    "    vector =[]\n",
    "    for i in range(80):\n",
    "        if i == c:\n",
    "            vector.append(1)\n",
    "        else:\n",
    "            vector.append(0)\n",
    "    for label in range(10):\n",
    "        for angle in range(8):\n",
    "            if str_to_vect(label, angle) == vector:\n",
    "                if angle in range(4):\n",
    "                    out = str(90 * angle) + ' degrees'\n",
    "                elif angle == 4:\n",
    "                    out = 'FLIP_LEFT_RIGHT'\n",
    "                elif angle == 5:\n",
    "                    out = '90 degree then FLIP_TOP_BOTTOM'\n",
    "                elif angle == 6:\n",
    "                    out = 'FLIP_TOP_BOTTOM'\n",
    "                elif angle == 7:\n",
    "                    out = '90 degree then FLIP_LEFT_RIGHT'\n",
    "                else:\n",
    "                    out = 'errorrr'\n",
    "                return label, out"
   ]
  },
  {
   "cell_type": "code",
   "execution_count": 76,
   "metadata": {},
   "outputs": [
    {
     "name": "stdout",
     "output_type": "stream",
     "text": [
      "(3, '90 degree then FLIP_LEFT_RIGHT')\n"
     ]
    }
   ],
   "source": [
    "print(decode(73))"
   ]
  },
  {
   "cell_type": "code",
   "execution_count": 77,
   "metadata": {},
   "outputs": [
    {
     "name": "stdout",
     "output_type": "stream",
     "text": [
      "INFO:tensorflow:Calling model_fn.\n",
      "INFO:tensorflow:Done calling model_fn.\n",
      "INFO:tensorflow:Graph was finalized.\n",
      "INFO:tensorflow:Restoring parameters from /var/folders/s0/_bjfgcs11910zcp53lw2y3pc0000gn/T/tmp2oz_lyq_/model.ckpt-5\n",
      "INFO:tensorflow:Running local_init_op.\n",
      "INFO:tensorflow:Done running local_init_op.\n",
      "(1, '180 degrees') \n",
      " [0.01251199 0.01252412 0.01250443 0.01250615 0.01248796 0.0124705\n",
      " 0.0125029  0.012498   0.01249499 0.01249889 0.01251023 0.01252471\n",
      " 0.01249889 0.01250442 0.01248909 0.01246982 0.01249943 0.01250221\n",
      " 0.01249222 0.01250046 0.01250813 0.01252629 0.01250336 0.01250663\n",
      " 0.01248996 0.01247348 0.01250043 0.01251013 0.01249638 0.01250468\n",
      " 0.0125122  0.01251896 0.01249962 0.01250355 0.0124876  0.01247037\n",
      " 0.01250159 0.01250133 0.01249114 0.01250205 0.01250834 0.01252396\n",
      " 0.01250438 0.01250393 0.01248987 0.01247338 0.01250141 0.01250754\n",
      " 0.01249598 0.01250406 0.01251234 0.01251953 0.01249841 0.0125044\n",
      " 0.0124884  0.01246974 0.01250184 0.01250068 0.01249086 0.01250114\n",
      " 0.01250938 0.01252581 0.01250295 0.01250717 0.01248869 0.01247192\n",
      " 0.01250379 0.01250001 0.01249176 0.01250074 0.01250902 0.01252289\n",
      " 0.01249914 0.01250463 0.01248993 0.01247049 0.01249933 0.01250634\n",
      " 0.0124939  0.01250264]\n",
      "(1, 'FLIP_TOP_BOTTOM') \n",
      " [0.01250834 0.01252396 0.01250438 0.01250393 0.01248987 0.01247338\n",
      " 0.01250141 0.01250754 0.01249598 0.01250406 0.01251234 0.01251953\n",
      " 0.01249841 0.0125044  0.0124884  0.01246974 0.01250184 0.01250068\n",
      " 0.01249086 0.01250114 0.01250938 0.01252581 0.01250295 0.01250717\n",
      " 0.01248869 0.01247192 0.01250379 0.01250001 0.01249176 0.01250074\n",
      " 0.01250902 0.01252289 0.01249914 0.01250463 0.01248993 0.01247049\n",
      " 0.01249933 0.01250634 0.0124939  0.01250264 0.01251199 0.01252412\n",
      " 0.01250443 0.01250615 0.01248796 0.0124705  0.0125029  0.012498\n",
      " 0.01249499 0.01249889 0.01251023 0.01252471 0.01249889 0.01250442\n",
      " 0.01248909 0.01246982 0.01249943 0.01250221 0.01249222 0.01250046\n",
      " 0.01250813 0.01252629 0.01250336 0.01250663 0.01248996 0.01247348\n",
      " 0.01250043 0.01251013 0.01249638 0.01250468 0.0125122  0.01251896\n",
      " 0.01249962 0.01250355 0.0124876  0.01247037 0.01250159 0.01250133\n",
      " 0.01249114 0.01250205]\n",
      "(1, '90 degrees') \n",
      " [0.01251023 0.01252471 0.01249889 0.01250442 0.01248909 0.01246982\n",
      " 0.01249943 0.01250221 0.01249222 0.01250046 0.01250813 0.01252629\n",
      " 0.01250336 0.01250663 0.01248996 0.01247348 0.01250043 0.01251013\n",
      " 0.01249638 0.01250468 0.0125122  0.01251896 0.01249962 0.01250355\n",
      " 0.0124876  0.01247037 0.01250159 0.01250133 0.01249114 0.01250205\n",
      " 0.01251199 0.01252412 0.01250443 0.01250615 0.01248796 0.0124705\n",
      " 0.0125029  0.012498   0.01249499 0.01249889 0.01250902 0.01252289\n",
      " 0.01249914 0.01250463 0.01248993 0.01247049 0.01249933 0.01250634\n",
      " 0.0124939  0.01250264 0.01250834 0.01252396 0.01250438 0.01250393\n",
      " 0.01248987 0.01247338 0.01250141 0.01250754 0.01249598 0.01250406\n",
      " 0.01251234 0.01251953 0.01249841 0.0125044  0.0124884  0.01246974\n",
      " 0.01250184 0.01250068 0.01249086 0.01250114 0.01250938 0.01252581\n",
      " 0.01250295 0.01250717 0.01248869 0.01247192 0.01250379 0.01250001\n",
      " 0.01249176 0.01250074]\n",
      "(1, '90 degree then FLIP_LEFT_RIGHT') \n",
      " [0.01251234 0.01251953 0.01249841 0.0125044  0.0124884  0.01246974\n",
      " 0.01250184 0.01250068 0.01249086 0.01250114 0.01250938 0.01252581\n",
      " 0.01250295 0.01250717 0.01248869 0.01247192 0.01250379 0.01250001\n",
      " 0.01249176 0.01250074 0.01250902 0.01252289 0.01249914 0.01250463\n",
      " 0.01248993 0.01247049 0.01249933 0.01250634 0.0124939  0.01250264\n",
      " 0.01250834 0.01252396 0.01250438 0.01250393 0.01248987 0.01247338\n",
      " 0.01250141 0.01250754 0.01249598 0.01250406 0.0125122  0.01251896\n",
      " 0.01249962 0.01250355 0.0124876  0.01247037 0.01250159 0.01250133\n",
      " 0.01249114 0.01250205 0.01251199 0.01252412 0.01250443 0.01250615\n",
      " 0.01248796 0.0124705  0.0125029  0.012498   0.01249499 0.01249889\n",
      " 0.01251023 0.01252471 0.01249889 0.01250442 0.01248909 0.01246982\n",
      " 0.01249943 0.01250221 0.01249222 0.01250046 0.01250813 0.01252629\n",
      " 0.01250336 0.01250663 0.01248996 0.01247348 0.01250043 0.01251013\n",
      " 0.01249638 0.01250468]\n",
      "(1, '0 degrees') \n",
      " [0.01250813 0.01252629 0.01250336 0.01250663 0.01248996 0.01247348\n",
      " 0.01250043 0.01251013 0.01249638 0.01250468 0.0125122  0.01251896\n",
      " 0.01249962 0.01250355 0.0124876  0.01247037 0.01250159 0.01250133\n",
      " 0.01249114 0.01250205 0.01251199 0.01252412 0.01250443 0.01250615\n",
      " 0.01248796 0.0124705  0.0125029  0.012498   0.01249499 0.01249889\n",
      " 0.01251023 0.01252471 0.01249889 0.01250442 0.01248909 0.01246982\n",
      " 0.01249943 0.01250221 0.01249222 0.01250046 0.01250938 0.01252581\n",
      " 0.01250295 0.01250717 0.01248869 0.01247192 0.01250379 0.01250001\n",
      " 0.01249176 0.01250074 0.01250902 0.01252289 0.01249914 0.01250463\n",
      " 0.01248993 0.01247049 0.01249933 0.01250634 0.0124939  0.01250264\n",
      " 0.01250834 0.01252396 0.01250438 0.01250393 0.01248987 0.01247338\n",
      " 0.01250141 0.01250754 0.01249598 0.01250406 0.01251234 0.01251953\n",
      " 0.01249841 0.0125044  0.0124884  0.01246974 0.01250184 0.01250068\n",
      " 0.01249086 0.01250114]\n",
      "(1, 'FLIP_LEFT_RIGHT') \n",
      " [0.01250938 0.01252581 0.01250295 0.01250717 0.01248869 0.01247192\n",
      " 0.01250379 0.01250001 0.01249176 0.01250074 0.01250902 0.01252289\n",
      " 0.01249914 0.01250463 0.01248993 0.01247049 0.01249933 0.01250634\n",
      " 0.0124939  0.01250264 0.01250834 0.01252396 0.01250438 0.01250393\n",
      " 0.01248987 0.01247338 0.01250141 0.01250754 0.01249598 0.01250406\n",
      " 0.01251234 0.01251953 0.01249841 0.0125044  0.0124884  0.01246974\n",
      " 0.01250184 0.01250068 0.01249086 0.01250114 0.01250813 0.01252629\n",
      " 0.01250336 0.01250663 0.01248996 0.01247348 0.01250043 0.01251013\n",
      " 0.01249638 0.01250468 0.0125122  0.01251896 0.01249962 0.01250355\n",
      " 0.0124876  0.01247037 0.01250159 0.01250133 0.01249114 0.01250205\n",
      " 0.01251199 0.01252412 0.01250443 0.01250615 0.01248796 0.0124705\n",
      " 0.0125029  0.012498   0.01249499 0.01249889 0.01251023 0.01252471\n",
      " 0.01249889 0.01250442 0.01248909 0.01246982 0.01249943 0.01250221\n",
      " 0.01249222 0.01250046]\n",
      "(1, '270 degrees') \n",
      " [0.0125122  0.01251896 0.01249962 0.01250355 0.0124876  0.01247037\n",
      " 0.01250159 0.01250133 0.01249114 0.01250205 0.01251199 0.01252412\n",
      " 0.01250443 0.01250615 0.01248796 0.0124705  0.0125029  0.012498\n",
      " 0.01249499 0.01249889 0.01251023 0.01252471 0.01249889 0.01250442\n",
      " 0.01248909 0.01246982 0.01249943 0.01250221 0.01249222 0.01250046\n",
      " 0.01250813 0.01252629 0.01250336 0.01250663 0.01248996 0.01247348\n",
      " 0.01250043 0.01251013 0.01249638 0.01250468 0.01251234 0.01251953\n",
      " 0.01249841 0.0125044  0.0124884  0.01246974 0.01250184 0.01250068\n",
      " 0.01249086 0.01250114 0.01250938 0.01252581 0.01250295 0.01250717\n",
      " 0.01248869 0.01247192 0.01250379 0.01250001 0.01249176 0.01250074\n",
      " 0.01250902 0.01252289 0.01249914 0.01250463 0.01248993 0.01247049\n",
      " 0.01249933 0.01250634 0.0124939  0.01250264 0.01250834 0.01252396\n",
      " 0.01250438 0.01250393 0.01248987 0.01247338 0.01250141 0.01250754\n",
      " 0.01249598 0.01250406]\n",
      "(1, '90 degree then FLIP_TOP_BOTTOM') \n",
      " [0.01250902 0.01252289 0.01249914 0.01250463 0.01248993 0.01247049\n",
      " 0.01249933 0.01250634 0.0124939  0.01250264 0.01250834 0.01252396\n",
      " 0.01250438 0.01250393 0.01248987 0.01247338 0.01250141 0.01250754\n",
      " 0.01249598 0.01250406 0.01251234 0.01251953 0.01249841 0.0125044\n",
      " 0.0124884  0.01246974 0.01250184 0.01250068 0.01249086 0.01250114\n",
      " 0.01250938 0.01252581 0.01250295 0.01250717 0.01248869 0.01247192\n",
      " 0.01250379 0.01250001 0.01249176 0.01250074 0.01251023 0.01252471\n",
      " 0.01249889 0.01250442 0.01248909 0.01246982 0.01249943 0.01250221\n",
      " 0.01249222 0.01250046 0.01250813 0.01252629 0.01250336 0.01250663\n",
      " 0.01248996 0.01247348 0.01250043 0.01251013 0.01249638 0.01250468\n",
      " 0.0125122  0.01251896 0.01249962 0.01250355 0.0124876  0.01247037\n",
      " 0.01250159 0.01250133 0.01249114 0.01250205 0.01251199 0.01252412\n",
      " 0.01250443 0.01250615 0.01248796 0.0124705  0.0125029  0.012498\n",
      " 0.01249499 0.01249889]\n"
     ]
    }
   ],
   "source": [
    "for prediction in predictions:\n",
    "    print (decode(prediction['classes']), '\\n', prediction['probabilities'])"
   ]
  },
  {
   "cell_type": "code",
   "execution_count": 46,
   "metadata": {},
   "outputs": [
    {
     "data": {
      "text/plain": [
       "(8, 80)"
      ]
     },
     "execution_count": 46,
     "metadata": {},
     "output_type": "execute_result"
    }
   ],
   "source": [
    "samples_y.shape"
   ]
  },
  {
   "cell_type": "code",
   "execution_count": 47,
   "metadata": {},
   "outputs": [
    {
     "name": "stdout",
     "output_type": "stream",
     "text": [
      "27 (7, '180 degrees')\n",
      "47 (7, 'FLIP_LEFT_RIGHT')\n",
      "37 (7, '270 degrees')\n",
      "57 (7, '90 degree then FLIP_TOP_BOTTOM')\n",
      "7 (7, '0 degrees')\n",
      "67 (7, 'FLIP_TOP_BOTTOM')\n",
      "17 (7, '90 degrees')\n",
      "77 (7, '90 degree then FLIP_LEFT_RIGHT')\n"
     ]
    }
   ],
   "source": [
    "for y in samples_y:\n",
    "    print (y.argmax(), decode(y.argmax()))"
   ]
  },
  {
   "cell_type": "code",
   "execution_count": null,
   "metadata": {},
   "outputs": [],
   "source": []
  }
 ],
 "metadata": {
  "kernelspec": {
   "display_name": "Python 3",
   "language": "python",
   "name": "python3"
  },
  "language_info": {
   "codemirror_mode": {
    "name": "ipython",
    "version": 3
   },
   "file_extension": ".py",
   "mimetype": "text/x-python",
   "name": "python",
   "nbconvert_exporter": "python",
   "pygments_lexer": "ipython3",
   "version": "3.7.3"
  }
 },
 "nbformat": 4,
 "nbformat_minor": 2
}
